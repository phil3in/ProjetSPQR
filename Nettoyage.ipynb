{
 "cells": [
  {
   "cell_type": "markdown",
   "id": "established-custody",
   "metadata": {},
   "source": [
    "# Nettoyage des données"
   ]
  },
  {
   "cell_type": "code",
   "execution_count": 3,
   "id": "black-nickname",
   "metadata": {},
   "outputs": [],
   "source": [
    "import os\n",
    "import pandas as pd\n",
    "import sqlalchemy\n",
    "from sqlalchemy import create_engine"
   ]
  },
  {
   "cell_type": "code",
   "execution_count": 5,
   "id": "fitting-expression",
   "metadata": {},
   "outputs": [
    {
     "name": "stdout",
     "output_type": "stream",
     "text": [
      "     itemLabel         occupationLabel\n",
      "0  Jules César                écrivain\n",
      "1  Jules César                   poète\n",
      "2  Jules César  personnalité politique\n",
      "3  Jules César               dirigeant\n",
      "4  Jules César          chef militaire\n"
     ]
    }
   ],
   "source": [
    "df_occupations = pd.read_table(\"query_occupations.csv\", delimiter =\",\") \n",
    "print(df_occupations.head()) "
   ]
  },
  {
   "cell_type": "code",
   "execution_count": 6,
   "id": "bacterial-saying",
   "metadata": {},
   "outputs": [
    {
     "name": "stdout",
     "output_type": "stream",
     "text": [
      "        itemLabel praenomenLabel nomenLabel cognomenLabel gensLabel sexeLabel  \\\n",
      "0         Laurent            NaN        NaN           NaN       NaN  masculin   \n",
      "1   Constantin II            NaN   Claudius  Constantinus   Claudii  masculin   \n",
      "2        Valérien            NaN        NaN           NaN       NaN  masculin   \n",
      "3  Pline le Jeune          Caius  Caecilius      Secundus  Caecilii  masculin   \n",
      "4  Pline le Jeune          Caius    Plinius      Secundus  Caecilii  masculin   \n",
      "\n",
      "         date_naissance lieu_naissanceLabel             date_mort  \\\n",
      "0  0500-01-01T00:00:00Z                 NaN  0507-01-01T00:00:00Z   \n",
      "1  0316-02-01T00:00:00Z               Arles  0340-04-01T00:00:00Z   \n",
      "2  0200-01-01T00:00:00Z                 NaN  0260-01-01T00:00:00Z   \n",
      "3  0061-01-01T00:00:00Z                Côme  0113-01-01T00:00:00Z   \n",
      "4  0061-01-01T00:00:00Z                Côme  0113-01-01T00:00:00Z   \n",
      "\n",
      "  lieu_mortLabel       pereLabel mereLabel  \n",
      "0           Rome             NaN       NaN  \n",
      "1        Aquilée  Constantin Ier    Fausta  \n",
      "2      Bishapour             NaN       NaN  \n",
      "3       Bithynie             NaN       NaN  \n",
      "4       Bithynie             NaN       NaN  \n"
     ]
    }
   ],
   "source": [
    "df_bio = pd.read_table(\"query_bio.csv\", delimiter =\",\") \n",
    "print(df_bio.head()) "
   ]
  },
  {
   "cell_type": "code",
   "execution_count": 7,
   "id": "manual-portable",
   "metadata": {},
   "outputs": [
    {
     "name": "stdout",
     "output_type": "stream",
     "text": [
      "                                         oeuvreLabel       auteurLabel  \\\n",
      "0  Abrégé des Histoires philippiques de Trogue Po...            Justin   \n",
      "1                                     Noctes Atticae        Aulu-Gelle   \n",
      "2                                        Diatessaron  Tatien le Syrien   \n",
      "3                              Address to the Greeks  Tatien le Syrien   \n",
      "4                                       Controverses  Sénèque l'Ancien   \n",
      "\n",
      "                   titre    genreLabel  \n",
      "0                    NaN           NaN  \n",
      "1         Noctes Atticae      Q1009974  \n",
      "2                    NaN           NaN  \n",
      "3  Ἐπιστολὴ πρὸς Ἕλληνας           NaN  \n",
      "4                    NaN  controversia  \n"
     ]
    }
   ],
   "source": [
    "df_oeuvres = pd.read_table(\"query_oeuvres.csv\", delimiter =\",\") \n",
    "print(df_oeuvres.head()) "
   ]
  },
  {
   "cell_type": "code",
   "execution_count": 8,
   "id": "synthetic-browse",
   "metadata": {},
   "outputs": [
    {
     "name": "stdout",
     "output_type": "stream",
     "text": [
      "     itemLabel     positionLabel\n",
      "0  Jules César            consul\n",
      "1  Jules César           préteur\n",
      "2  Jules César          questeur\n",
      "3  Jules César  pontifex maximus\n",
      "4  Jules César         dictateur\n"
     ]
    }
   ],
   "source": [
    "df_positions = pd.read_table(\"query_positions.csv\", delimiter =\",\") \n",
    "print(df_positions.head()) "
   ]
  },
  {
   "cell_type": "code",
   "execution_count": 11,
   "id": "broadband-federal",
   "metadata": {},
   "outputs": [
    {
     "data": {
      "text/html": [
       "<div>\n",
       "<style scoped>\n",
       "    .dataframe tbody tr th:only-of-type {\n",
       "        vertical-align: middle;\n",
       "    }\n",
       "\n",
       "    .dataframe tbody tr th {\n",
       "        vertical-align: top;\n",
       "    }\n",
       "\n",
       "    .dataframe thead th {\n",
       "        text-align: right;\n",
       "    }\n",
       "</style>\n",
       "<table border=\"1\" class=\"dataframe\">\n",
       "  <thead>\n",
       "    <tr style=\"text-align: right;\">\n",
       "      <th></th>\n",
       "      <th>oeuvreLabel</th>\n",
       "      <th>auteurLabel</th>\n",
       "      <th>titre</th>\n",
       "      <th>genreLabel</th>\n",
       "    </tr>\n",
       "  </thead>\n",
       "  <tbody>\n",
       "    <tr>\n",
       "      <th>0</th>\n",
       "      <td>Abrégé des Histoires philippiques de Trogue Po...</td>\n",
       "      <td>Justin</td>\n",
       "      <td>NaN</td>\n",
       "      <td>NaN</td>\n",
       "    </tr>\n",
       "    <tr>\n",
       "      <th>1</th>\n",
       "      <td>Noctes Atticae</td>\n",
       "      <td>Aulu-Gelle</td>\n",
       "      <td>Noctes Atticae</td>\n",
       "      <td>None</td>\n",
       "    </tr>\n",
       "    <tr>\n",
       "      <th>2</th>\n",
       "      <td>Diatessaron</td>\n",
       "      <td>Tatien le Syrien</td>\n",
       "      <td>NaN</td>\n",
       "      <td>NaN</td>\n",
       "    </tr>\n",
       "    <tr>\n",
       "      <th>3</th>\n",
       "      <td>Address to the Greeks</td>\n",
       "      <td>Tatien le Syrien</td>\n",
       "      <td>Ἐπιστολὴ πρὸς Ἕλληνας</td>\n",
       "      <td>NaN</td>\n",
       "    </tr>\n",
       "    <tr>\n",
       "      <th>4</th>\n",
       "      <td>Controverses</td>\n",
       "      <td>Sénèque l'Ancien</td>\n",
       "      <td>NaN</td>\n",
       "      <td>controversia</td>\n",
       "    </tr>\n",
       "    <tr>\n",
       "      <th>...</th>\n",
       "      <td>...</td>\n",
       "      <td>...</td>\n",
       "      <td>...</td>\n",
       "      <td>...</td>\n",
       "    </tr>\n",
       "    <tr>\n",
       "      <th>130</th>\n",
       "      <td>Pasteur d'Hermas</td>\n",
       "      <td>Hermas</td>\n",
       "      <td>NaN</td>\n",
       "      <td>NaN</td>\n",
       "    </tr>\n",
       "    <tr>\n",
       "      <th>131</th>\n",
       "      <td>Vie d'Apollonios de Tyane</td>\n",
       "      <td>Philostrate d'Athènes</td>\n",
       "      <td>Τὰ ἐς τὸν Τυανέα Ἀπολλώνιον</td>\n",
       "      <td>biographie</td>\n",
       "    </tr>\n",
       "    <tr>\n",
       "      <th>132</th>\n",
       "      <td>Distiques de Caton</td>\n",
       "      <td>Dionysius Cato</td>\n",
       "      <td>NaN</td>\n",
       "      <td>poésie didactique</td>\n",
       "    </tr>\n",
       "    <tr>\n",
       "      <th>133</th>\n",
       "      <td>Sur les maladies aiguës et les maladies chroni...</td>\n",
       "      <td>Caelius Aurelianus</td>\n",
       "      <td>De morbis acutis et chronicis</td>\n",
       "      <td>NaN</td>\n",
       "    </tr>\n",
       "    <tr>\n",
       "      <th>134</th>\n",
       "      <td>Lives of the Sophists</td>\n",
       "      <td>Philostrate d'Athènes</td>\n",
       "      <td>NaN</td>\n",
       "      <td>NaN</td>\n",
       "    </tr>\n",
       "  </tbody>\n",
       "</table>\n",
       "<p>135 rows × 4 columns</p>\n",
       "</div>"
      ],
      "text/plain": [
       "                                           oeuvreLabel            auteurLabel  \\\n",
       "0    Abrégé des Histoires philippiques de Trogue Po...                 Justin   \n",
       "1                                       Noctes Atticae             Aulu-Gelle   \n",
       "2                                          Diatessaron       Tatien le Syrien   \n",
       "3                                Address to the Greeks       Tatien le Syrien   \n",
       "4                                         Controverses       Sénèque l'Ancien   \n",
       "..                                                 ...                    ...   \n",
       "130                                   Pasteur d'Hermas                 Hermas   \n",
       "131                          Vie d'Apollonios de Tyane  Philostrate d'Athènes   \n",
       "132                                 Distiques de Caton         Dionysius Cato   \n",
       "133  Sur les maladies aiguës et les maladies chroni...     Caelius Aurelianus   \n",
       "134                              Lives of the Sophists  Philostrate d'Athènes   \n",
       "\n",
       "                             titre         genreLabel  \n",
       "0                              NaN                NaN  \n",
       "1                   Noctes Atticae               None  \n",
       "2                              NaN                NaN  \n",
       "3            Ἐπιστολὴ πρὸς Ἕλληνας                NaN  \n",
       "4                              NaN       controversia  \n",
       "..                             ...                ...  \n",
       "130                            NaN                NaN  \n",
       "131    Τὰ ἐς τὸν Τυανέα Ἀπολλώνιον         biographie  \n",
       "132                            NaN  poésie didactique  \n",
       "133  De morbis acutis et chronicis                NaN  \n",
       "134                            NaN                NaN  \n",
       "\n",
       "[135 rows x 4 columns]"
      ]
     },
     "execution_count": 11,
     "metadata": {},
     "output_type": "execute_result"
    }
   ],
   "source": [
    "df_oeuvres.replace({\"NaN\":None, \"Q1009974\":None})"
   ]
  },
  {
   "cell_type": "code",
   "execution_count": null,
   "id": "endangered-specific",
   "metadata": {},
   "outputs": [],
   "source": []
  }
 ],
 "metadata": {
  "kernelspec": {
   "display_name": "Python 3",
   "language": "python",
   "name": "python3"
  },
  "language_info": {
   "codemirror_mode": {
    "name": "ipython",
    "version": 3
   },
   "file_extension": ".py",
   "mimetype": "text/x-python",
   "name": "python",
   "nbconvert_exporter": "python",
   "pygments_lexer": "ipython3",
   "version": "3.8.6"
  }
 },
 "nbformat": 4,
 "nbformat_minor": 5
}
