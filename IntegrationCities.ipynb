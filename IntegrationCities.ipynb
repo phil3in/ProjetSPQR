{
 "cells": [
  {
   "cell_type": "code",
   "execution_count": 1,
   "id": "frequent-beatles",
   "metadata": {},
   "outputs": [],
   "source": [
    "import os\n",
    "import psycopg2\n",
    "import pandas as pd\n",
    "import numpy\n",
    "import sqlalchemy\n",
    "import json\n",
    "from sqlalchemy import create_engine "
   ]
  },
  {
   "cell_type": "code",
   "execution_count": 5,
   "id": "measured-restriction",
   "metadata": {},
   "outputs": [],
   "source": [
    "with open('cities.json') as f:\n",
    "  data = json.load(f)\n"
   ]
  },
  {
   "cell_type": "code",
   "execution_count": 7,
   "id": "champion-flush",
   "metadata": {},
   "outputs": [],
   "source": [
    "features = data['features']"
   ]
  },
  {
   "cell_type": "code",
   "execution_count": null,
   "id": "reasonable-morocco",
   "metadata": {},
   "outputs": [],
   "source": [
    "citiesdata = {}"
   ]
  },
  {
   "cell_type": "code",
   "execution_count": null,
   "id": "skilled-theory",
   "metadata": {},
   "outputs": [],
   "source": [
    "for e in features:\n",
    "    e['properties']"
   ]
  },
  {
   "cell_type": "code",
   "execution_count": null,
   "id": "lucky-vessel",
   "metadata": {},
   "outputs": [],
   "source": []
  },
  {
   "cell_type": "code",
   "execution_count": null,
   "id": "intellectual-polyester",
   "metadata": {},
   "outputs": [],
   "source": [
    "coordonnees\n",
    "nom_lat\n",
    "nom_fr\n",
    "type\n",
    "pays\n",
    "province\n"
   ]
  }
 ],
 "metadata": {
  "kernelspec": {
   "display_name": "Python 3",
   "language": "python",
   "name": "python3"
  },
  "language_info": {
   "codemirror_mode": {
    "name": "ipython",
    "version": 3
   },
   "file_extension": ".py",
   "mimetype": "text/x-python",
   "name": "python",
   "nbconvert_exporter": "python",
   "pygments_lexer": "ipython3",
   "version": "3.8.6"
  }
 },
 "nbformat": 4,
 "nbformat_minor": 5
}
