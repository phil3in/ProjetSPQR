{
 "cells": [
  {
   "cell_type": "markdown",
   "id": "demographic-wichita",
   "metadata": {},
   "source": [
    "# Extraction et nettoyage des données Wikidata"
   ]
  },
  {
   "cell_type": "markdown",
   "id": "bibliographic-doctrine",
   "metadata": {},
   "source": [
    "#### Source"
   ]
  },
  {
   "cell_type": "markdown",
   "id": "romance-honolulu",
   "metadata": {},
   "source": [
    "https://query.wikidata.org/"
   ]
  },
  {
   "cell_type": "markdown",
   "id": "emerging-albert",
   "metadata": {},
   "source": [
    "#### Données intéressantes"
   ]
  },
  {
   "cell_type": "markdown",
   "id": "competitive-thinking",
   "metadata": {},
   "source": [
    "* P27 : humains\n",
    "* P21 : sexe\n",
    "* P19 : lieu de naissance\n",
    "* P625 : coordonnées\n",
    "* P569 : date de naissance\n",
    "* P20 : lieu de mort\n",
    "* P2358 : Praenomen\n",
    "* P2359 : Nomen\n",
    "* P2365 : Cognomen\n",
    "* P5025 : Gens\n",
    "* P22 : père\n",
    "* P25 : mère\n",
    "* P18 : image\n",
    "* P106 : occupation\n",
    "* P802 : étudiant\n",
    "* P1066 : étudiant de\n",
    "* P172 : groupe ethnique\n",
    "* P800 : oeuvres notables\n",
    "* P136 : genre\n",
    "* P737 : influencé par\n",
    "* P2348 : période historique\n",
    "* P39 : position\n",
    "* P140 : religion\n",
    "* P411 : canonisation\n",
    "* P509 : cause de la mort\n",
    "* P1196 : manière de la mort (pareil??)\n",
    "* P157 : tué par\n",
    "* P162 : honneurs reçus\n",
    "* P410 : rang militaire\n",
    "* P607 : conflit\n",
    "* P102 : parti politique\n",
    "* P451 : liaison amoureuse"
   ]
  },
  {
   "cell_type": "markdown",
   "id": "changed-possible",
   "metadata": {},
   "source": [
    "#### Requête SPARQL"
   ]
  },
  {
   "cell_type": "markdown",
   "id": "delayed-death",
   "metadata": {},
   "source": [
    "```sql\n",
    "SELECT ?itemLabel ?sex ?birthplaceLabel ?birthdate ?coord ?deathplaceLabel ?praenomenLabel ?gensLabel ?cognomenLabel ?fatherLabel ?motherLabel\n",
    "WHERE \n",
    "{\n",
    "  ?item wdt:P27 wd:Q1747689 .\n",
    "  OPTIONAL {?item wdt:P21 ?sex.}\n",
    "  OPTIONAL {?item wdt:P19 ?birthplace.\n",
    "  ?birthplace wdt:P625 ?coord. }\n",
    "  OPTIONAL {?item wdt:P569 ?birthdate.}\n",
    "  OPTIONAL {?item wdt:P20 ?deathplace.}\n",
    "  OPTIONAL {?item wdt:P2358 ?praenomen.}\n",
    "  OPTIONAL {?item wdt:P5025 ?gens.}\n",
    "  OPTIONAL {?item wdt:P2365 ?cognomen.}\n",
    "  OPTIONAL {?item wdt:P22 ?father.}\n",
    "  OPTIONAL {?item wdt:P25 ?mother.}\n",
    "\n",
    "  SERVICE wikibase:label { bd:serviceParam wikibase:language \"[AUTO_LANGUAGE],en\". }\n",
    "}\n",
    "```"
   ]
  },
  {
   "cell_type": "markdown",
   "id": "settled-concert",
   "metadata": {},
   "source": [
    "#### Organisation tables"
   ]
  },
  {
   "cell_type": "markdown",
   "id": "plain-mechanism",
   "metadata": {},
   "source": [
    "* id\n",
    "* Nom\n",
    "* Praenomen\n",
    "* Nomen\n",
    "* Cognomen\n",
    "* Date de naissance\n",
    "* Lieu de naissance\n",
    "* Coord lieu de naissance\n",
    "* Date de mort\n",
    "* Lieu de mort\n",
    "* Coord lieu de mort\n",
    "* Gens\n",
    "* id Père\n",
    "* id Mère\n",
    "* id Conjoint\n",
    "* id Enfant\n",
    "* Occupation\n",
    "* Position\n",
    "* id Oeuvres"
   ]
  },
  {
   "cell_type": "markdown",
   "id": "metric-asbestos",
   "metadata": {},
   "source": [
    "Table personnes,\n",
    "Table oeuvres,\n",
    "Table géographique ?"
   ]
  },
  {
   "cell_type": "markdown",
   "id": "arbitrary-swiss",
   "metadata": {},
   "source": [
    "Problème : on ne peut pas télécharger trop de données d'un coup.\n",
    "Donc je vais télécharger en plusieurs coups."
   ]
  },
  {
   "cell_type": "markdown",
   "id": "informational-accommodation",
   "metadata": {},
   "source": [
    "### Requête pour la table Bio :"
   ]
  },
  {
   "cell_type": "markdown",
   "id": "french-exclusion",
   "metadata": {},
   "source": [
    "```sql\n",
    "SELECT ?itemLabel ?praenomenLabel ?nomenLabel ?cognomenLabel ?gensLabel ?sexeLabel ?date_naissance ?lieu_naissanceLabel ?date_mort ?lieu_mortLabel ?pereLabel ?mereLabel\n",
    "WHERE \n",
    "{\n",
    "  ?item wdt:P27 wd:Q1747689 .\n",
    "  OPTIONAL {?item wdt:P2358 ?praenomen.}\n",
    "  OPTIONAL {?item wdt:P2359 ?nomen.}\n",
    "  OPTIONAL {?item wdt:P2365 ?cognomen.}\n",
    "  OPTIONAL {?item wdt:P5025 ?gens.}\n",
    "  OPTIONAL {?item wdt:P21 ?sexe.}\n",
    "  OPTIONAL {?item wdt:P569 ?date_naissance.}\n",
    "  OPTIONAL {?item wdt:P19 ?lieu_naissance.}\n",
    "  OPTIONAL {?item wdt:P570 ?date_mort.}\n",
    "  OPTIONAL {?item wdt:P20 ?lieu_mort.}\n",
    "  OPTIONAL {?item wdt:P22 ?pere.}\n",
    "  OPTIONAL {?item wdt:P25 ?mere.}\n",
    "\n",
    "  SERVICE wikibase:label { bd:serviceParam wikibase:language \"[AUTO_LANGUAGE],en\". }\n",
    "}\n",
    "```"
   ]
  },
  {
   "cell_type": "markdown",
   "id": "considerable-thickness",
   "metadata": {},
   "source": [
    "### Requête pour la table Occupations"
   ]
  },
  {
   "cell_type": "markdown",
   "id": "little-thong",
   "metadata": {},
   "source": [
    "```sql\n",
    "SELECT ?itemLabel ?occupationLabel\n",
    "WHERE \n",
    "{\n",
    "  ?item wdt:P27 wd:Q1747689 .\n",
    "  OPTIONAL {?item wdt:P106 ?occupation.}\n",
    "\n",
    "  SERVICE wikibase:label { bd:serviceParam wikibase:language \"[AUTO_LANGUAGE],en\". }\n",
    "}\n",
    "```"
   ]
  },
  {
   "cell_type": "markdown",
   "id": "chubby-sapphire",
   "metadata": {},
   "source": [
    "### Requête pour la table Positions"
   ]
  },
  {
   "cell_type": "markdown",
   "id": "friendly-africa",
   "metadata": {},
   "source": [
    "```sql\n",
    "SELECT ?itemLabel ?positionLabel\n",
    "WHERE \n",
    "{\n",
    "  ?item wdt:P27 wd:Q1747689 .\n",
    "  OPTIONAL {?item wdt:P39 ?position.}\n",
    "\n",
    "  SERVICE wikibase:label { bd:serviceParam wikibase:language \"[AUTO_LANGUAGE],en\". }\n",
    "}\n",
    "```"
   ]
  },
  {
   "cell_type": "markdown",
   "id": "narrative-muslim",
   "metadata": {},
   "source": [
    "### Requête pour la table Oeuvres"
   ]
  },
  {
   "cell_type": "markdown",
   "id": "immune-truck",
   "metadata": {},
   "source": [
    "```sql\n",
    "SELECT ?oeuvreLabel ?auteurLabel ?titre ?genreLabel\n",
    "WHERE \n",
    "{\n",
    "  ?auteur wdt:P31 wd:Q5.\n",
    "  ?auteur wdt:P27 wd:Q1747689.\n",
    "  ?auteur wdt:P106 wd:Q36180.\n",
    "  ?auteur wdt:P800 ?oeuvre.\n",
    "  OPTIONAL {?oeuvre wdt:P1476 ?titre}\n",
    "  OPTIONAL {?oeuvre wdt:P136 ?genre}\n",
    "\n",
    "  \n",
    "  SERVICE wikibase:label { bd:serviceParam wikibase:language \"[AUTO_LANGUAGE],en\". }\n",
    "}\n",
    "```"
   ]
  },
  {
   "cell_type": "markdown",
   "id": "automatic-service",
   "metadata": {},
   "source": [
    "### Requête pour la table Unions"
   ]
  },
  {
   "cell_type": "markdown",
   "id": "special-resolution",
   "metadata": {},
   "source": [
    "```sql\n",
    "SELECT ?itemLabel ?epouseLabel\n",
    "WHERE \n",
    "{\n",
    "  ?item wdt:P27 wd:Q1747689 .\n",
    "  ?item wdt:P21 wd:Q6581097 .\n",
    "  ?item wdt:P26 ?epouse.\n",
    "\n",
    "  SERVICE wikibase:label { bd:serviceParam wikibase:language \"[AUTO_LANGUAGE],en\". }\n",
    "}\n",
    "```"
   ]
  },
  {
   "cell_type": "code",
   "execution_count": null,
   "id": "exposed-match",
   "metadata": {},
   "outputs": [],
   "source": []
  }
 ],
 "metadata": {
  "kernelspec": {
   "display_name": "Python 3",
   "language": "python",
   "name": "python3"
  },
  "language_info": {
   "codemirror_mode": {
    "name": "ipython",
    "version": 3
   },
   "file_extension": ".py",
   "mimetype": "text/x-python",
   "name": "python",
   "nbconvert_exporter": "python",
   "pygments_lexer": "ipython3",
   "version": "3.8.6"
  }
 },
 "nbformat": 4,
 "nbformat_minor": 5
}
