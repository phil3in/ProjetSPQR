{
 "cells": [
  {
   "cell_type": "markdown",
   "id": "adult-gibson",
   "metadata": {},
   "source": [
    "### Test BDD"
   ]
  },
  {
   "cell_type": "code",
   "execution_count": null,
   "id": "talented-toner",
   "metadata": {},
   "outputs": [],
   "source": [
    "import os\n",
    "import psycopg2\n",
    "import pandas as pd\n",
    "import numpy\n",
    "import sqlalchemy\n",
    "from sqlalchemy import create_engine "
   ]
  },
  {
   "cell_type": "markdown",
   "id": "british-corps",
   "metadata": {},
   "source": [
    "#### Création BDD"
   ]
  },
  {
   "cell_type": "code",
   "execution_count": null,
   "id": "binding-lover",
   "metadata": {},
   "outputs": [],
   "source": [
    "mot_passe = os.environ.get('pg_psw')\n"
   ]
  },
  {
   "cell_type": "code",
   "execution_count": null,
   "id": "cathedral-crazy",
   "metadata": {},
   "outputs": [],
   "source": [
    "conn = psycopg2.connect(\n",
    "   database=\"postgres\", user='postgres', password=mot_passe, host='localhost', port= '5432'\n",
    ")\n",
    "conn.autocommit = True\n",
    "\n",
    "cursor = conn.cursor()\n",
    "\n",
    "sql = '''CREATE database ProjetSPQR''';\n",
    "\n",
    "cursor.execute(sql)\n",
    "print(\"Base de données créée avec succès !\")\n",
    "\n",
    "conn.close()\n"
   ]
  },
  {
   "cell_type": "code",
   "execution_count": null,
   "id": "incoming-egypt",
   "metadata": {},
   "outputs": [],
   "source": [
    "conn = psycopg2.connect(\n",
    "   database=\"projetspqr\", user='postgres', password=mot_passe, host='localhost', port= '5432'\n",
    ")\n",
    "conn.autocommit = True\n",
    "\n",
    "cursor = conn.cursor()"
   ]
  },
  {
   "cell_type": "markdown",
   "id": "generous-brooks",
   "metadata": {},
   "source": [
    "#### Création des tables"
   ]
  },
  {
   "cell_type": "code",
   "execution_count": null,
   "id": "atomic-malaysia",
   "metadata": {},
   "outputs": [],
   "source": [
    "def creer_table(conn, sql_creation_table):\n",
    "    try:\n",
    "        cursor = conn.cursor()\n",
    "        cursor.execute(sql_creation_table)\n",
    "        conn.commit()\n",
    "    except psycopg2.Error as e:\n",
    "        print(\"Erreur lors de la création de la table\")\n",
    "        print(e)\n",
    "        return\n",
    "    cursor.close()\n",
    "    print(\"La table a été crée avec succès\")"
   ]
  },
  {
   "cell_type": "code",
   "execution_count": null,
   "id": "analyzed-commitment",
   "metadata": {},
   "outputs": [],
   "source": [
    "sql_creer_table_personne = \"\"\"\n",
    "    CREATE TABLE IF NOT EXISTS personne (\n",
    "    id bigint,\n",
    "    nom_fr text,\n",
    "    praenomen text,\n",
    "    nomen text,\n",
    "    cognomen text,\n",
    "    gens text,\n",
    "    sexe text,\n",
    "    date_naissance text,\n",
    "    lieu_naissance text,\n",
    "    date_mort text,\n",
    "    lieu_mort text,\n",
    "    id_pere bigint,\n",
    "    id_mere bigint,\n",
    "    PRIMARY KEY(id)\n",
    "    );\n",
    "\"\"\""
   ]
  },
  {
   "cell_type": "code",
   "execution_count": null,
   "id": "bigger-double",
   "metadata": {},
   "outputs": [],
   "source": [
    "sql_creer_table_activite = \"\"\"\n",
    "    CREATE TABLE IF NOT EXISTS activite (\n",
    "    personne_id bigint,\n",
    "    activite text,\n",
    "    CONSTRAINT fk_personne\n",
    "        FOREIGN KEY(personne_id)\n",
    "            REFERENCES personne(id)\n",
    "    );\n",
    "\"\"\""
   ]
  },
  {
   "cell_type": "code",
   "execution_count": null,
   "id": "direct-madonna",
   "metadata": {},
   "outputs": [],
   "source": [
    "sql_creer_table_poste = \"\"\"\n",
    "    CREATE TABLE IF NOT EXISTS poste (\n",
    "    personne_id bigint,\n",
    "    poste text,\n",
    "    CONSTRAINT fk_personne\n",
    "        FOREIGN KEY(personne_id)\n",
    "            REFERENCES personne(id)\n",
    "    );\n",
    "\"\"\""
   ]
  },
  {
   "cell_type": "code",
   "execution_count": null,
   "id": "aware-morning",
   "metadata": {},
   "outputs": [],
   "source": [
    "sql_creer_table_mariage = \"\"\"\n",
    "    CREATE TABLE IF NOT EXISTS mariage (\n",
    "    id bigint,\n",
    "    id_mari bigint,\n",
    "    id_epouse bigint,\n",
    "    PRIMARY KEY(id),\n",
    "    CONSTRAINT fk_personne\n",
    "        FOREIGN KEY(id_mari)\n",
    "            REFERENCES personne(id),\n",
    "        FOREIGN KEY(id_epouse)\n",
    "            REFERENCES personne(id)\n",
    "    );\n",
    "\"\"\""
   ]
  },
  {
   "cell_type": "code",
   "execution_count": null,
   "id": "requested-surge",
   "metadata": {},
   "outputs": [],
   "source": [
    "sql_creer_table_oeuvre = \"\"\"\n",
    "    CREATE TABLE IF NOT EXISTS oeuvre (\n",
    "    id bigint,\n",
    "    titre_fr text,\n",
    "    titre_lat text,\n",
    "    auteur_id bigint,\n",
    "    genre text,\n",
    "    PRIMARY KEY(id),\n",
    "    CONSTRAINT fk_personne\n",
    "        FOREIGN KEY(auteur_id)\n",
    "            REFERENCES personne(id)\n",
    ");\n",
    "\"\"\""
   ]
  },
  {
   "cell_type": "code",
   "execution_count": null,
   "id": "alpha-polymer",
   "metadata": {},
   "outputs": [],
   "source": [
    "creer_table(conn, sql_creer_table_personne)\n",
    "creer_table(conn, sql_creer_table_activite)\n",
    "creer_table(conn, sql_creer_table_poste)\n",
    "creer_table(conn, sql_creer_table_mariage)\n",
    "creer_table(conn, sql_creer_table_oeuvre)"
   ]
  },
  {
   "cell_type": "markdown",
   "id": "economic-syndrome",
   "metadata": {},
   "source": [
    "#### Dataframes"
   ]
  },
  {
   "cell_type": "code",
   "execution_count": null,
   "id": "brave-antique",
   "metadata": {},
   "outputs": [],
   "source": [
    "df_personne = pd.read_table(\"query_personne.csv\", delimiter =\",\") \n",
    "print(df_personne.head()) "
   ]
  },
  {
   "cell_type": "code",
   "execution_count": null,
   "id": "correct-shoulder",
   "metadata": {},
   "outputs": [],
   "source": [
    "df_personne.rename(columns={\"item\": \"id\",\n",
    "                            \"itemLabel\": \"nom_fr\",\n",
    "                            \"praenomenLabel\": \"praenomen\",\n",
    "                            \"nomenLabel\": \"nomen\",\n",
    "                            \"cognomenLabel\": \"cognomen\",\n",
    "                            \"gensLabel\": \"gens\",\n",
    "                            \"sexeLabel\": \"sexe\",\n",
    "                            \"pere\": \"id_pere\",\n",
    "                            \"mere\": \"id_mere\"},\n",
    "                  inplace=True)"
   ]
  },
  {
   "cell_type": "code",
   "execution_count": null,
   "id": "floppy-writer",
   "metadata": {},
   "outputs": [],
   "source": [
    "print(df_personne.head())"
   ]
  },
  {
   "cell_type": "code",
   "execution_count": null,
   "id": "emerging-abraham",
   "metadata": {},
   "outputs": [],
   "source": [
    "df_personne['id'] = df_personne.id.str.replace('http://www.wikidata.org/entity/Q', '', regex=True)\n",
    "df_personne['lieu_naissance'] = df_personne.lieu_naissance.str.replace('http://www.wikidata.org/entity/Q', '', regex=True)\n",
    "df_personne['lieu_mort'] = df_personne.lieu_mort.str.replace('http://www.wikidata.org/entity/Q', '', regex=True)\n",
    "df_personne['id_pere'] = df_personne.id_pere.str.replace('http://www.wikidata.org/entity/Q', '', regex=True)\n",
    "df_personne['id_mere'] = df_personne.id_mere.str.replace('http://www.wikidata.org/entity/Q', '', regex=True)"
   ]
  },
  {
   "cell_type": "code",
   "execution_count": null,
   "id": "polar-kenya",
   "metadata": {},
   "outputs": [],
   "source": [
    "df_personne"
   ]
  },
  {
   "cell_type": "code",
   "execution_count": null,
   "id": "studied-senate",
   "metadata": {},
   "outputs": [],
   "source": [
    "df_personne.sort_values(\"id\")"
   ]
  },
  {
   "cell_type": "code",
   "execution_count": null,
   "id": "floating-license",
   "metadata": {},
   "outputs": [],
   "source": [
    "df_personne.drop_duplicates(subset=\"id\", keep=\"first\", inplace=True)"
   ]
  },
  {
   "cell_type": "code",
   "execution_count": null,
   "id": "graphic-client",
   "metadata": {},
   "outputs": [],
   "source": [
    "df_personne"
   ]
  },
  {
   "cell_type": "code",
   "execution_count": null,
   "id": "hungry-airfare",
   "metadata": {},
   "outputs": [],
   "source": [
    "df_personne2 = df_personne.replace(to_replace ='t[0-9]+', value = '', regex = True)\n",
    "df_personne3 = df_personne2.replace(to_replace = '^Q[0-9]+', value = '', regex = True)\n"
   ]
  },
  {
   "cell_type": "code",
   "execution_count": null,
   "id": "growing-burner",
   "metadata": {},
   "outputs": [],
   "source": [
    "df_personne3"
   ]
  },
  {
   "cell_type": "markdown",
   "id": "quiet-uruguay",
   "metadata": {},
   "source": [
    "##### activite"
   ]
  },
  {
   "cell_type": "code",
   "execution_count": null,
   "id": "geographic-reservation",
   "metadata": {},
   "outputs": [],
   "source": [
    "df_activite = pd.read_table(\"query_activite.csv\", delimiter =\",\") \n",
    "print(df_activite.head()) "
   ]
  },
  {
   "cell_type": "code",
   "execution_count": null,
   "id": "injured-tampa",
   "metadata": {},
   "outputs": [],
   "source": [
    "df_activite.rename(columns={\"item\": \"personne_id\",\n",
    "                            \"occupationLabel\": \"activite\"},\n",
    "                  inplace=True)"
   ]
  },
  {
   "cell_type": "code",
   "execution_count": null,
   "id": "listed-triple",
   "metadata": {},
   "outputs": [],
   "source": [
    "df_activite['personne_id'] = df_activite.personne_id.str.replace('http://www.wikidata.org/entity/Q', '', regex=True)"
   ]
  },
  {
   "cell_type": "code",
   "execution_count": null,
   "id": "basic-shore",
   "metadata": {},
   "outputs": [],
   "source": [
    "print(df_activite.head()) "
   ]
  },
  {
   "cell_type": "code",
   "execution_count": null,
   "id": "radical-chair",
   "metadata": {},
   "outputs": [],
   "source": [
    "df_activite2 = df_activite.replace(to_replace = '^t[0-9]+', value = '', regex = True)\n",
    "df_activite3 = df_activite2.replace(to_replace = '^Q[0-9]+', value = '', regex = True)\n"
   ]
  },
  {
   "cell_type": "code",
   "execution_count": null,
   "id": "handed-extraction",
   "metadata": {},
   "outputs": [],
   "source": [
    "df_activite3"
   ]
  },
  {
   "cell_type": "markdown",
   "id": "streaming-render",
   "metadata": {},
   "source": [
    "##### poste"
   ]
  },
  {
   "cell_type": "code",
   "execution_count": null,
   "id": "violent-grave",
   "metadata": {},
   "outputs": [],
   "source": [
    "df_poste = pd.read_table(\"query_poste.csv\", delimiter =\",\") \n",
    "print(df_poste.head()) "
   ]
  },
  {
   "cell_type": "code",
   "execution_count": null,
   "id": "binary-dutch",
   "metadata": {},
   "outputs": [],
   "source": [
    "df_poste.rename(columns={\"item\": \"personne_id\",\n",
    "                            \"positionLabel\": \"poste\"},\n",
    "                  inplace=True)"
   ]
  },
  {
   "cell_type": "code",
   "execution_count": null,
   "id": "creative-entertainment",
   "metadata": {},
   "outputs": [],
   "source": [
    "df_poste['personne_id'] = df_poste.personne_id.str.replace('http://www.wikidata.org/entity/Q', '', regex=True)"
   ]
  },
  {
   "cell_type": "code",
   "execution_count": null,
   "id": "ecological-device",
   "metadata": {},
   "outputs": [],
   "source": [
    "print(df_poste.head()) "
   ]
  },
  {
   "cell_type": "code",
   "execution_count": null,
   "id": "impressive-cable",
   "metadata": {},
   "outputs": [],
   "source": [
    "df_poste2 = df_poste.replace(to_replace ='t[0-9]+', value = '', regex = True)\n",
    "df_poste3 = df_poste2.replace(to_replace = '^Q[0-9]+', value = '', regex = True)\n"
   ]
  },
  {
   "cell_type": "code",
   "execution_count": null,
   "id": "southwest-carrier",
   "metadata": {},
   "outputs": [],
   "source": [
    "df_poste3"
   ]
  },
  {
   "cell_type": "markdown",
   "id": "athletic-reservoir",
   "metadata": {},
   "source": [
    "##### oeuvre"
   ]
  },
  {
   "cell_type": "code",
   "execution_count": null,
   "id": "breeding-lightweight",
   "metadata": {},
   "outputs": [],
   "source": [
    "df_oeuvre = pd.read_table(\"query_oeuvre.csv\", delimiter =\",\") \n",
    "print(df_oeuvre.head()) "
   ]
  },
  {
   "cell_type": "code",
   "execution_count": null,
   "id": "coral-proposition",
   "metadata": {},
   "outputs": [],
   "source": [
    "df_oeuvre.rename(columns={\"oeuvre\": \"id\",\n",
    "                          \"oeuvreLabel\": \"titre_fr\",\n",
    "                          \"titre\": \"titre_lat\",\n",
    "                          \"auteur\": \"auteur_id\",\n",
    "                          \"genreLabel\": \"genre\"},\n",
    "                  inplace=True)"
   ]
  },
  {
   "cell_type": "code",
   "execution_count": null,
   "id": "expensive-civilization",
   "metadata": {},
   "outputs": [],
   "source": [
    "for index, row in df_oeuvre.iterrows():\n",
    "    e = df_oeuvre.at[index, 'id']\n",
    "    e.replace('http://www.wikidata.org/entity/Q', '')"
   ]
  },
  {
   "cell_type": "code",
   "execution_count": null,
   "id": "certain-treasury",
   "metadata": {},
   "outputs": [],
   "source": [
    "print(df_oeuvre.head()) "
   ]
  },
  {
   "cell_type": "code",
   "execution_count": null,
   "id": "varied-evolution",
   "metadata": {},
   "outputs": [],
   "source": [
    "df_oeuvre['id'] = df_oeuvre.id.str.replace('http://www.wikidata.org/entity/Q', '', regex=True)\n",
    "df_oeuvre['auteur_id'] = df_oeuvre.auteur_id.str.replace('http://www.wikidata.org/entity/Q', '', regex=True)"
   ]
  },
  {
   "cell_type": "code",
   "execution_count": null,
   "id": "suspected-village",
   "metadata": {},
   "outputs": [],
   "source": [
    "df_oeuvre"
   ]
  },
  {
   "cell_type": "code",
   "execution_count": null,
   "id": "studied-receipt",
   "metadata": {},
   "outputs": [],
   "source": [
    "df_oeuvre.drop_duplicates(subset=\"id\", keep=\"first\", inplace=True)"
   ]
  },
  {
   "cell_type": "code",
   "execution_count": null,
   "id": "coated-relief",
   "metadata": {},
   "outputs": [],
   "source": [
    "df_oeuvre"
   ]
  },
  {
   "cell_type": "code",
   "execution_count": null,
   "id": "concerned-element",
   "metadata": {},
   "outputs": [],
   "source": [
    "df_oeuvre2 = df_oeuvre.replace(to_replace ='^t[0-9]+', value = '', regex = True)\n",
    "df_oeuvre3 = df_oeuvre2.replace(to_replace = '^Q[0-9]+', value = '', regex = True)\n"
   ]
  },
  {
   "cell_type": "code",
   "execution_count": null,
   "id": "entertaining-bathroom",
   "metadata": {},
   "outputs": [],
   "source": [
    "df_oeuvre3"
   ]
  },
  {
   "cell_type": "markdown",
   "id": "laden-pennsylvania",
   "metadata": {},
   "source": [
    "##### mariage"
   ]
  },
  {
   "cell_type": "code",
   "execution_count": null,
   "id": "electronic-language",
   "metadata": {},
   "outputs": [],
   "source": [
    "df_mariage = pd.read_table(\"query_mariage.csv\", delimiter =\",\") \n",
    "print(df_mariage.head()) "
   ]
  },
  {
   "cell_type": "code",
   "execution_count": null,
   "id": "phantom-challenge",
   "metadata": {},
   "outputs": [],
   "source": [
    "df_mariage.insert(0, 'id', range(0, len(df_mariage)))\n"
   ]
  },
  {
   "cell_type": "code",
   "execution_count": null,
   "id": "criminal-swiss",
   "metadata": {},
   "outputs": [],
   "source": [
    "df_mariage.rename(columns={\"item\": \"id_mari\",\n",
    "                          \"epouse\": \"id_epouse\"},\n",
    "                  inplace=True)"
   ]
  },
  {
   "cell_type": "code",
   "execution_count": null,
   "id": "cooperative-cradle",
   "metadata": {},
   "outputs": [],
   "source": [
    "print(df_mariage.head())"
   ]
  },
  {
   "cell_type": "code",
   "execution_count": null,
   "id": "waiting-transition",
   "metadata": {},
   "outputs": [],
   "source": [
    "df_mariage['id_mari'] = df_mariage.id_mari.str.replace('http://www.wikidata.org/entity/Q', '', regex=True)\n",
    "df_mariage['id_epouse'] = df_mariage.id_epouse.str.replace('http://www.wikidata.org/entity/Q', '', regex=True)"
   ]
  },
  {
   "cell_type": "code",
   "execution_count": null,
   "id": "precise-redhead",
   "metadata": {},
   "outputs": [],
   "source": [
    "print(df_mariage.head()) "
   ]
  },
  {
   "cell_type": "code",
   "execution_count": null,
   "id": "hollow-murder",
   "metadata": {},
   "outputs": [],
   "source": [
    "df_mariage2 = df_mariage.replace(to_replace ='^t[0-9]+', value = '', regex = True)\n",
    "df_mariage3 = df_mariage2.replace(to_replace = '^Q[0-9]+', value = '', regex = True)\n"
   ]
  },
  {
   "cell_type": "code",
   "execution_count": null,
   "id": "clinical-threshold",
   "metadata": {},
   "outputs": [],
   "source": [
    "df_mariage3"
   ]
  },
  {
   "cell_type": "markdown",
   "id": "auburn-commercial",
   "metadata": {},
   "source": [
    "#### Insertion"
   ]
  },
  {
   "cell_type": "code",
   "execution_count": null,
   "id": "reliable-maple",
   "metadata": {},
   "outputs": [],
   "source": [
    "sql_insert_personne = \"\"\"INSERT INTO personne (id, nom_fr, praenomen, nomen, cognomen, gens, sexe, date_naissance, lieu_naissance, date_mort, lieu_mort, id_pere, id_mere) VALUES (%s, %s, %s, %s, %s, %s, %s, %s, %s, %s, %s, %s, %s)\"\"\""
   ]
  },
  {
   "cell_type": "code",
   "execution_count": null,
   "id": "generic-process",
   "metadata": {},
   "outputs": [],
   "source": [
    "sql_insert_oeuvre = \"\"\"INSERT INTO oeuvre (id, titre_fr, titre_lat, auteur_id, genre) VALUES (%s, %s, %s, %s, %s)\"\"\""
   ]
  },
  {
   "cell_type": "code",
   "execution_count": null,
   "id": "horizontal-victory",
   "metadata": {},
   "outputs": [],
   "source": [
    "sql_insert_poste = \"\"\"INSERT INTO poste (personne_id, poste) VALUES (%s, %s)\"\"\""
   ]
  },
  {
   "cell_type": "code",
   "execution_count": null,
   "id": "worst-chinese",
   "metadata": {},
   "outputs": [],
   "source": [
    "sql_insert_activite = \"\"\"INSERT INTO activite (personne_id, activite) VALUES (%s, %s)\"\"\""
   ]
  },
  {
   "cell_type": "code",
   "execution_count": null,
   "id": "subsequent-balloon",
   "metadata": {},
   "outputs": [],
   "source": [
    "sql_insert_mariage = \"\"\"INSERT INTO mariage (id, id_mari, id_epouse) VALUES (%s, %s, %s)\"\"\""
   ]
  },
  {
   "cell_type": "code",
   "execution_count": null,
   "id": "geological-score",
   "metadata": {},
   "outputs": [],
   "source": [
    "conn = psycopg2.connect(\n",
    "   database=\"projetspqr\", user='postgres', password=mot_passe, host='localhost', port= '5432'\n",
    ")\n",
    "conn.autocommit = True\n",
    "\n",
    "cursor = conn.cursor()\n",
    "\n",
    "for index, row in df_personne.iterrows():\n",
    "    cursor.execute(sql_insert_personne, tuple(row))"
   ]
  },
  {
   "cell_type": "code",
   "execution_count": null,
   "id": "stunning-madonna",
   "metadata": {},
   "outputs": [],
   "source": [
    "for index, row in df_oeuvre.iterrows():\n",
    "    cursor.execute(sql_insert_oeuvre, tuple(row))"
   ]
  },
  {
   "cell_type": "code",
   "execution_count": null,
   "id": "vital-stability",
   "metadata": {},
   "outputs": [],
   "source": [
    "for index, row in df_activite.iterrows():\n",
    "    cursor.execute(sql_insert_activite, tuple(row))\n"
   ]
  },
  {
   "cell_type": "code",
   "execution_count": null,
   "id": "clear-denial",
   "metadata": {},
   "outputs": [],
   "source": [
    "for index, row in df_poste.iterrows():\n",
    "    cursor.execute(sql_insert_poste, tuple(row))\n"
   ]
  },
  {
   "cell_type": "code",
   "execution_count": null,
   "id": "enclosed-sharing",
   "metadata": {},
   "outputs": [],
   "source": [
    "for index, row in df_mariage.iterrows():\n",
    "    cursor.execute(sql_insert_mariage, tuple(row))"
   ]
  },
  {
   "cell_type": "code",
   "execution_count": null,
   "id": "velvet-colonial",
   "metadata": {},
   "outputs": [],
   "source": [
    "df_mariage.drop(df_mariage.index[df_mariage['id_epouse'] == 't291183301'], inplace = True)"
   ]
  },
  {
   "cell_type": "code",
   "execution_count": null,
   "id": "typical-preliminary",
   "metadata": {},
   "outputs": [],
   "source": [
    "df_mariage"
   ]
  },
  {
   "cell_type": "code",
   "execution_count": null,
   "id": "optical-trinity",
   "metadata": {},
   "outputs": [],
   "source": [
    "print(df_mariage[2])"
   ]
  },
  {
   "cell_type": "code",
   "execution_count": null,
   "id": "accessible-germany",
   "metadata": {},
   "outputs": [],
   "source": []
  }
 ],
 "metadata": {
  "kernelspec": {
   "display_name": "Python 3",
   "language": "python",
   "name": "python3"
  },
  "language_info": {
   "codemirror_mode": {
    "name": "ipython",
    "version": 3
   },
   "file_extension": ".py",
   "mimetype": "text/x-python",
   "name": "python",
   "nbconvert_exporter": "python",
   "pygments_lexer": "ipython3",
   "version": "3.8.6"
  }
 },
 "nbformat": 4,
 "nbformat_minor": 5
}
