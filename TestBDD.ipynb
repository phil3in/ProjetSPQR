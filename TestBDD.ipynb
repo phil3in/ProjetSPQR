{
 "cells": [
  {
   "cell_type": "markdown",
   "id": "defensive-moisture",
   "metadata": {},
   "source": [
    "### Test BDD"
   ]
  },
  {
   "cell_type": "code",
   "execution_count": null,
   "id": "promotional-charity",
   "metadata": {},
   "outputs": [],
   "source": [
    "import os\n",
    "import psycopg2\n",
    "import pandas as pd\n",
    "import numpy as np\n",
    "import sqlalchemy\n",
    "from sqlalchemy import create_engine "
   ]
  },
  {
   "cell_type": "markdown",
   "id": "prostate-retailer",
   "metadata": {},
   "source": [
    "#### Création BDD"
   ]
  },
  {
   "cell_type": "code",
   "execution_count": null,
   "id": "upper-emphasis",
   "metadata": {},
   "outputs": [],
   "source": [
    "mot_passe = os.environ.get('pg_psw')\n"
   ]
  },
  {
   "cell_type": "code",
   "execution_count": null,
   "id": "incoming-mechanism",
   "metadata": {},
   "outputs": [],
   "source": [
    "conn = psycopg2.connect(\n",
    "   database=\"postgres\", user='postgres', password=mot_passe, host='localhost', port= '5432'\n",
    ")\n",
    "conn.autocommit = True\n",
    "\n",
    "cursor = conn.cursor()\n",
    "\n",
    "sql = '''CREATE database ProjetSPQR''';\n",
    "\n",
    "cursor.execute(sql)\n",
    "print(\"Base de données créée avec succès !\")\n",
    "\n",
    "conn.close()\n"
   ]
  },
  {
   "cell_type": "code",
   "execution_count": null,
   "id": "pressing-steal",
   "metadata": {},
   "outputs": [],
   "source": [
    "conn = psycopg2.connect(\n",
    "   database=\"projetspqr\", user='postgres', password=mot_passe, host='localhost', port= '5432'\n",
    ")\n",
    "conn.autocommit = True\n",
    "\n",
    "cursor = conn.cursor()"
   ]
  },
  {
   "cell_type": "markdown",
   "id": "common-seafood",
   "metadata": {},
   "source": [
    "#### Création des tables"
   ]
  },
  {
   "cell_type": "code",
   "execution_count": null,
   "id": "oriental-composition",
   "metadata": {},
   "outputs": [],
   "source": [
    "def creer_table(conn, sql_creation_table):\n",
    "    try:\n",
    "        cursor = conn.cursor()\n",
    "        cursor.execute(sql_creation_table)\n",
    "        conn.commit()\n",
    "    except psycopg2.Error as e:\n",
    "        print(\"Erreur lors de la création de la table\")\n",
    "        print(e)\n",
    "        return\n",
    "    cursor.close()\n",
    "    print(\"La table a été crée avec succès\")"
   ]
  },
  {
   "cell_type": "code",
   "execution_count": null,
   "id": "advisory-mouth",
   "metadata": {},
   "outputs": [],
   "source": [
    "sql_creer_table_personne = \"\"\"\n",
    "    CREATE TABLE IF NOT EXISTS personne (\n",
    "    id float,\n",
    "    nom_fr text,\n",
    "    praenomen text,\n",
    "    nomen text,\n",
    "    cognomen text,\n",
    "    gens text,\n",
    "    sexe text,\n",
    "    date_naissance date,\n",
    "    lieu_naissance text,\n",
    "    date_mort date,\n",
    "    lieu_mort text,\n",
    "    id_pere float,\n",
    "    id_mere float,\n",
    "    PRIMARY KEY(id)\n",
    "    );\n",
    "\"\"\""
   ]
  },
  {
   "cell_type": "code",
   "execution_count": null,
   "id": "regulated-junction",
   "metadata": {},
   "outputs": [],
   "source": [
    "sql_creer_table_activite = \"\"\"\n",
    "    CREATE TABLE IF NOT EXISTS activite (\n",
    "    personne_id float,\n",
    "    activite text,\n",
    "    CONSTRAINT fk_personne\n",
    "        FOREIGN KEY(personne_id)\n",
    "            REFERENCES personne(id)\n",
    "    );\n",
    "\"\"\""
   ]
  },
  {
   "cell_type": "code",
   "execution_count": null,
   "id": "understood-poetry",
   "metadata": {},
   "outputs": [],
   "source": [
    "sql_creer_table_poste = \"\"\"\n",
    "    CREATE TABLE IF NOT EXISTS poste (\n",
    "    personne_id float,\n",
    "    poste text,\n",
    "    CONSTRAINT fk_personne\n",
    "        FOREIGN KEY(personne_id)\n",
    "            REFERENCES personne(id)\n",
    "    );\n",
    "\"\"\""
   ]
  },
  {
   "cell_type": "code",
   "execution_count": null,
   "id": "angry-saint",
   "metadata": {},
   "outputs": [],
   "source": [
    "sql_creer_table_mariage = \"\"\"\n",
    "    CREATE TABLE IF NOT EXISTS mariage (\n",
    "    id serial,\n",
    "    id_mari float,\n",
    "    id_epouse float,\n",
    "    PRIMARY KEY(id),\n",
    "    CONSTRAINT fk_personne\n",
    "        FOREIGN KEY(id_mari)\n",
    "            REFERENCES personne(id),\n",
    "        FOREIGN KEY(id_epouse)\n",
    "            REFERENCES personne(id)\n",
    "    );\n",
    "\"\"\""
   ]
  },
  {
   "cell_type": "code",
   "execution_count": null,
   "id": "british-effects",
   "metadata": {},
   "outputs": [],
   "source": [
    "sql_creer_table_oeuvre = \"\"\"\n",
    "    CREATE TABLE IF NOT EXISTS oeuvre (\n",
    "    id integer,\n",
    "    titre_fr text,\n",
    "    titre_lat text,\n",
    "    auteur_id float,\n",
    "    genre text,\n",
    "    PRIMARY KEY(id),\n",
    "    CONSTRAINT fk_personne\n",
    "        FOREIGN KEY(auteur_id)\n",
    "            REFERENCES personne(id)\n",
    ");\n",
    "\"\"\""
   ]
  },
  {
   "cell_type": "code",
   "execution_count": null,
   "id": "varying-senate",
   "metadata": {},
   "outputs": [],
   "source": [
    "creer_table(conn, sql_creer_table_personne)\n",
    "creer_table(conn, sql_creer_table_activite)\n",
    "creer_table(conn, sql_creer_table_poste)\n",
    "creer_table(conn, sql_creer_table_mariage)\n",
    "creer_table(conn, sql_creer_table_oeuvre)"
   ]
  },
  {
   "cell_type": "markdown",
   "id": "vanilla-excerpt",
   "metadata": {},
   "source": [
    "#### Dataframes"
   ]
  },
  {
   "cell_type": "code",
   "execution_count": null,
   "id": "strong-production",
   "metadata": {},
   "outputs": [],
   "source": [
    "df_personne = pd.read_table(\"query_personne.csv\", delimiter =\",\") \n",
    "df_personne"
   ]
  },
  {
   "cell_type": "code",
   "execution_count": null,
   "id": "italic-geneva",
   "metadata": {},
   "outputs": [],
   "source": [
    "df_kingdom = pd.read_table(\"query_kingdom.csv\", delimiter =\",\") \n",
    "df_early_republic = pd.read_table(\"query_early_republic.csv\", delimiter =\",\") \n",
    "df_middle_republic = pd.read_table(\"query_middle_republic.csv\", delimiter =\",\") \n",
    "df_late_republic = pd.read_table(\"query_late_republic.csv\", delimiter =\",\") \n",
    "df_high_empire = pd.read_table(\"query_high_empire.csv\", delimiter =\",\") \n",
    "df_low_empire = pd.read_table(\"query_low_empire.csv\", delimiter =\",\")\n",
    "df_spouses = pd.read_table(\"query_spouses.csv\", delimiter =\",\") "
   ]
  },
  {
   "cell_type": "code",
   "execution_count": null,
   "id": "collective-metro",
   "metadata": {},
   "outputs": [],
   "source": [
    "df_personne = df_personne.append(df_kingdom, ignore_index=True)\n",
    "df_personne = df_personne.append(df_early_republic, ignore_index=True)\n",
    "df_personne = df_personne.append(df_middle_republic, ignore_index=True)\n",
    "df_personne = df_personne.append(df_late_republic, ignore_index=True)\n",
    "df_personne = df_personne.append(df_high_empire, ignore_index=True)\n",
    "df_personne = df_personne.append(df_low_empire, ignore_index=True)\n"
   ]
  },
  {
   "cell_type": "code",
   "execution_count": null,
   "id": "wanted-macintosh",
   "metadata": {},
   "outputs": [],
   "source": [
    "df_personne.rename(columns={\"item\": \"id\",\n",
    "                            \"itemLabel\": \"nom_fr\",\n",
    "                            \"praenomenLabel\": \"praenomen\",\n",
    "                            \"nomenLabel\": \"nomen\",\n",
    "                            \"cognomenLabel\": \"cognomen\",\n",
    "                            \"gensLabel\": \"gens\",\n",
    "                            \"sexeLabel\": \"sexe\",\n",
    "                            \"pere\": \"id_pere\",\n",
    "                            \"mere\": \"id_mere\"},\n",
    "                  inplace=True)"
   ]
  },
  {
   "cell_type": "code",
   "execution_count": null,
   "id": "cooperative-posting",
   "metadata": {},
   "outputs": [],
   "source": [
    "print(df_personne.head())"
   ]
  },
  {
   "cell_type": "code",
   "execution_count": null,
   "id": "whole-booking",
   "metadata": {},
   "outputs": [],
   "source": [
    "df_personne['id'] = df_personne.id.str.replace('http://www.wikidata.org/entity/Q', '', regex=True)\n",
    "df_personne['lieu_naissance'] = df_personne.lieu_naissance.str.replace('http://www.wikidata.org/entity/Q', '', regex=True)\n",
    "df_personne['lieu_mort'] = df_personne.lieu_mort.str.replace('http://www.wikidata.org/entity/Q', '', regex=True)\n",
    "df_personne['id_pere'] = df_personne.id_pere.str.replace('http://www.wikidata.org/entity/Q', '', regex=True)\n",
    "df_personne['id_mere'] = df_personne.id_mere.str.replace('http://www.wikidata.org/entity/Q', '', regex=True)"
   ]
  },
  {
   "cell_type": "code",
   "execution_count": null,
   "id": "opposite-dispute",
   "metadata": {},
   "outputs": [],
   "source": [
    "df_personne"
   ]
  },
  {
   "cell_type": "code",
   "execution_count": null,
   "id": "widespread-season",
   "metadata": {},
   "outputs": [],
   "source": [
    "df_personne.sort_values(\"id\")"
   ]
  },
  {
   "cell_type": "code",
   "execution_count": null,
   "id": "intensive-greene",
   "metadata": {},
   "outputs": [],
   "source": [
    "df_personne.drop_duplicates(subset=\"id\", keep=\"first\", inplace=True)"
   ]
  },
  {
   "cell_type": "code",
   "execution_count": null,
   "id": "divine-ireland",
   "metadata": {},
   "outputs": [],
   "source": [
    "df_personne"
   ]
  },
  {
   "cell_type": "code",
   "execution_count": null,
   "id": "liable-segment",
   "metadata": {},
   "outputs": [],
   "source": [
    "df_personne2 = df_personne.replace(to_replace ='t[0-9]+', value = np.nan, regex = True)\n",
    "df_personne3 = df_personne2.replace(to_replace = '^Q[0-9]+', value = np.nan, regex = True)\n",
    "df_personne3['date_naissance'] = df_personne3.date_naissance.str.replace('T00:00:00Z', '', regex=True)\n",
    "df_personne3['date_mort'] = df_personne3.date_mort.str.replace('T00:00:00Z', '', regex=True)"
   ]
  },
  {
   "cell_type": "code",
   "execution_count": null,
   "id": "powerful-anger",
   "metadata": {},
   "outputs": [],
   "source": [
    "df_personne3"
   ]
  },
  {
   "cell_type": "code",
   "execution_count": null,
   "id": "weighted-medicine",
   "metadata": {},
   "outputs": [],
   "source": [
    "df_personne4 = df_personne3.replace(r\"^-([0-9]*-[0-9]*-[0-9]*)$\", r\"\\1BC\", regex = True)\n",
    "df_personne4 = df_personne4.replace(r\"^0000(-[0-9]*-[0-9]*)$\", r\"0001\\1BC\", regex = True)\n",
    "df_personne4"
   ]
  },
  {
   "cell_type": "code",
   "execution_count": null,
   "id": "minus-kelly",
   "metadata": {},
   "outputs": [],
   "source": [
    "df_personne5 = df_personne4.where(pd.notnull(df_personne3), None)"
   ]
  },
  {
   "cell_type": "code",
   "execution_count": null,
   "id": "million-drawing",
   "metadata": {},
   "outputs": [],
   "source": [
    "df_personne5"
   ]
  },
  {
   "cell_type": "code",
   "execution_count": null,
   "id": "resistant-think",
   "metadata": {},
   "outputs": [],
   "source": [
    "personne_id_list = df_personne3['id'].tolist()\n"
   ]
  },
  {
   "cell_type": "markdown",
   "id": "spiritual-probe",
   "metadata": {},
   "source": [
    "##### activite"
   ]
  },
  {
   "cell_type": "code",
   "execution_count": null,
   "id": "spoken-slide",
   "metadata": {},
   "outputs": [],
   "source": [
    "df_activite = pd.read_table(\"query_activite.csv\", delimiter =\",\") \n",
    "print(df_activite.head()) "
   ]
  },
  {
   "cell_type": "code",
   "execution_count": null,
   "id": "conscious-surge",
   "metadata": {},
   "outputs": [],
   "source": [
    "df_activite.rename(columns={\"item\": \"personne_id\",\n",
    "                            \"occupationLabel\": \"activite\"},\n",
    "                  inplace=True)"
   ]
  },
  {
   "cell_type": "code",
   "execution_count": null,
   "id": "attached-retailer",
   "metadata": {},
   "outputs": [],
   "source": [
    "df_activite['personne_id'] = df_activite.personne_id.str.replace('http://www.wikidata.org/entity/Q', '', regex=True)"
   ]
  },
  {
   "cell_type": "code",
   "execution_count": null,
   "id": "neither-company",
   "metadata": {},
   "outputs": [],
   "source": [
    "print(df_activite.head()) "
   ]
  },
  {
   "cell_type": "code",
   "execution_count": null,
   "id": "successful-truth",
   "metadata": {},
   "outputs": [],
   "source": [
    "df_activite2 = df_activite.replace(to_replace = '^t[0-9]+', value = np.nan, regex = True)\n",
    "df_activite3 = df_activite2.replace(to_replace = '^Q[0-9]+', value = np.nan, regex = True)\n"
   ]
  },
  {
   "cell_type": "code",
   "execution_count": null,
   "id": "rocky-partner",
   "metadata": {},
   "outputs": [],
   "source": [
    "df_activite3"
   ]
  },
  {
   "cell_type": "markdown",
   "id": "cloudy-missouri",
   "metadata": {},
   "source": [
    "##### poste"
   ]
  },
  {
   "cell_type": "code",
   "execution_count": null,
   "id": "handled-denial",
   "metadata": {},
   "outputs": [],
   "source": [
    "df_poste = pd.read_table(\"query_poste.csv\", delimiter =\",\") \n",
    "print(df_poste.head()) "
   ]
  },
  {
   "cell_type": "code",
   "execution_count": null,
   "id": "junior-ready",
   "metadata": {},
   "outputs": [],
   "source": [
    "df_poste.rename(columns={\"item\": \"personne_id\",\n",
    "                            \"positionLabel\": \"poste\"},\n",
    "                  inplace=True)"
   ]
  },
  {
   "cell_type": "code",
   "execution_count": null,
   "id": "accepted-connection",
   "metadata": {},
   "outputs": [],
   "source": [
    "df_poste['personne_id'] = df_poste.personne_id.str.replace('http://www.wikidata.org/entity/Q', '', regex=True)"
   ]
  },
  {
   "cell_type": "code",
   "execution_count": null,
   "id": "czech-planner",
   "metadata": {},
   "outputs": [],
   "source": [
    "print(df_poste.head()) "
   ]
  },
  {
   "cell_type": "code",
   "execution_count": null,
   "id": "danish-blond",
   "metadata": {},
   "outputs": [],
   "source": [
    "df_poste2 = df_poste.replace(to_replace ='t[0-9]+', value = np.nan, regex = True)\n",
    "df_poste3 = df_poste2.replace(to_replace = '^Q[0-9]+', value = np.nan, regex = True)\n"
   ]
  },
  {
   "cell_type": "code",
   "execution_count": null,
   "id": "occupied-trial",
   "metadata": {},
   "outputs": [],
   "source": [
    "df_poste3"
   ]
  },
  {
   "cell_type": "markdown",
   "id": "disciplinary-robinson",
   "metadata": {},
   "source": [
    "##### oeuvre"
   ]
  },
  {
   "cell_type": "code",
   "execution_count": null,
   "id": "significant-shape",
   "metadata": {},
   "outputs": [],
   "source": [
    "df_oeuvre = pd.read_table(\"query_oeuvre.csv\", delimiter =\",\") \n",
    "print(df_oeuvre.head()) "
   ]
  },
  {
   "cell_type": "code",
   "execution_count": null,
   "id": "loaded-strength",
   "metadata": {},
   "outputs": [],
   "source": [
    "df_oeuvre.rename(columns={\"oeuvre\": \"id\",\n",
    "                          \"oeuvreLabel\": \"titre_fr\",\n",
    "                          \"titre\": \"titre_lat\",\n",
    "                          \"auteur\": \"auteur_id\",\n",
    "                          \"genreLabel\": \"genre\"},\n",
    "                  inplace=True)"
   ]
  },
  {
   "cell_type": "code",
   "execution_count": null,
   "id": "compound-surprise",
   "metadata": {},
   "outputs": [],
   "source": [
    "for index, row in df_oeuvre.iterrows():\n",
    "    e = df_oeuvre.at[index, 'id']\n",
    "    e.replace('http://www.wikidata.org/entity/Q', '')"
   ]
  },
  {
   "cell_type": "code",
   "execution_count": null,
   "id": "olive-pioneer",
   "metadata": {},
   "outputs": [],
   "source": [
    "print(df_oeuvre.head()) "
   ]
  },
  {
   "cell_type": "code",
   "execution_count": null,
   "id": "reduced-luxembourg",
   "metadata": {},
   "outputs": [],
   "source": [
    "df_oeuvre['id'] = df_oeuvre.id.str.replace('http://www.wikidata.org/entity/Q', '', regex=True)\n",
    "df_oeuvre['auteur_id'] = df_oeuvre.auteur_id.str.replace('http://www.wikidata.org/entity/Q', '', regex=True)"
   ]
  },
  {
   "cell_type": "code",
   "execution_count": null,
   "id": "prepared-dance",
   "metadata": {},
   "outputs": [],
   "source": [
    "df_oeuvre"
   ]
  },
  {
   "cell_type": "code",
   "execution_count": null,
   "id": "specialized-killer",
   "metadata": {},
   "outputs": [],
   "source": [
    "df_oeuvre.drop_duplicates(subset=\"id\", keep=\"first\", inplace=True)"
   ]
  },
  {
   "cell_type": "code",
   "execution_count": null,
   "id": "forbidden-virgin",
   "metadata": {},
   "outputs": [],
   "source": [
    "df_oeuvre"
   ]
  },
  {
   "cell_type": "code",
   "execution_count": null,
   "id": "christian-miracle",
   "metadata": {},
   "outputs": [],
   "source": [
    "df_oeuvre2 = df_oeuvre.replace(to_replace ='^t[0-9]+', value = np.nan, regex = True)\n",
    "df_oeuvre3 = df_oeuvre2.replace(to_replace = '^Q[0-9]+', value = np.nan, regex = True)\n"
   ]
  },
  {
   "cell_type": "code",
   "execution_count": null,
   "id": "civic-robertson",
   "metadata": {},
   "outputs": [],
   "source": [
    "df_oeuvre3"
   ]
  },
  {
   "cell_type": "markdown",
   "id": "endangered-prevention",
   "metadata": {},
   "source": [
    "##### mariage"
   ]
  },
  {
   "cell_type": "code",
   "execution_count": null,
   "id": "exciting-texture",
   "metadata": {},
   "outputs": [],
   "source": [
    "df_mariage = pd.read_table(\"query_mariage.csv\", delimiter =\",\") \n",
    "print(df_mariage.head()) "
   ]
  },
  {
   "cell_type": "code",
   "execution_count": null,
   "id": "becoming-emission",
   "metadata": {},
   "outputs": [],
   "source": [
    "df_mariage.rename(columns={\"item\": \"id_mari\",\n",
    "                          \"epouse\": \"id_epouse\"},\n",
    "                  inplace=True)"
   ]
  },
  {
   "cell_type": "code",
   "execution_count": null,
   "id": "exact-platform",
   "metadata": {},
   "outputs": [],
   "source": [
    "print(df_mariage.head())"
   ]
  },
  {
   "cell_type": "code",
   "execution_count": null,
   "id": "opening-function",
   "metadata": {},
   "outputs": [],
   "source": [
    "df_mariage['id_mari'] = df_mariage.id_mari.str.replace('http://www.wikidata.org/entity/Q', '', regex=True)\n",
    "df_mariage['id_epouse'] = df_mariage.id_epouse.str.replace('http://www.wikidata.org/entity/Q', '', regex=True)"
   ]
  },
  {
   "cell_type": "code",
   "execution_count": null,
   "id": "becoming-plasma",
   "metadata": {},
   "outputs": [],
   "source": [
    "print(df_mariage.head()) "
   ]
  },
  {
   "cell_type": "code",
   "execution_count": null,
   "id": "wanted-jimmy",
   "metadata": {},
   "outputs": [],
   "source": [
    "df_mariage2 = df_mariage.replace(to_replace ='^t[0-9]+', value = np.nan, regex = True)\n",
    "df_mariage3 = df_mariage2.replace(to_replace = '^Q[0-9]+', value = np.nan, regex = True)\n",
    "df_mariage3"
   ]
  },
  {
   "cell_type": "code",
   "execution_count": null,
   "id": "amber-diamond",
   "metadata": {},
   "outputs": [],
   "source": [
    "df_mariage3.dropna(subset = [\"id_epouse\"], inplace=True)\n",
    "df_mariage3"
   ]
  },
  {
   "cell_type": "code",
   "execution_count": null,
   "id": "similar-letters",
   "metadata": {},
   "outputs": [],
   "source": [
    "for e in df_mariage3['id_epouse']:\n",
    "    if e not in personne_id_list:\n",
    "        df_mariage3.drop(df_mariage3.loc[df_mariage3['id_epouse']==e].index, inplace=True)"
   ]
  },
  {
   "cell_type": "code",
   "execution_count": null,
   "id": "surface-building",
   "metadata": {},
   "outputs": [],
   "source": [
    "df_mariage3"
   ]
  },
  {
   "cell_type": "code",
   "execution_count": null,
   "id": "corrected-advertising",
   "metadata": {},
   "outputs": [],
   "source": [
    "df_mariage4 = df_mariage3.reset_index(drop=True)\n",
    "df_mariage4"
   ]
  },
  {
   "cell_type": "code",
   "execution_count": null,
   "id": "pressing-devil",
   "metadata": {},
   "outputs": [],
   "source": [
    "df_mariage4.insert(0, 'id', range(0, len(df_mariage4)))\n",
    "\n",
    "df_mariage4"
   ]
  },
  {
   "cell_type": "markdown",
   "id": "figured-assignment",
   "metadata": {},
   "source": [
    "#### Insertion"
   ]
  },
  {
   "cell_type": "code",
   "execution_count": null,
   "id": "inclusive-profit",
   "metadata": {},
   "outputs": [],
   "source": [
    "sql_insert_personne = \"\"\"INSERT INTO personne (id, nom_fr, praenomen, nomen, cognomen, gens, sexe, date_naissance, lieu_naissance, date_mort, lieu_mort, id_pere, id_mere) VALUES (%s, %s, %s, %s, %s, %s, %s, %s, %s, %s, %s, %s, %s)\"\"\""
   ]
  },
  {
   "cell_type": "code",
   "execution_count": null,
   "id": "headed-litigation",
   "metadata": {},
   "outputs": [],
   "source": [
    "sql_insert_oeuvre = \"\"\"INSERT INTO oeuvre (id, titre_fr, titre_lat, auteur_id, genre) VALUES (%s, %s, %s, %s, %s)\"\"\""
   ]
  },
  {
   "cell_type": "code",
   "execution_count": null,
   "id": "sonic-zealand",
   "metadata": {},
   "outputs": [],
   "source": [
    "sql_insert_poste = \"\"\"INSERT INTO poste (personne_id, poste) VALUES (%s, %s)\"\"\""
   ]
  },
  {
   "cell_type": "code",
   "execution_count": null,
   "id": "cloudy-burner",
   "metadata": {},
   "outputs": [],
   "source": [
    "sql_insert_activite = \"\"\"INSERT INTO activite (personne_id, activite) VALUES (%s, %s)\"\"\""
   ]
  },
  {
   "cell_type": "code",
   "execution_count": null,
   "id": "suitable-civilian",
   "metadata": {},
   "outputs": [],
   "source": [
    "sql_insert_mariage = \"\"\"INSERT INTO mariage (id, id_mari, id_epouse) VALUES (%s, %s, %s)\"\"\""
   ]
  },
  {
   "cell_type": "code",
   "execution_count": null,
   "id": "super-archives",
   "metadata": {},
   "outputs": [],
   "source": [
    "conn = psycopg2.connect(\n",
    "   database=\"projetspqr\", user='postgres', password=mot_passe, host='localhost', port= '5432'\n",
    ")\n",
    "conn.autocommit = True\n",
    "\n",
    "cursor = conn.cursor()\n",
    "\n",
    "for index, row in df_personne5.iterrows():\n",
    "    cursor.execute(sql_insert_personne, tuple(row))"
   ]
  },
  {
   "cell_type": "code",
   "execution_count": null,
   "id": "equal-sleeping",
   "metadata": {},
   "outputs": [],
   "source": [
    "for index, row in df_oeuvre3.iterrows():\n",
    "    cursor.execute(sql_insert_oeuvre, tuple(row))"
   ]
  },
  {
   "cell_type": "code",
   "execution_count": null,
   "id": "simple-advisory",
   "metadata": {},
   "outputs": [],
   "source": [
    "for index, row in df_activite3.iterrows():\n",
    "    cursor.execute(sql_insert_activite, tuple(row))\n"
   ]
  },
  {
   "cell_type": "code",
   "execution_count": null,
   "id": "arabic-crime",
   "metadata": {},
   "outputs": [],
   "source": [
    "for index, row in df_poste3.iterrows():\n",
    "    cursor.execute(sql_insert_poste, tuple(row))\n"
   ]
  },
  {
   "cell_type": "code",
   "execution_count": null,
   "id": "perceived-worker",
   "metadata": {},
   "outputs": [],
   "source": [
    "for index, row in df_mariage4.iterrows():\n",
    "    cursor.execute(sql_insert_mariage, tuple(row))"
   ]
  },
  {
   "cell_type": "code",
   "execution_count": null,
   "id": "secondary-excerpt",
   "metadata": {},
   "outputs": [],
   "source": []
  }
 ],
 "metadata": {
  "kernelspec": {
   "display_name": "Python 3",
   "language": "python",
   "name": "python3"
  },
  "language_info": {
   "codemirror_mode": {
    "name": "ipython",
    "version": 3
   },
   "file_extension": ".py",
   "mimetype": "text/x-python",
   "name": "python",
   "nbconvert_exporter": "python",
   "pygments_lexer": "ipython3",
   "version": "3.8.6"
  }
 },
 "nbformat": 4,
 "nbformat_minor": 5
}
