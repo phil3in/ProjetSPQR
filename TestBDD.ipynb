{
 "cells": [
  {
   "cell_type": "markdown",
   "id": "important-communication",
   "metadata": {},
   "source": [
    "### Test BDD"
   ]
  },
  {
   "cell_type": "code",
   "execution_count": 1,
   "id": "allied-trunk",
   "metadata": {},
   "outputs": [],
   "source": [
    "import os\n",
    "import psycopg2\n",
    "import pandas as pd\n",
    "import numpy\n",
    "import sqlalchemy\n",
    "from sqlalchemy import create_engine "
   ]
  },
  {
   "cell_type": "markdown",
   "id": "legislative-recording",
   "metadata": {},
   "source": [
    "#### Création BDD"
   ]
  },
  {
   "cell_type": "code",
   "execution_count": 2,
   "id": "fantastic-preview",
   "metadata": {},
   "outputs": [],
   "source": [
    "mot_passe = os.environ.get('pg_psw')\n"
   ]
  },
  {
   "cell_type": "code",
   "execution_count": 3,
   "id": "southern-fiber",
   "metadata": {},
   "outputs": [
    {
     "name": "stdout",
     "output_type": "stream",
     "text": [
      "Base de données créée avec succès !\n"
     ]
    }
   ],
   "source": [
    "conn = psycopg2.connect(\n",
    "   database=\"postgres\", user='postgres', password=mot_passe, host='localhost', port= '5432'\n",
    ")\n",
    "conn.autocommit = True\n",
    "\n",
    "cursor = conn.cursor()\n",
    "\n",
    "sql = '''CREATE database ProjetSPQR''';\n",
    "\n",
    "cursor.execute(sql)\n",
    "print(\"Base de données créée avec succès !\")\n",
    "\n",
    "conn.close()\n"
   ]
  },
  {
   "cell_type": "code",
   "execution_count": 4,
   "id": "cognitive-helen",
   "metadata": {},
   "outputs": [],
   "source": [
    "conn = psycopg2.connect(\n",
    "   database=\"projetspqr\", user='postgres', password=mot_passe, host='localhost', port= '5432'\n",
    ")\n",
    "conn.autocommit = True\n",
    "\n",
    "cursor = conn.cursor()"
   ]
  },
  {
   "cell_type": "markdown",
   "id": "effective-criticism",
   "metadata": {},
   "source": [
    "#### Création des tables"
   ]
  },
  {
   "cell_type": "code",
   "execution_count": 5,
   "id": "civilian-drain",
   "metadata": {},
   "outputs": [],
   "source": [
    "def creer_table(conn, sql_creation_table):\n",
    "    try:\n",
    "        cursor = conn.cursor()\n",
    "        cursor.execute(sql_creation_table)\n",
    "        conn.commit()\n",
    "    except psycopg2.Error as e:\n",
    "        print(\"Erreur lors de la création de la table\")\n",
    "        print(e)\n",
    "        return\n",
    "    cursor.close()\n",
    "    print(\"La table a été crée avec succès\")"
   ]
  },
  {
   "cell_type": "code",
   "execution_count": 6,
   "id": "floating-perspective",
   "metadata": {},
   "outputs": [],
   "source": [
    "sql_creer_table_personne = \"\"\"\n",
    "    CREATE TABLE IF NOT EXISTS personne (\n",
    "    id text,\n",
    "    nom_fr text,\n",
    "    praenomen text,\n",
    "    nomen text,\n",
    "    cognomen text,\n",
    "    gens text,\n",
    "    sexe text,\n",
    "    date_naissance text,\n",
    "    lieu_naissance text,\n",
    "    date_mort text,\n",
    "    lieu_mort text,\n",
    "    id_pere text,\n",
    "    id_mere text\n",
    "    );\n",
    "\"\"\""
   ]
  },
  {
   "cell_type": "code",
   "execution_count": 7,
   "id": "verified-large",
   "metadata": {},
   "outputs": [],
   "source": [
    "sql_creer_table_activite = \"\"\"\n",
    "    CREATE TABLE IF NOT EXISTS activite (\n",
    "    personne_id text,\n",
    "    activite text\n",
    "    );\n",
    "\"\"\""
   ]
  },
  {
   "cell_type": "code",
   "execution_count": 8,
   "id": "visible-statement",
   "metadata": {},
   "outputs": [],
   "source": [
    "sql_creer_table_poste = \"\"\"\n",
    "    CREATE TABLE IF NOT EXISTS poste (\n",
    "    personne_id text,\n",
    "    poste text\n",
    "    );\n",
    "\"\"\""
   ]
  },
  {
   "cell_type": "code",
   "execution_count": 9,
   "id": "tutorial-beijing",
   "metadata": {},
   "outputs": [],
   "source": [
    "sql_creer_table_mariage = \"\"\"\n",
    "    CREATE TABLE IF NOT EXISTS mariage (\n",
    "    id text,\n",
    "    id_mari text,\n",
    "    id_epouse text\n",
    "    );\n",
    "\"\"\""
   ]
  },
  {
   "cell_type": "code",
   "execution_count": 10,
   "id": "incoming-graphics",
   "metadata": {},
   "outputs": [],
   "source": [
    "sql_creer_table_oeuvre = \"\"\"\n",
    "    CREATE TABLE IF NOT EXISTS oeuvre (\n",
    "    id text,\n",
    "    titre_fr text,\n",
    "    titre_lat text,\n",
    "    auteur_id text,\n",
    "    genre text\n",
    ");\n",
    "\"\"\""
   ]
  },
  {
   "cell_type": "code",
   "execution_count": 11,
   "id": "upset-discount",
   "metadata": {},
   "outputs": [
    {
     "name": "stdout",
     "output_type": "stream",
     "text": [
      "La table a été crée avec succès\n",
      "La table a été crée avec succès\n",
      "La table a été crée avec succès\n",
      "La table a été crée avec succès\n",
      "La table a été crée avec succès\n"
     ]
    }
   ],
   "source": [
    "creer_table(conn, sql_creer_table_personne)\n",
    "creer_table(conn, sql_creer_table_activite)\n",
    "creer_table(conn, sql_creer_table_poste)\n",
    "creer_table(conn, sql_creer_table_mariage)\n",
    "creer_table(conn, sql_creer_table_oeuvre)"
   ]
  },
  {
   "cell_type": "markdown",
   "id": "clinical-innocent",
   "metadata": {},
   "source": [
    "#### Dataframes"
   ]
  },
  {
   "cell_type": "code",
   "execution_count": 12,
   "id": "alpine-message",
   "metadata": {},
   "outputs": [
    {
     "name": "stdout",
     "output_type": "stream",
     "text": [
      "                                     item                   itemLabel  \\\n",
      "0  http://www.wikidata.org/entity/Q727886  Marcus Valerius Maximianus   \n",
      "1  http://www.wikidata.org/entity/Q728245   Saint Marcian of Syracuse   \n",
      "2  http://www.wikidata.org/entity/Q728335      Lucius Caninius Gallus   \n",
      "3  http://www.wikidata.org/entity/Q728349                   Severinus   \n",
      "4  http://www.wikidata.org/entity/Q728527         Gaius Vibius Marsus   \n",
      "\n",
      "  praenomenLabel nomenLabel cognomenLabel gensLabel sexeLabel  \\\n",
      "0         Marcus   Valerius           NaN   Valerii  masculin   \n",
      "1            NaN        NaN           NaN       NaN  masculin   \n",
      "2         Lucius   Caninius           NaN   Caninii  masculin   \n",
      "3            NaN    Flavius           NaN    Flavii  masculin   \n",
      "4          Caius     Vibius        Marsus     Vibii  masculin   \n",
      "\n",
      "          date_naissance                          lieu_naissance  \\\n",
      "0   0200-01-01T00:00:00Z   http://www.wikidata.org/entity/Q15906   \n",
      "1   0050-01-01T00:00:00Z  http://www.wikidata.org/entity/Q200441   \n",
      "2  -0100-01-01T00:00:00Z                                     NaN   \n",
      "3   0450-01-01T00:00:00Z                                     NaN   \n",
      "4  -0100-01-01T00:00:00Z                                     NaN   \n",
      "\n",
      "               date_mort                              lieu_mort  \\\n",
      "0            t2303561388                                    NaN   \n",
      "1   0068-01-01T00:00:00Z  http://www.wikidata.org/entity/Q13670   \n",
      "2  -0060-01-01T00:00:00Z                                    NaN   \n",
      "3                    NaN                                    NaN   \n",
      "4  -0060-01-01T00:00:00Z                                    NaN   \n",
      "\n",
      "                                      pere mere  \n",
      "0                                      NaN  NaN  \n",
      "1                                      NaN  NaN  \n",
      "2  http://www.wikidata.org/entity/Q1385959  NaN  \n",
      "3                                      NaN  NaN  \n",
      "4                                      NaN  NaN  \n"
     ]
    }
   ],
   "source": [
    "df_personne = pd.read_table(\"query_personne.csv\", delimiter =\",\") \n",
    "print(df_personne.head()) "
   ]
  },
  {
   "cell_type": "code",
   "execution_count": 13,
   "id": "smart-provincial",
   "metadata": {},
   "outputs": [],
   "source": [
    "df_personne.rename(columns={\"item\": \"id\",\n",
    "                            \"itemLabel\": \"nom_fr\",\n",
    "                            \"praenomenLabel\": \"praenomen\",\n",
    "                            \"nomenLabel\": \"nomen\",\n",
    "                            \"cognomenLabel\": \"cognomen\",\n",
    "                            \"gensLabel\": \"gens\",\n",
    "                            \"sexeLabel\": \"sexe\",\n",
    "                            \"pere\": \"id_pere\",\n",
    "                            \"mere\": \"id_mere\"},\n",
    "                  inplace=True)"
   ]
  },
  {
   "cell_type": "code",
   "execution_count": 14,
   "id": "nutritional-compound",
   "metadata": {},
   "outputs": [
    {
     "name": "stdout",
     "output_type": "stream",
     "text": [
      "                                       id                      nom_fr  \\\n",
      "0  http://www.wikidata.org/entity/Q727886  Marcus Valerius Maximianus   \n",
      "1  http://www.wikidata.org/entity/Q728245   Saint Marcian of Syracuse   \n",
      "2  http://www.wikidata.org/entity/Q728335      Lucius Caninius Gallus   \n",
      "3  http://www.wikidata.org/entity/Q728349                   Severinus   \n",
      "4  http://www.wikidata.org/entity/Q728527         Gaius Vibius Marsus   \n",
      "\n",
      "  praenomen     nomen cognomen     gens      sexe         date_naissance  \\\n",
      "0    Marcus  Valerius      NaN  Valerii  masculin   0200-01-01T00:00:00Z   \n",
      "1       NaN       NaN      NaN      NaN  masculin   0050-01-01T00:00:00Z   \n",
      "2    Lucius  Caninius      NaN  Caninii  masculin  -0100-01-01T00:00:00Z   \n",
      "3       NaN   Flavius      NaN   Flavii  masculin   0450-01-01T00:00:00Z   \n",
      "4     Caius    Vibius   Marsus    Vibii  masculin  -0100-01-01T00:00:00Z   \n",
      "\n",
      "                           lieu_naissance              date_mort  \\\n",
      "0   http://www.wikidata.org/entity/Q15906            t2303561388   \n",
      "1  http://www.wikidata.org/entity/Q200441   0068-01-01T00:00:00Z   \n",
      "2                                     NaN  -0060-01-01T00:00:00Z   \n",
      "3                                     NaN                    NaN   \n",
      "4                                     NaN  -0060-01-01T00:00:00Z   \n",
      "\n",
      "                               lieu_mort  \\\n",
      "0                                    NaN   \n",
      "1  http://www.wikidata.org/entity/Q13670   \n",
      "2                                    NaN   \n",
      "3                                    NaN   \n",
      "4                                    NaN   \n",
      "\n",
      "                                   id_pere id_mere  \n",
      "0                                      NaN     NaN  \n",
      "1                                      NaN     NaN  \n",
      "2  http://www.wikidata.org/entity/Q1385959     NaN  \n",
      "3                                      NaN     NaN  \n",
      "4                                      NaN     NaN  \n"
     ]
    }
   ],
   "source": [
    "print(df_personne.head())"
   ]
  },
  {
   "cell_type": "code",
   "execution_count": 15,
   "id": "statistical-hawaii",
   "metadata": {},
   "outputs": [
    {
     "name": "stdout",
     "output_type": "stream",
     "text": [
      "                                    item         occupationLabel\n",
      "0  http://www.wikidata.org/entity/Q46762               militaire\n",
      "1  http://www.wikidata.org/entity/Q46762  personnalité politique\n",
      "2  http://www.wikidata.org/entity/Q46768  personnalité politique\n",
      "3  http://www.wikidata.org/entity/Q46780  personnalité politique\n",
      "4  http://www.wikidata.org/entity/Q46814  personnalité politique\n"
     ]
    }
   ],
   "source": [
    "df_activite = pd.read_table(\"query_activite.csv\", delimiter =\",\") \n",
    "print(df_activite.head()) "
   ]
  },
  {
   "cell_type": "code",
   "execution_count": 16,
   "id": "proved-sound",
   "metadata": {},
   "outputs": [],
   "source": [
    "df_activite.rename(columns={\"item\": \"personne_id\",\n",
    "                            \"occupationLabel\": \"activite\"},\n",
    "                  inplace=True)"
   ]
  },
  {
   "cell_type": "code",
   "execution_count": 17,
   "id": "dangerous-berry",
   "metadata": {},
   "outputs": [
    {
     "name": "stdout",
     "output_type": "stream",
     "text": [
      "                                   item     positionLabel\n",
      "0  http://www.wikidata.org/entity/Q1048            consul\n",
      "1  http://www.wikidata.org/entity/Q1048           préteur\n",
      "2  http://www.wikidata.org/entity/Q1048          questeur\n",
      "3  http://www.wikidata.org/entity/Q1048  pontifex maximus\n",
      "4  http://www.wikidata.org/entity/Q1048         dictateur\n"
     ]
    }
   ],
   "source": [
    "df_poste = pd.read_table(\"query_poste.csv\", delimiter =\",\") \n",
    "print(df_poste.head()) "
   ]
  },
  {
   "cell_type": "code",
   "execution_count": 18,
   "id": "million-universal",
   "metadata": {},
   "outputs": [],
   "source": [
    "df_poste.rename(columns={\"item\": \"personne_id\",\n",
    "                            \"positionLabel\": \"poste\"},\n",
    "                  inplace=True)"
   ]
  },
  {
   "cell_type": "code",
   "execution_count": 19,
   "id": "discrete-ferry",
   "metadata": {},
   "outputs": [
    {
     "name": "stdout",
     "output_type": "stream",
     "text": [
      "                                      oeuvre  \\\n",
      "0   http://www.wikidata.org/entity/Q87213120   \n",
      "1     http://www.wikidata.org/entity/Q660519   \n",
      "2     http://www.wikidata.org/entity/Q932676   \n",
      "3   http://www.wikidata.org/entity/Q19074050   \n",
      "4  http://www.wikidata.org/entity/Q104789146   \n",
      "\n",
      "                                         oeuvreLabel                  titre  \\\n",
      "0  Abrégé des Histoires philippiques de Trogue Po...                    NaN   \n",
      "1                                     Noctes Atticae         Noctes Atticae   \n",
      "2                                        Diatessaron                    NaN   \n",
      "3                              Address to the Greeks  Ἐπιστολὴ πρὸς Ἕλληνας   \n",
      "4                                       Controverses                    NaN   \n",
      "\n",
      "                                   auteur    genreLabel  \n",
      "0  http://www.wikidata.org/entity/Q210853           NaN  \n",
      "1  http://www.wikidata.org/entity/Q294800      Q1009974  \n",
      "2  http://www.wikidata.org/entity/Q272087           NaN  \n",
      "3  http://www.wikidata.org/entity/Q272087           NaN  \n",
      "4  http://www.wikidata.org/entity/Q273671  controversia  \n"
     ]
    }
   ],
   "source": [
    "df_oeuvre = pd.read_table(\"query_oeuvre.csv\", delimiter =\",\") \n",
    "print(df_oeuvre.head()) "
   ]
  },
  {
   "cell_type": "code",
   "execution_count": 20,
   "id": "wooden-harvest",
   "metadata": {},
   "outputs": [],
   "source": [
    "df_oeuvre.rename(columns={\"oeuvre\": \"id\",\n",
    "                          \"oeuvreLabel\": \"titre_fr\",\n",
    "                          \"titre\": \"titre_lat\",\n",
    "                          \"auteur\": \"auteur_id\",\n",
    "                          \"genreLabel\": \"genre\"},\n",
    "                  inplace=True)"
   ]
  },
  {
   "cell_type": "code",
   "execution_count": null,
   "id": "strange-prize",
   "metadata": {},
   "outputs": [],
   "source": [
    "df_oeuvre.loc[df_oeuvre['oeuvre'].str.contains('http://www.wikidata.org/entity/Q'), 'oeuvre'] = s.replace('http://www.wikidata.org/entity/Q', '')"
   ]
  },
  {
   "cell_type": "code",
   "execution_count": null,
   "id": "romance-muslim",
   "metadata": {},
   "outputs": [],
   "source": [
    "for index, row in df_oeuvre.iterrows():\n",
    "    e = df_oeuvre.at[index, 'id']\n",
    "    e.replace('http://www.wikidata.org/entity/Q', '')"
   ]
  },
  {
   "cell_type": "code",
   "execution_count": null,
   "id": "nearby-paintball",
   "metadata": {},
   "outputs": [],
   "source": [
    "print(df_oeuvre.head()) "
   ]
  },
  {
   "cell_type": "code",
   "execution_count": null,
   "id": "sharp-mexico",
   "metadata": {},
   "outputs": [],
   "source": [
    "print(type(df_oeuvre.at[0, 'id']))"
   ]
  },
  {
   "cell_type": "code",
   "execution_count": null,
   "id": "wrong-discount",
   "metadata": {},
   "outputs": [],
   "source": [
    "print(df_oeuvre.at[0, 'id'])"
   ]
  },
  {
   "cell_type": "code",
   "execution_count": null,
   "id": "public-starter",
   "metadata": {},
   "outputs": [],
   "source": [
    "e = df_oeuvre.at[0, 'id']\n",
    "e.replace('http://www.wikidata.org/entity/Q', '')"
   ]
  },
  {
   "cell_type": "code",
   "execution_count": null,
   "id": "liked-billy",
   "metadata": {},
   "outputs": [],
   "source": [
    "for index, row in df_oeuvre.iterrows():\n",
    "    e = df_oeuvre.at[index, 'id']\n",
    "    e.replace('http://www.wikidata.org/entity/Q', '')"
   ]
  },
  {
   "cell_type": "code",
   "execution_count": null,
   "id": "hairy-tiger",
   "metadata": {},
   "outputs": [],
   "source": [
    "df_oeuvre = df_oeuvre.id.str.replace('http://www.wikidata.org/entity/Q', '', regex=True)"
   ]
  },
  {
   "cell_type": "code",
   "execution_count": 21,
   "id": "subtle-planet",
   "metadata": {},
   "outputs": [
    {
     "name": "stdout",
     "output_type": "stream",
     "text": [
      "                                     item  \\\n",
      "0  http://www.wikidata.org/entity/Q170026   \n",
      "1  http://www.wikidata.org/entity/Q170512   \n",
      "2  http://www.wikidata.org/entity/Q171023   \n",
      "3  http://www.wikidata.org/entity/Q171083   \n",
      "4  http://www.wikidata.org/entity/Q172168   \n",
      "\n",
      "                                    epouse  \n",
      "0   http://www.wikidata.org/entity/Q232329  \n",
      "1                               t291183301  \n",
      "2   http://www.wikidata.org/entity/Q383304  \n",
      "3  http://www.wikidata.org/entity/Q4066696  \n",
      "4   http://www.wikidata.org/entity/Q234562  \n"
     ]
    }
   ],
   "source": [
    "df_mariage = pd.read_table(\"query_mariage.csv\", delimiter =\",\") \n",
    "print(df_mariage.head()) "
   ]
  },
  {
   "cell_type": "code",
   "execution_count": 22,
   "id": "hidden-officer",
   "metadata": {},
   "outputs": [],
   "source": [
    "df_mariage.insert(0, 'id', range(0, len(df_mariage)))\n"
   ]
  },
  {
   "cell_type": "code",
   "execution_count": 23,
   "id": "attractive-gateway",
   "metadata": {},
   "outputs": [],
   "source": [
    "df_mariage.rename(columns={\"item\": \"id_mari\",\n",
    "                          \"epouse\": \"id_epouse\"},\n",
    "                  inplace=True)"
   ]
  },
  {
   "cell_type": "code",
   "execution_count": 24,
   "id": "organized-response",
   "metadata": {},
   "outputs": [
    {
     "name": "stdout",
     "output_type": "stream",
     "text": [
      "   id                                 id_mari  \\\n",
      "0   0  http://www.wikidata.org/entity/Q170026   \n",
      "1   1  http://www.wikidata.org/entity/Q170512   \n",
      "2   2  http://www.wikidata.org/entity/Q171023   \n",
      "3   3  http://www.wikidata.org/entity/Q171083   \n",
      "4   4  http://www.wikidata.org/entity/Q172168   \n",
      "\n",
      "                                 id_epouse  \n",
      "0   http://www.wikidata.org/entity/Q232329  \n",
      "1                               t291183301  \n",
      "2   http://www.wikidata.org/entity/Q383304  \n",
      "3  http://www.wikidata.org/entity/Q4066696  \n",
      "4   http://www.wikidata.org/entity/Q234562  \n"
     ]
    }
   ],
   "source": [
    "print(df_mariage.head()) "
   ]
  },
  {
   "cell_type": "markdown",
   "id": "imported-twenty",
   "metadata": {},
   "source": [
    "#### Insertion"
   ]
  },
  {
   "cell_type": "code",
   "execution_count": 25,
   "id": "damaged-terrain",
   "metadata": {},
   "outputs": [],
   "source": [
    "sql_insert_personne = \"\"\"INSERT INTO personne (id, nom_fr, praenomen, nomen, cognomen, gens, sexe, date_naissance, lieu_naissance, date_mort, lieu_mort, id_pere, id_mere) VALUES (%s, %s, %s, %s, %s, %s, %s, %s, %s, %s, %s, %s, %s)\"\"\""
   ]
  },
  {
   "cell_type": "code",
   "execution_count": 26,
   "id": "micro-thumb",
   "metadata": {},
   "outputs": [],
   "source": [
    "sql_insert_oeuvre = \"\"\"INSERT INTO oeuvre (id, titre_fr, titre_lat, auteur_id, genre) VALUES (%s, %s, %s, %s, %s)\"\"\""
   ]
  },
  {
   "cell_type": "code",
   "execution_count": 27,
   "id": "intimate-prince",
   "metadata": {},
   "outputs": [],
   "source": [
    "sql_insert_poste = \"\"\"INSERT INTO poste (personne_id, poste) VALUES (%s, %s)\"\"\""
   ]
  },
  {
   "cell_type": "code",
   "execution_count": 28,
   "id": "macro-technician",
   "metadata": {},
   "outputs": [],
   "source": [
    "sql_insert_activite = \"\"\"INSERT INTO activite (personne_id, activite) VALUES (%s, %s)\"\"\""
   ]
  },
  {
   "cell_type": "code",
   "execution_count": 29,
   "id": "corporate-subdivision",
   "metadata": {},
   "outputs": [],
   "source": [
    "sql_insert_mariage = \"\"\"INSERT INTO mariage (id, id_mari, id_epouse) VALUES (%s, %s, %s)\"\"\""
   ]
  },
  {
   "cell_type": "code",
   "execution_count": 30,
   "id": "according-scott",
   "metadata": {},
   "outputs": [],
   "source": [
    "conn = psycopg2.connect(\n",
    "   database=\"projetspqr\", user='postgres', password=mot_passe, host='localhost', port= '5432'\n",
    ")\n",
    "conn.autocommit = True\n",
    "\n",
    "cursor = conn.cursor()\n",
    "\n",
    "for index, row in df_oeuvre.iterrows():\n",
    "    cursor.execute(sql_insert_oeuvre, tuple(row))"
   ]
  },
  {
   "cell_type": "code",
   "execution_count": 31,
   "id": "grand-access",
   "metadata": {},
   "outputs": [],
   "source": [
    "for index, row in df_personne.iterrows():\n",
    "    cursor.execute(sql_insert_personne, tuple(row))"
   ]
  },
  {
   "cell_type": "code",
   "execution_count": 32,
   "id": "angry-queen",
   "metadata": {},
   "outputs": [],
   "source": [
    "for index, row in df_activite.iterrows():\n",
    "    cursor.execute(sql_insert_activite, tuple(row))\n"
   ]
  },
  {
   "cell_type": "code",
   "execution_count": 33,
   "id": "norwegian-belly",
   "metadata": {},
   "outputs": [],
   "source": [
    "for index, row in df_poste.iterrows():\n",
    "    cursor.execute(sql_insert_poste, tuple(row))\n"
   ]
  },
  {
   "cell_type": "code",
   "execution_count": 34,
   "id": "silver-checkout",
   "metadata": {},
   "outputs": [],
   "source": [
    "for index, row in df_mariage.iterrows():\n",
    "    cursor.execute(sql_insert_mariage, tuple(row))"
   ]
  },
  {
   "cell_type": "code",
   "execution_count": null,
   "id": "arranged-intranet",
   "metadata": {},
   "outputs": [],
   "source": []
  }
 ],
 "metadata": {
  "kernelspec": {
   "display_name": "Python 3",
   "language": "python",
   "name": "python3"
  },
  "language_info": {
   "codemirror_mode": {
    "name": "ipython",
    "version": 3
   },
   "file_extension": ".py",
   "mimetype": "text/x-python",
   "name": "python",
   "nbconvert_exporter": "python",
   "pygments_lexer": "ipython3",
   "version": "3.8.6"
  }
 },
 "nbformat": 4,
 "nbformat_minor": 5
}
