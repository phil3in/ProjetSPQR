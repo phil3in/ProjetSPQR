{
 "cells": [
  {
   "cell_type": "markdown",
   "id": "daily-steam",
   "metadata": {},
   "source": [
    "### Test BDD"
   ]
  },
  {
   "cell_type": "code",
   "execution_count": null,
   "id": "environmental-fleece",
   "metadata": {},
   "outputs": [],
   "source": [
    "import os\n",
    "import psycopg2\n",
    "import pandas as pd\n",
    "import numpy as np\n",
    "import sqlalchemy\n",
    "from sqlalchemy import create_engine "
   ]
  },
  {
   "cell_type": "markdown",
   "id": "current-patent",
   "metadata": {},
   "source": [
    "#### Création BDD"
   ]
  },
  {
   "cell_type": "code",
   "execution_count": null,
   "id": "unique-macedonia",
   "metadata": {},
   "outputs": [],
   "source": [
    "mot_passe = os.environ.get('pg_psw')\n"
   ]
  },
  {
   "cell_type": "code",
   "execution_count": null,
   "id": "eleven-testament",
   "metadata": {},
   "outputs": [],
   "source": [
    "conn = psycopg2.connect(\n",
    "   database=\"postgres\", user='postgres', password=mot_passe, host='localhost', port= '5432'\n",
    ")\n",
    "conn.autocommit = True\n",
    "\n",
    "cursor = conn.cursor()\n",
    "\n",
    "sql = '''CREATE database ProjetSPQR''';\n",
    "\n",
    "cursor.execute(sql)\n",
    "print(\"Base de données créée avec succès !\")\n",
    "\n",
    "conn.close()\n"
   ]
  },
  {
   "cell_type": "code",
   "execution_count": null,
   "id": "graduate-latin",
   "metadata": {},
   "outputs": [],
   "source": [
    "conn = psycopg2.connect(\n",
    "   database=\"projetspqr\", user='postgres', password=mot_passe, host='localhost', port= '5432'\n",
    ")\n",
    "conn.autocommit = True\n",
    "\n",
    "cursor = conn.cursor()"
   ]
  },
  {
   "cell_type": "markdown",
   "id": "modern-implementation",
   "metadata": {},
   "source": [
    "#### Création des tables"
   ]
  },
  {
   "cell_type": "code",
   "execution_count": null,
   "id": "acoustic-episode",
   "metadata": {},
   "outputs": [],
   "source": [
    "def creer_table(conn, sql_creation_table):\n",
    "    try:\n",
    "        cursor = conn.cursor()\n",
    "        cursor.execute(sql_creation_table)\n",
    "        conn.commit()\n",
    "    except psycopg2.Error as e:\n",
    "        print(\"Erreur lors de la création de la table\")\n",
    "        print(e)\n",
    "        return\n",
    "    cursor.close()\n",
    "    print(\"La table a été crée avec succès\")"
   ]
  },
  {
   "cell_type": "code",
   "execution_count": null,
   "id": "owned-namibia",
   "metadata": {},
   "outputs": [],
   "source": [
    "sql_creer_table_personne = \"\"\"\n",
    "    CREATE TABLE IF NOT EXISTS personne (\n",
    "    id integer,\n",
    "    nom_fr text,\n",
    "    praenomen text,\n",
    "    nomen text,\n",
    "    cognomen text,\n",
    "    gens text,\n",
    "    sexe text,\n",
    "    date_naissance date,\n",
    "    lieu_naissance integer,\n",
    "    date_mort date,\n",
    "    lieu_mort integer,\n",
    "    id_pere integer,\n",
    "    id_mere integer,\n",
    "    PRIMARY KEY(id)\n",
    "    );\n",
    "\"\"\""
   ]
  },
  {
   "cell_type": "code",
   "execution_count": null,
   "id": "frank-athletics",
   "metadata": {},
   "outputs": [],
   "source": [
    "sql_creer_table_activite = \"\"\"\n",
    "    CREATE TABLE IF NOT EXISTS activite (\n",
    "    personne_id integer,\n",
    "    activite text,\n",
    "    CONSTRAINT fk_personne\n",
    "        FOREIGN KEY(personne_id)\n",
    "            REFERENCES personne(id)\n",
    "    );\n",
    "\"\"\""
   ]
  },
  {
   "cell_type": "code",
   "execution_count": null,
   "id": "unique-firewall",
   "metadata": {},
   "outputs": [],
   "source": [
    "sql_creer_table_poste = \"\"\"\n",
    "    CREATE TABLE IF NOT EXISTS poste (\n",
    "    personne_id integer,\n",
    "    poste text,\n",
    "    CONSTRAINT fk_personne\n",
    "        FOREIGN KEY(personne_id)\n",
    "            REFERENCES personne(id)\n",
    "    );\n",
    "\"\"\""
   ]
  },
  {
   "cell_type": "code",
   "execution_count": null,
   "id": "accomplished-utility",
   "metadata": {},
   "outputs": [],
   "source": [
    "sql_creer_table_mariage = \"\"\"\n",
    "    CREATE TABLE IF NOT EXISTS mariage (\n",
    "    id serial,\n",
    "    id_mari integer,\n",
    "    id_epouse integer,\n",
    "    PRIMARY KEY(id),\n",
    "    CONSTRAINT fk_personne\n",
    "        FOREIGN KEY(id_mari)\n",
    "            REFERENCES personne(id),\n",
    "        FOREIGN KEY(id_epouse)\n",
    "            REFERENCES personne(id)\n",
    "    );\n",
    "\"\"\""
   ]
  },
  {
   "cell_type": "code",
   "execution_count": null,
   "id": "injured-dietary",
   "metadata": {},
   "outputs": [],
   "source": [
    "sql_creer_table_oeuvre = \"\"\"\n",
    "    CREATE TABLE IF NOT EXISTS oeuvre (\n",
    "    id integer,\n",
    "    titre_fr text,\n",
    "    titre_lat text,\n",
    "    auteur_id integer,\n",
    "    genre text,\n",
    "    PRIMARY KEY(id),\n",
    "    CONSTRAINT fk_personne\n",
    "        FOREIGN KEY(auteur_id)\n",
    "            REFERENCES personne(id)\n",
    ");\n",
    "\"\"\""
   ]
  },
  {
   "cell_type": "code",
   "execution_count": null,
   "id": "balanced-hello",
   "metadata": {},
   "outputs": [],
   "source": [
    "creer_table(conn, sql_creer_table_personne)\n",
    "creer_table(conn, sql_creer_table_activite)\n",
    "creer_table(conn, sql_creer_table_poste)\n",
    "creer_table(conn, sql_creer_table_mariage)\n",
    "creer_table(conn, sql_creer_table_oeuvre)"
   ]
  },
  {
   "cell_type": "markdown",
   "id": "dramatic-permit",
   "metadata": {},
   "source": [
    "#### Dataframes"
   ]
  },
  {
   "cell_type": "code",
   "execution_count": null,
   "id": "greek-crystal",
   "metadata": {},
   "outputs": [],
   "source": [
    "df_personne = pd.read_table(\"data/query_personne.csv\", delimiter =\",\") \n",
    "df_personne"
   ]
  },
  {
   "cell_type": "code",
   "execution_count": null,
   "id": "exact-westminster",
   "metadata": {},
   "outputs": [],
   "source": [
    "df_kingdom = pd.read_table(\"data/query_kingdom.csv\", delimiter =\",\") \n",
    "df_early_republic = pd.read_table(\"data/query_early_republic.csv\", delimiter =\",\") \n",
    "df_middle_republic = pd.read_table(\"data/query_middle_republic.csv\", delimiter =\",\") \n",
    "df_late_republic = pd.read_table(\"data/query_late_republic.csv\", delimiter =\",\") \n",
    "df_high_empire = pd.read_table(\"data/query_high_empire.csv\", delimiter =\",\") \n",
    "df_low_empire = pd.read_table(\"data/query_low_empire.csv\", delimiter =\",\")\n",
    "df_spouses = pd.read_table(\"data/query_spouses.csv\", delimiter =\",\") "
   ]
  },
  {
   "cell_type": "code",
   "execution_count": null,
   "id": "convertible-observation",
   "metadata": {},
   "outputs": [],
   "source": [
    "df_personne = df_personne.append(df_kingdom, ignore_index=True)\n",
    "df_personne = df_personne.append(df_early_republic, ignore_index=True)\n",
    "df_personne = df_personne.append(df_middle_republic, ignore_index=True)\n",
    "df_personne = df_personne.append(df_late_republic, ignore_index=True)\n",
    "df_personne = df_personne.append(df_high_empire, ignore_index=True)\n",
    "df_personne = df_personne.append(df_low_empire, ignore_index=True)\n"
   ]
  },
  {
   "cell_type": "code",
   "execution_count": null,
   "id": "incredible-avenue",
   "metadata": {},
   "outputs": [],
   "source": [
    "df_personne.rename(columns={\"item\": \"id\",\n",
    "                            \"itemLabel\": \"nom_fr\",\n",
    "                            \"praenomenLabel\": \"praenomen\",\n",
    "                            \"nomenLabel\": \"nomen\",\n",
    "                            \"cognomenLabel\": \"cognomen\",\n",
    "                            \"gensLabel\": \"gens\",\n",
    "                            \"sexeLabel\": \"sexe\",\n",
    "                            \"pere\": \"id_pere\",\n",
    "                            \"mere\": \"id_mere\"},\n",
    "                  inplace=True)"
   ]
  },
  {
   "cell_type": "code",
   "execution_count": null,
   "id": "elder-balloon",
   "metadata": {},
   "outputs": [],
   "source": [
    "print(df_personne.head())"
   ]
  },
  {
   "cell_type": "code",
   "execution_count": null,
   "id": "twenty-clothing",
   "metadata": {},
   "outputs": [],
   "source": [
    "df_personne['id'] = df_personne.id.str.replace('http://www.wikidata.org/entity/Q', '', regex=True)\n",
    "df_personne['lieu_naissance'] = df_personne.lieu_naissance.str.replace('http://www.wikidata.org/entity/Q', '', regex=True)\n",
    "df_personne['lieu_mort'] = df_personne.lieu_mort.str.replace('http://www.wikidata.org/entity/Q', '', regex=True)\n",
    "df_personne['id_pere'] = df_personne.id_pere.str.replace('http://www.wikidata.org/entity/Q', '', regex=True)\n",
    "df_personne['id_mere'] = df_personne.id_mere.str.replace('http://www.wikidata.org/entity/Q', '', regex=True)"
   ]
  },
  {
   "cell_type": "code",
   "execution_count": null,
   "id": "fourth-share",
   "metadata": {},
   "outputs": [],
   "source": [
    "df_personne"
   ]
  },
  {
   "cell_type": "code",
   "execution_count": null,
   "id": "certain-manitoba",
   "metadata": {},
   "outputs": [],
   "source": [
    "df_personne.sort_values(\"id\")"
   ]
  },
  {
   "cell_type": "code",
   "execution_count": null,
   "id": "informal-tsunami",
   "metadata": {},
   "outputs": [],
   "source": [
    "df_personne.drop_duplicates(subset=\"id\", keep=\"first\", inplace=True)"
   ]
  },
  {
   "cell_type": "code",
   "execution_count": null,
   "id": "featured-professional",
   "metadata": {},
   "outputs": [],
   "source": [
    "df_personne"
   ]
  },
  {
   "cell_type": "code",
   "execution_count": null,
   "id": "suited-token",
   "metadata": {},
   "outputs": [],
   "source": [
    "df_personne = df_personne.replace(to_replace ='t[0-9]+', value = np.nan, regex = True)\n",
    "df_personne = df_personne.replace(to_replace = '^Q[0-9]+', value = np.nan, regex = True)\n",
    "df_personne['date_naissance'] = df_personne.date_naissance.str.replace('T00:00:00Z', '', regex=True)\n",
    "df_personne['date_mort'] = df_personne.date_mort.str.replace('T00:00:00Z', '', regex=True)"
   ]
  },
  {
   "cell_type": "code",
   "execution_count": null,
   "id": "ordinary-taiwan",
   "metadata": {},
   "outputs": [],
   "source": [
    "df_personne"
   ]
  },
  {
   "cell_type": "code",
   "execution_count": null,
   "id": "gentle-monitoring",
   "metadata": {},
   "outputs": [],
   "source": [
    "df_personne = df_personne.replace(r\"^-([0-9]*-[0-9]*-[0-9]*)$\", r\"\\1BC\", regex = True)\n",
    "df_personne = df_personne.replace(r\"^0000(-[0-9]*-[0-9]*)$\", r\"0001\\1BC\", regex = True)\n",
    "df_personne"
   ]
  },
  {
   "cell_type": "code",
   "execution_count": null,
   "id": "thousand-obligation",
   "metadata": {},
   "outputs": [],
   "source": [
    "df_personne = df_personne.where(pd.notnull(df_personne), None)"
   ]
  },
  {
   "cell_type": "code",
   "execution_count": null,
   "id": "mathematical-tracker",
   "metadata": {},
   "outputs": [],
   "source": [
    "df_personne"
   ]
  },
  {
   "cell_type": "code",
   "execution_count": null,
   "id": "revolutionary-recognition",
   "metadata": {},
   "outputs": [],
   "source": [
    "personne_id_list = df_personne['id'].tolist()\n"
   ]
  },
  {
   "cell_type": "markdown",
   "id": "micro-david",
   "metadata": {},
   "source": [
    "##### activite"
   ]
  },
  {
   "cell_type": "code",
   "execution_count": null,
   "id": "according-lodge",
   "metadata": {},
   "outputs": [],
   "source": [
    "df_activite = pd.read_table(\"data/query_activite.csv\", delimiter =\",\") \n",
    "print(df_activite.head()) "
   ]
  },
  {
   "cell_type": "code",
   "execution_count": null,
   "id": "molecular-panel",
   "metadata": {},
   "outputs": [],
   "source": [
    "df_activite.rename(columns={\"item\": \"personne_id\",\n",
    "                            \"occupationLabel\": \"activite\"},\n",
    "                  inplace=True)"
   ]
  },
  {
   "cell_type": "code",
   "execution_count": null,
   "id": "listed-launch",
   "metadata": {},
   "outputs": [],
   "source": [
    "df_activite['personne_id'] = df_activite.personne_id.str.replace('http://www.wikidata.org/entity/Q', '', regex=True)"
   ]
  },
  {
   "cell_type": "code",
   "execution_count": null,
   "id": "hungarian-intranet",
   "metadata": {},
   "outputs": [],
   "source": [
    "print(df_activite.head()) "
   ]
  },
  {
   "cell_type": "code",
   "execution_count": null,
   "id": "immune-internet",
   "metadata": {},
   "outputs": [],
   "source": [
    "df_activite2 = df_activite.replace(to_replace = '^t[0-9]+', value = np.nan, regex = True)\n",
    "df_activite3 = df_activite2.replace(to_replace = '^Q[0-9]+', value = np.nan, regex = True)\n"
   ]
  },
  {
   "cell_type": "code",
   "execution_count": null,
   "id": "interpreted-dublin",
   "metadata": {},
   "outputs": [],
   "source": [
    "df_activite3"
   ]
  },
  {
   "cell_type": "markdown",
   "id": "integrated-messenger",
   "metadata": {},
   "source": [
    "##### poste"
   ]
  },
  {
   "cell_type": "code",
   "execution_count": null,
   "id": "hundred-violence",
   "metadata": {},
   "outputs": [],
   "source": [
    "df_poste = pd.read_table(\"data/query_poste.csv\", delimiter =\",\") \n",
    "print(df_poste.head()) "
   ]
  },
  {
   "cell_type": "code",
   "execution_count": null,
   "id": "proof-genome",
   "metadata": {},
   "outputs": [],
   "source": [
    "df_poste.rename(columns={\"item\": \"personne_id\",\n",
    "                            \"positionLabel\": \"poste\"},\n",
    "                  inplace=True)"
   ]
  },
  {
   "cell_type": "code",
   "execution_count": null,
   "id": "seventh-designation",
   "metadata": {},
   "outputs": [],
   "source": [
    "df_poste['personne_id'] = df_poste.personne_id.str.replace('http://www.wikidata.org/entity/Q', '', regex=True)"
   ]
  },
  {
   "cell_type": "code",
   "execution_count": null,
   "id": "nervous-course",
   "metadata": {},
   "outputs": [],
   "source": [
    "print(df_poste.head()) "
   ]
  },
  {
   "cell_type": "code",
   "execution_count": null,
   "id": "accessible-target",
   "metadata": {},
   "outputs": [],
   "source": [
    "df_poste2 = df_poste.replace(to_replace ='t[0-9]+', value = np.nan, regex = True)\n",
    "df_poste3 = df_poste2.replace(to_replace = '^Q[0-9]+', value = np.nan, regex = True)\n"
   ]
  },
  {
   "cell_type": "code",
   "execution_count": null,
   "id": "early-flush",
   "metadata": {},
   "outputs": [],
   "source": [
    "df_poste3"
   ]
  },
  {
   "cell_type": "markdown",
   "id": "funded-software",
   "metadata": {},
   "source": [
    "##### oeuvre"
   ]
  },
  {
   "cell_type": "code",
   "execution_count": null,
   "id": "running-editing",
   "metadata": {},
   "outputs": [],
   "source": [
    "df_oeuvre = pd.read_table(\"data/query_oeuvre.csv\", delimiter =\",\") \n",
    "print(df_oeuvre.head()) "
   ]
  },
  {
   "cell_type": "code",
   "execution_count": null,
   "id": "compatible-parallel",
   "metadata": {},
   "outputs": [],
   "source": [
    "df_oeuvre.rename(columns={\"oeuvre\": \"id\",\n",
    "                          \"oeuvreLabel\": \"titre_fr\",\n",
    "                          \"titre\": \"titre_lat\",\n",
    "                          \"auteur\": \"auteur_id\",\n",
    "                          \"genreLabel\": \"genre\"},\n",
    "                  inplace=True)"
   ]
  },
  {
   "cell_type": "code",
   "execution_count": null,
   "id": "modern-directive",
   "metadata": {},
   "outputs": [],
   "source": [
    "for index, row in df_oeuvre.iterrows():\n",
    "    e = df_oeuvre.at[index, 'id']\n",
    "    e.replace('http://www.wikidata.org/entity/Q', '')"
   ]
  },
  {
   "cell_type": "code",
   "execution_count": null,
   "id": "optional-johnston",
   "metadata": {},
   "outputs": [],
   "source": [
    "print(df_oeuvre.head()) "
   ]
  },
  {
   "cell_type": "code",
   "execution_count": null,
   "id": "heavy-inquiry",
   "metadata": {},
   "outputs": [],
   "source": [
    "df_oeuvre['id'] = df_oeuvre.id.str.replace('http://www.wikidata.org/entity/Q', '', regex=True)\n",
    "df_oeuvre['auteur_id'] = df_oeuvre.auteur_id.str.replace('http://www.wikidata.org/entity/Q', '', regex=True)"
   ]
  },
  {
   "cell_type": "code",
   "execution_count": null,
   "id": "returning-belief",
   "metadata": {},
   "outputs": [],
   "source": [
    "df_oeuvre"
   ]
  },
  {
   "cell_type": "code",
   "execution_count": null,
   "id": "written-congress",
   "metadata": {},
   "outputs": [],
   "source": [
    "df_oeuvre.drop_duplicates(subset=\"id\", keep=\"first\", inplace=True)"
   ]
  },
  {
   "cell_type": "code",
   "execution_count": null,
   "id": "homeless-monkey",
   "metadata": {},
   "outputs": [],
   "source": [
    "df_oeuvre"
   ]
  },
  {
   "cell_type": "code",
   "execution_count": null,
   "id": "honest-legislation",
   "metadata": {},
   "outputs": [],
   "source": [
    "df_oeuvre2 = df_oeuvre.replace(to_replace ='^t[0-9]+', value = np.nan, regex = True)\n",
    "df_oeuvre3 = df_oeuvre2.replace(to_replace = '^Q[0-9]+', value = np.nan, regex = True)\n"
   ]
  },
  {
   "cell_type": "code",
   "execution_count": null,
   "id": "divided-section",
   "metadata": {},
   "outputs": [],
   "source": [
    "df_oeuvre3"
   ]
  },
  {
   "cell_type": "markdown",
   "id": "regulated-actress",
   "metadata": {},
   "source": [
    "##### mariage"
   ]
  },
  {
   "cell_type": "code",
   "execution_count": null,
   "id": "unlimited-parallel",
   "metadata": {},
   "outputs": [],
   "source": [
    "df_mariage = pd.read_table(\"data/query_mariage.csv\", delimiter =\",\") \n",
    "print(df_mariage.head()) "
   ]
  },
  {
   "cell_type": "code",
   "execution_count": null,
   "id": "native-pursuit",
   "metadata": {},
   "outputs": [],
   "source": [
    "df_mariage.rename(columns={\"item\": \"id_mari\",\n",
    "                          \"epouse\": \"id_epouse\"},\n",
    "                  inplace=True)"
   ]
  },
  {
   "cell_type": "code",
   "execution_count": null,
   "id": "loving-ranch",
   "metadata": {},
   "outputs": [],
   "source": [
    "print(df_mariage.head())"
   ]
  },
  {
   "cell_type": "code",
   "execution_count": null,
   "id": "premier-atlantic",
   "metadata": {},
   "outputs": [],
   "source": [
    "df_mariage['id_mari'] = df_mariage.id_mari.str.replace('http://www.wikidata.org/entity/Q', '', regex=True)\n",
    "df_mariage['id_epouse'] = df_mariage.id_epouse.str.replace('http://www.wikidata.org/entity/Q', '', regex=True)"
   ]
  },
  {
   "cell_type": "code",
   "execution_count": null,
   "id": "average-sleeping",
   "metadata": {},
   "outputs": [],
   "source": [
    "print(df_mariage.head()) "
   ]
  },
  {
   "cell_type": "code",
   "execution_count": null,
   "id": "public-shoulder",
   "metadata": {},
   "outputs": [],
   "source": [
    "df_mariage2 = df_mariage.replace(to_replace ='^t[0-9]+', value = np.nan, regex = True)\n",
    "df_mariage3 = df_mariage2.replace(to_replace = '^Q[0-9]+', value = np.nan, regex = True)\n",
    "df_mariage3"
   ]
  },
  {
   "cell_type": "code",
   "execution_count": null,
   "id": "significant-signature",
   "metadata": {},
   "outputs": [],
   "source": [
    "df_mariage3.dropna(subset = [\"id_epouse\"], inplace=True)\n",
    "df_mariage3"
   ]
  },
  {
   "cell_type": "code",
   "execution_count": null,
   "id": "imported-necessity",
   "metadata": {},
   "outputs": [],
   "source": [
    "for e in df_mariage3['id_epouse']:\n",
    "    if e not in personne_id_list:\n",
    "        df_mariage3.drop(df_mariage3.loc[df_mariage3['id_epouse']==e].index, inplace=True)"
   ]
  },
  {
   "cell_type": "code",
   "execution_count": null,
   "id": "formed-webmaster",
   "metadata": {},
   "outputs": [],
   "source": [
    "df_mariage3"
   ]
  },
  {
   "cell_type": "code",
   "execution_count": null,
   "id": "connected-blocking",
   "metadata": {},
   "outputs": [],
   "source": [
    "df_mariage4 = df_mariage3.reset_index(drop=True)\n",
    "df_mariage4"
   ]
  },
  {
   "cell_type": "code",
   "execution_count": null,
   "id": "stainless-british",
   "metadata": {},
   "outputs": [],
   "source": [
    "df_mariage4.insert(0, 'id', range(0, len(df_mariage4)))\n",
    "\n",
    "df_mariage4"
   ]
  },
  {
   "cell_type": "markdown",
   "id": "manual-limit",
   "metadata": {},
   "source": [
    "#### Insertion"
   ]
  },
  {
   "cell_type": "code",
   "execution_count": null,
   "id": "conservative-florence",
   "metadata": {},
   "outputs": [],
   "source": [
    "sql_insert_personne = \"\"\"INSERT INTO personne (id, nom_fr, praenomen, nomen, cognomen, gens, sexe, date_naissance, lieu_naissance, date_mort, lieu_mort, id_pere, id_mere) VALUES (%s, %s, %s, %s, %s, %s, %s, %s, %s, %s, %s, %s, %s)\"\"\""
   ]
  },
  {
   "cell_type": "code",
   "execution_count": null,
   "id": "suspected-genius",
   "metadata": {},
   "outputs": [],
   "source": [
    "sql_insert_oeuvre = \"\"\"INSERT INTO oeuvre (id, titre_fr, titre_lat, auteur_id, genre) VALUES (%s, %s, %s, %s, %s)\"\"\""
   ]
  },
  {
   "cell_type": "code",
   "execution_count": null,
   "id": "reverse-paper",
   "metadata": {},
   "outputs": [],
   "source": [
    "sql_insert_poste = \"\"\"INSERT INTO poste (personne_id, poste) VALUES (%s, %s)\"\"\""
   ]
  },
  {
   "cell_type": "code",
   "execution_count": null,
   "id": "horizontal-movement",
   "metadata": {},
   "outputs": [],
   "source": [
    "sql_insert_activite = \"\"\"INSERT INTO activite (personne_id, activite) VALUES (%s, %s)\"\"\""
   ]
  },
  {
   "cell_type": "code",
   "execution_count": null,
   "id": "micro-paintball",
   "metadata": {},
   "outputs": [],
   "source": [
    "sql_insert_mariage = \"\"\"INSERT INTO mariage (id, id_mari, id_epouse) VALUES (%s, %s, %s)\"\"\""
   ]
  },
  {
   "cell_type": "code",
   "execution_count": null,
   "id": "central-token",
   "metadata": {},
   "outputs": [],
   "source": [
    "conn = psycopg2.connect(\n",
    "   database=\"projetspqr\", user='postgres', password=mot_passe, host='localhost', port= '5432'\n",
    ")\n",
    "conn.autocommit = True\n",
    "\n",
    "cursor = conn.cursor()\n",
    "\n",
    "for index, row in df_personne.iterrows():\n",
    "    cursor.execute(sql_insert_personne, tuple(row))"
   ]
  },
  {
   "cell_type": "code",
   "execution_count": null,
   "id": "authentic-hawaiian",
   "metadata": {},
   "outputs": [],
   "source": [
    "for index, row in df_oeuvre3.iterrows():\n",
    "    cursor.execute(sql_insert_oeuvre, tuple(row))"
   ]
  },
  {
   "cell_type": "code",
   "execution_count": null,
   "id": "private-georgia",
   "metadata": {},
   "outputs": [],
   "source": [
    "for index, row in df_activite3.iterrows():\n",
    "    cursor.execute(sql_insert_activite, tuple(row))\n"
   ]
  },
  {
   "cell_type": "code",
   "execution_count": null,
   "id": "negative-remains",
   "metadata": {},
   "outputs": [],
   "source": [
    "for index, row in df_poste3.iterrows():\n",
    "    cursor.execute(sql_insert_poste, tuple(row))\n"
   ]
  },
  {
   "cell_type": "code",
   "execution_count": null,
   "id": "seven-approval",
   "metadata": {},
   "outputs": [],
   "source": [
    "for index, row in df_mariage4.iterrows():\n",
    "    cursor.execute(sql_insert_mariage, tuple(row))"
   ]
  },
  {
   "cell_type": "code",
   "execution_count": null,
   "id": "atomic-castle",
   "metadata": {},
   "outputs": [],
   "source": []
  }
 ],
 "metadata": {
  "kernelspec": {
   "display_name": "Python 3",
   "language": "python",
   "name": "python3"
  },
  "language_info": {
   "codemirror_mode": {
    "name": "ipython",
    "version": 3
   },
   "file_extension": ".py",
   "mimetype": "text/x-python",
   "name": "python",
   "nbconvert_exporter": "python",
   "pygments_lexer": "ipython3",
   "version": "3.8.6"
  }
 },
 "nbformat": 4,
 "nbformat_minor": 5
}
