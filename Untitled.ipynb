{
 "cells": [
  {
   "cell_type": "markdown",
   "id": "quiet-philip",
   "metadata": {},
   "source": [
    "# Extraction et nettoyage des données Wikidata"
   ]
  },
  {
   "cell_type": "markdown",
   "id": "structural-carroll",
   "metadata": {},
   "source": [
    "#### Source"
   ]
  },
  {
   "cell_type": "markdown",
   "id": "planned-crest",
   "metadata": {},
   "source": [
    "https://query.wikidata.org/"
   ]
  },
  {
   "cell_type": "markdown",
   "id": "hairy-colony",
   "metadata": {},
   "source": [
    "#### Données intéressantes"
   ]
  },
  {
   "cell_type": "markdown",
   "id": "continuous-cooperative",
   "metadata": {},
   "source": [
    "* P27 : humains\n",
    "* P21 : sexe\n",
    "* P19 : lieu de naissance\n",
    "* P625 : coordonnées\n",
    "* P569 : date de naissance\n",
    "* P20 : lieu de mort\n",
    "* P2358 : Praenomen\n",
    "* P2359 : Nomen\n",
    "* P2365 : Cognomen\n",
    "* P5025 : Gens\n",
    "* P22 : père\n",
    "* P25 : mère\n",
    "* P18 : image\n",
    "* P106 : occupation\n",
    "* P802 : étudiant\n",
    "* P1066 : étudiant de\n",
    "* P172 : groupe ethnique\n",
    "* P800 : oeuvres notables\n",
    "* P136 : genre\n",
    "* P737 : influencé par\n",
    "* P2348 : période historique\n",
    "* P39 : position\n",
    "* P140 : religion\n",
    "* P411 : canonisation"
   ]
  },
  {
   "cell_type": "markdown",
   "id": "adverse-revelation",
   "metadata": {},
   "source": [
    "#### Requête SPARQL"
   ]
  },
  {
   "cell_type": "markdown",
   "id": "cellular-potter",
   "metadata": {},
   "source": [
    "```sql\n",
    "SELECT ?itemLabel ?sex ?birthplaceLabel ?birthdate ?coord ?deathplaceLabel ?praenomenLabel ?gensLabel ?cognomenLabel ?fatherLabel ?motherLabel\n",
    "WHERE \n",
    "{\n",
    "  ?item wdt:P27 wd:Q1747689 .\n",
    "  OPTIONAL {?item wdt:P21 ?sex.}\n",
    "  OPTIONAL {?item wdt:P19 ?birthplace.\n",
    "  ?birthplace wdt:P625 ?coord. }\n",
    "  OPTIONAL {?item wdt:P569 ?birthdate.}\n",
    "  OPTIONAL {?item wdt:P20 ?deathplace.}\n",
    "  OPTIONAL {?item wdt:P2358 ?praenomen.}\n",
    "  OPTIONAL {?item wdt:P5025 ?gens.}\n",
    "  OPTIONAL {?item wdt:P2365 ?cognomen.}\n",
    "  OPTIONAL {?item wdt:P22 ?father.}\n",
    "  OPTIONAL {?item wdt:P25 ?mother.}\n",
    "\n",
    "  SERVICE wikibase:label { bd:serviceParam wikibase:language \"[AUTO_LANGUAGE],en\". }\n",
    "}\n",
    "```"
   ]
  },
  {
   "cell_type": "markdown",
   "id": "mental-summary",
   "metadata": {},
   "source": [
    "#### Organisation tables"
   ]
  },
  {
   "cell_type": "markdown",
   "id": "medieval-pontiac",
   "metadata": {},
   "source": [
    "* id\n",
    "* Nom\n",
    "* Praenomen\n",
    "* Nomen\n",
    "* Cognomen\n",
    "* Date de naissance\n",
    "* Lieu de naissance\n",
    "* Coord lieu de naissance\n",
    "* Date de mort\n",
    "* Lieu de mort\n",
    "* Coord lieu de mort\n",
    "* Gens\n",
    "* Père\n",
    "* Mère\n",
    "* Conjoint\n",
    "* Enfant\n",
    "* Occupation\n",
    "* Position\n",
    "* Oeuvres"
   ]
  },
  {
   "cell_type": "markdown",
   "id": "baking-grave",
   "metadata": {},
   "source": [
    "Table personnes,\n",
    "Table oeuvres,\n",
    "Table géographique ?"
   ]
  },
  {
   "cell_type": "code",
   "execution_count": null,
   "id": "breathing-disorder",
   "metadata": {},
   "outputs": [],
   "source": []
  }
 ],
 "metadata": {
  "kernelspec": {
   "display_name": "Python 3",
   "language": "python",
   "name": "python3"
  },
  "language_info": {
   "codemirror_mode": {
    "name": "ipython",
    "version": 3
   },
   "file_extension": ".py",
   "mimetype": "text/x-python",
   "name": "python",
   "nbconvert_exporter": "python",
   "pygments_lexer": "ipython3",
   "version": "3.8.6"
  }
 },
 "nbformat": 4,
 "nbformat_minor": 5
}
