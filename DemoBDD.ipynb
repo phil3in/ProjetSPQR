{
 "cells": [
  {
   "cell_type": "markdown",
   "id": "heard-holiday",
   "metadata": {},
   "source": [
    "### Test BDD"
   ]
  },
  {
   "cell_type": "code",
   "execution_count": 1,
   "id": "active-portfolio",
   "metadata": {},
   "outputs": [],
   "source": [
    "import os\n",
    "import psycopg2\n",
    "import pandas as pd\n",
    "import numpy\n",
    "import sqlalchemy\n",
    "from sqlalchemy import create_engine "
   ]
  },
  {
   "cell_type": "markdown",
   "id": "adult-swimming",
   "metadata": {},
   "source": [
    "#### Création BDD"
   ]
  },
  {
   "cell_type": "code",
   "execution_count": 2,
   "id": "sought-sociology",
   "metadata": {},
   "outputs": [],
   "source": [
    "mot_passe = os.environ.get('pg_psw')\n"
   ]
  },
  {
   "cell_type": "code",
   "execution_count": 3,
   "id": "incredible-idaho",
   "metadata": {},
   "outputs": [
    {
     "name": "stdout",
     "output_type": "stream",
     "text": [
      "Base de données créée avec succès !\n"
     ]
    }
   ],
   "source": [
    "conn = psycopg2.connect(\n",
    "   database=\"postgres\", user='postgres', password=mot_passe, host='localhost', port= '5432'\n",
    ")\n",
    "conn.autocommit = True\n",
    "\n",
    "cursor = conn.cursor()\n",
    "\n",
    "sql = '''CREATE database ProjetSPQR''';\n",
    "\n",
    "cursor.execute(sql)\n",
    "print(\"Base de données créée avec succès !\")\n",
    "\n",
    "conn.close()\n"
   ]
  },
  {
   "cell_type": "code",
   "execution_count": 4,
   "id": "resident-treatment",
   "metadata": {},
   "outputs": [],
   "source": [
    "conn = psycopg2.connect(\n",
    "   database=\"projetspqr\", user='postgres', password=mot_passe, host='localhost', port= '5432'\n",
    ")\n",
    "conn.autocommit = True\n",
    "\n",
    "cursor = conn.cursor()"
   ]
  },
  {
   "cell_type": "markdown",
   "id": "proved-builder",
   "metadata": {},
   "source": [
    "#### Création des tables"
   ]
  },
  {
   "cell_type": "code",
   "execution_count": 5,
   "id": "sophisticated-venue",
   "metadata": {},
   "outputs": [],
   "source": [
    "def creer_table(conn, sql_creation_table):\n",
    "    try:\n",
    "        cursor = conn.cursor()\n",
    "        cursor.execute(sql_creation_table)\n",
    "        conn.commit()\n",
    "    except psycopg2.Error as e:\n",
    "        print(\"Erreur lors de la création de la table\")\n",
    "        print(e)\n",
    "        return\n",
    "    cursor.close()\n",
    "    print(\"La table a été crée avec succès\")"
   ]
  },
  {
   "cell_type": "code",
   "execution_count": 6,
   "id": "protective-annual",
   "metadata": {},
   "outputs": [],
   "source": [
    "sql_creer_table_personne = \"\"\"\n",
    "    CREATE TABLE IF NOT EXISTS personne (\n",
    "    id text,\n",
    "    nom_fr text,\n",
    "    praenomen text,\n",
    "    nomen text,\n",
    "    cognomen text,\n",
    "    gens text,\n",
    "    sexe text,\n",
    "    date_naissance text,\n",
    "    lieu_naissance text,\n",
    "    date_mort text,\n",
    "    lieu_mort text,\n",
    "    id_pere text,\n",
    "    id_mere text\n",
    "    );\n",
    "\"\"\""
   ]
  },
  {
   "cell_type": "code",
   "execution_count": 7,
   "id": "drawn-yorkshire",
   "metadata": {},
   "outputs": [],
   "source": [
    "sql_creer_table_activite = \"\"\"\n",
    "    CREATE TABLE IF NOT EXISTS activite (\n",
    "    personne_id text,\n",
    "    activite text\n",
    "    );\n",
    "\"\"\""
   ]
  },
  {
   "cell_type": "code",
   "execution_count": 8,
   "id": "fallen-sullivan",
   "metadata": {},
   "outputs": [],
   "source": [
    "sql_creer_table_poste = \"\"\"\n",
    "    CREATE TABLE IF NOT EXISTS poste (\n",
    "    personne_id text,\n",
    "    poste text\n",
    "    );\n",
    "\"\"\""
   ]
  },
  {
   "cell_type": "code",
   "execution_count": 9,
   "id": "mighty-hammer",
   "metadata": {},
   "outputs": [],
   "source": [
    "sql_creer_table_mariage = \"\"\"\n",
    "    CREATE TABLE IF NOT EXISTS mariage (\n",
    "    id text,\n",
    "    id_mari text,\n",
    "    id_epouse text\n",
    "    );\n",
    "\"\"\""
   ]
  },
  {
   "cell_type": "code",
   "execution_count": 10,
   "id": "nonprofit-intent",
   "metadata": {},
   "outputs": [],
   "source": [
    "sql_creer_table_oeuvre = \"\"\"\n",
    "    CREATE TABLE IF NOT EXISTS oeuvre (\n",
    "    id text,\n",
    "    titre_fr text,\n",
    "    titre_lat text,\n",
    "    auteur_id text,\n",
    "    genre text\n",
    ");\n",
    "\"\"\""
   ]
  },
  {
   "cell_type": "code",
   "execution_count": 11,
   "id": "united-sperm",
   "metadata": {},
   "outputs": [
    {
     "name": "stdout",
     "output_type": "stream",
     "text": [
      "La table a été crée avec succès\n",
      "La table a été crée avec succès\n",
      "La table a été crée avec succès\n",
      "La table a été crée avec succès\n",
      "La table a été crée avec succès\n"
     ]
    }
   ],
   "source": [
    "creer_table(conn, sql_creer_table_personne)\n",
    "creer_table(conn, sql_creer_table_activite)\n",
    "creer_table(conn, sql_creer_table_poste)\n",
    "creer_table(conn, sql_creer_table_mariage)\n",
    "creer_table(conn, sql_creer_table_oeuvre)"
   ]
  },
  {
   "cell_type": "markdown",
   "id": "acute-airline",
   "metadata": {},
   "source": [
    "#### Dataframes"
   ]
  },
  {
   "cell_type": "code",
   "execution_count": 12,
   "id": "adverse-power",
   "metadata": {},
   "outputs": [
    {
     "name": "stdout",
     "output_type": "stream",
     "text": [
      "                                     item                   itemLabel  \\\n",
      "0  http://www.wikidata.org/entity/Q727886  Marcus Valerius Maximianus   \n",
      "1  http://www.wikidata.org/entity/Q728245   Saint Marcian of Syracuse   \n",
      "2  http://www.wikidata.org/entity/Q728335      Lucius Caninius Gallus   \n",
      "3  http://www.wikidata.org/entity/Q728349                   Severinus   \n",
      "4  http://www.wikidata.org/entity/Q728527         Gaius Vibius Marsus   \n",
      "\n",
      "  praenomenLabel nomenLabel cognomenLabel gensLabel sexeLabel  \\\n",
      "0         Marcus   Valerius           NaN   Valerii  masculin   \n",
      "1            NaN        NaN           NaN       NaN  masculin   \n",
      "2         Lucius   Caninius           NaN   Caninii  masculin   \n",
      "3            NaN    Flavius           NaN    Flavii  masculin   \n",
      "4          Caius     Vibius        Marsus     Vibii  masculin   \n",
      "\n",
      "          date_naissance                          lieu_naissance  \\\n",
      "0   0200-01-01T00:00:00Z   http://www.wikidata.org/entity/Q15906   \n",
      "1   0050-01-01T00:00:00Z  http://www.wikidata.org/entity/Q200441   \n",
      "2  -0100-01-01T00:00:00Z                                     NaN   \n",
      "3   0450-01-01T00:00:00Z                                     NaN   \n",
      "4  -0100-01-01T00:00:00Z                                     NaN   \n",
      "\n",
      "               date_mort                              lieu_mort  \\\n",
      "0            t2303561388                                    NaN   \n",
      "1   0068-01-01T00:00:00Z  http://www.wikidata.org/entity/Q13670   \n",
      "2  -0060-01-01T00:00:00Z                                    NaN   \n",
      "3                    NaN                                    NaN   \n",
      "4  -0060-01-01T00:00:00Z                                    NaN   \n",
      "\n",
      "                                      pere mere  \n",
      "0                                      NaN  NaN  \n",
      "1                                      NaN  NaN  \n",
      "2  http://www.wikidata.org/entity/Q1385959  NaN  \n",
      "3                                      NaN  NaN  \n",
      "4                                      NaN  NaN  \n"
     ]
    }
   ],
   "source": [
    "df_personne = pd.read_table(\"query_personne.csv\", delimiter =\",\") \n",
    "print(df_personne.head()) "
   ]
  },
  {
   "cell_type": "code",
   "execution_count": 13,
   "id": "controlling-venue",
   "metadata": {},
   "outputs": [],
   "source": [
    "df_personne.rename(columns={\"item\": \"id\",\n",
    "                            \"itemLabel\": \"nom_fr\",\n",
    "                            \"praenomenLabel\": \"praenomen\",\n",
    "                            \"nomenLabel\": \"nomen\",\n",
    "                            \"cognomenLabel\": \"cognomen\",\n",
    "                            \"gensLabel\": \"gens\",\n",
    "                            \"sexeLabel\": \"sexe\",\n",
    "                            \"pere\": \"id_pere\",\n",
    "                            \"mere\": \"id_mere\"},\n",
    "                  inplace=True)"
   ]
  },
  {
   "cell_type": "code",
   "execution_count": 14,
   "id": "fleet-spoke",
   "metadata": {},
   "outputs": [
    {
     "name": "stdout",
     "output_type": "stream",
     "text": [
      "                                       id                      nom_fr  \\\n",
      "0  http://www.wikidata.org/entity/Q727886  Marcus Valerius Maximianus   \n",
      "1  http://www.wikidata.org/entity/Q728245   Saint Marcian of Syracuse   \n",
      "2  http://www.wikidata.org/entity/Q728335      Lucius Caninius Gallus   \n",
      "3  http://www.wikidata.org/entity/Q728349                   Severinus   \n",
      "4  http://www.wikidata.org/entity/Q728527         Gaius Vibius Marsus   \n",
      "\n",
      "  praenomen     nomen cognomen     gens      sexe         date_naissance  \\\n",
      "0    Marcus  Valerius      NaN  Valerii  masculin   0200-01-01T00:00:00Z   \n",
      "1       NaN       NaN      NaN      NaN  masculin   0050-01-01T00:00:00Z   \n",
      "2    Lucius  Caninius      NaN  Caninii  masculin  -0100-01-01T00:00:00Z   \n",
      "3       NaN   Flavius      NaN   Flavii  masculin   0450-01-01T00:00:00Z   \n",
      "4     Caius    Vibius   Marsus    Vibii  masculin  -0100-01-01T00:00:00Z   \n",
      "\n",
      "                           lieu_naissance              date_mort  \\\n",
      "0   http://www.wikidata.org/entity/Q15906            t2303561388   \n",
      "1  http://www.wikidata.org/entity/Q200441   0068-01-01T00:00:00Z   \n",
      "2                                     NaN  -0060-01-01T00:00:00Z   \n",
      "3                                     NaN                    NaN   \n",
      "4                                     NaN  -0060-01-01T00:00:00Z   \n",
      "\n",
      "                               lieu_mort  \\\n",
      "0                                    NaN   \n",
      "1  http://www.wikidata.org/entity/Q13670   \n",
      "2                                    NaN   \n",
      "3                                    NaN   \n",
      "4                                    NaN   \n",
      "\n",
      "                                   id_pere id_mere  \n",
      "0                                      NaN     NaN  \n",
      "1                                      NaN     NaN  \n",
      "2  http://www.wikidata.org/entity/Q1385959     NaN  \n",
      "3                                      NaN     NaN  \n",
      "4                                      NaN     NaN  \n"
     ]
    }
   ],
   "source": [
    "print(df_personne.head())"
   ]
  },
  {
   "cell_type": "code",
   "execution_count": 15,
   "id": "focused-judge",
   "metadata": {},
   "outputs": [],
   "source": [
    "df_personne['id'] = df_personne.id.str.replace('http://www.wikidata.org/entity/Q', '', regex=True)\n",
    "df_personne['lieu_naissance'] = df_personne.lieu_naissance.str.replace('http://www.wikidata.org/entity/Q', '', regex=True)\n",
    "df_personne['lieu_mort'] = df_personne.lieu_mort.str.replace('http://www.wikidata.org/entity/Q', '', regex=True)\n",
    "df_personne['id_pere'] = df_personne.id_pere.str.replace('http://www.wikidata.org/entity/Q', '', regex=True)\n",
    "df_personne['id_mere'] = df_personne.id_mere.str.replace('http://www.wikidata.org/entity/Q', '', regex=True)"
   ]
  },
  {
   "cell_type": "code",
   "execution_count": 17,
   "id": "premium-phrase",
   "metadata": {},
   "outputs": [
    {
     "data": {
      "text/html": [
       "<div>\n",
       "<style scoped>\n",
       "    .dataframe tbody tr th:only-of-type {\n",
       "        vertical-align: middle;\n",
       "    }\n",
       "\n",
       "    .dataframe tbody tr th {\n",
       "        vertical-align: top;\n",
       "    }\n",
       "\n",
       "    .dataframe thead th {\n",
       "        text-align: right;\n",
       "    }\n",
       "</style>\n",
       "<table border=\"1\" class=\"dataframe\">\n",
       "  <thead>\n",
       "    <tr style=\"text-align: right;\">\n",
       "      <th></th>\n",
       "      <th>id</th>\n",
       "      <th>nom_fr</th>\n",
       "      <th>praenomen</th>\n",
       "      <th>nomen</th>\n",
       "      <th>cognomen</th>\n",
       "      <th>gens</th>\n",
       "      <th>sexe</th>\n",
       "      <th>date_naissance</th>\n",
       "      <th>lieu_naissance</th>\n",
       "      <th>date_mort</th>\n",
       "      <th>lieu_mort</th>\n",
       "      <th>id_pere</th>\n",
       "      <th>id_mere</th>\n",
       "    </tr>\n",
       "  </thead>\n",
       "  <tbody>\n",
       "    <tr>\n",
       "      <th>0</th>\n",
       "      <td>727886</td>\n",
       "      <td>Marcus Valerius Maximianus</td>\n",
       "      <td>Marcus</td>\n",
       "      <td>Valerius</td>\n",
       "      <td>NaN</td>\n",
       "      <td>Valerii</td>\n",
       "      <td>masculin</td>\n",
       "      <td>0200-01-01T00:00:00Z</td>\n",
       "      <td>15906</td>\n",
       "      <td>t2303561388</td>\n",
       "      <td>NaN</td>\n",
       "      <td>NaN</td>\n",
       "      <td>NaN</td>\n",
       "    </tr>\n",
       "    <tr>\n",
       "      <th>1</th>\n",
       "      <td>728245</td>\n",
       "      <td>Saint Marcian of Syracuse</td>\n",
       "      <td>NaN</td>\n",
       "      <td>NaN</td>\n",
       "      <td>NaN</td>\n",
       "      <td>NaN</td>\n",
       "      <td>masculin</td>\n",
       "      <td>0050-01-01T00:00:00Z</td>\n",
       "      <td>200441</td>\n",
       "      <td>0068-01-01T00:00:00Z</td>\n",
       "      <td>13670</td>\n",
       "      <td>NaN</td>\n",
       "      <td>NaN</td>\n",
       "    </tr>\n",
       "    <tr>\n",
       "      <th>2</th>\n",
       "      <td>728335</td>\n",
       "      <td>Lucius Caninius Gallus</td>\n",
       "      <td>Lucius</td>\n",
       "      <td>Caninius</td>\n",
       "      <td>NaN</td>\n",
       "      <td>Caninii</td>\n",
       "      <td>masculin</td>\n",
       "      <td>-0100-01-01T00:00:00Z</td>\n",
       "      <td>NaN</td>\n",
       "      <td>-0060-01-01T00:00:00Z</td>\n",
       "      <td>NaN</td>\n",
       "      <td>1385959</td>\n",
       "      <td>NaN</td>\n",
       "    </tr>\n",
       "    <tr>\n",
       "      <th>3</th>\n",
       "      <td>728349</td>\n",
       "      <td>Severinus</td>\n",
       "      <td>NaN</td>\n",
       "      <td>Flavius</td>\n",
       "      <td>NaN</td>\n",
       "      <td>Flavii</td>\n",
       "      <td>masculin</td>\n",
       "      <td>0450-01-01T00:00:00Z</td>\n",
       "      <td>NaN</td>\n",
       "      <td>NaN</td>\n",
       "      <td>NaN</td>\n",
       "      <td>NaN</td>\n",
       "      <td>NaN</td>\n",
       "    </tr>\n",
       "    <tr>\n",
       "      <th>4</th>\n",
       "      <td>728527</td>\n",
       "      <td>Gaius Vibius Marsus</td>\n",
       "      <td>Caius</td>\n",
       "      <td>Vibius</td>\n",
       "      <td>Marsus</td>\n",
       "      <td>Vibii</td>\n",
       "      <td>masculin</td>\n",
       "      <td>-0100-01-01T00:00:00Z</td>\n",
       "      <td>NaN</td>\n",
       "      <td>-0060-01-01T00:00:00Z</td>\n",
       "      <td>NaN</td>\n",
       "      <td>NaN</td>\n",
       "      <td>NaN</td>\n",
       "    </tr>\n",
       "    <tr>\n",
       "      <th>...</th>\n",
       "      <td>...</td>\n",
       "      <td>...</td>\n",
       "      <td>...</td>\n",
       "      <td>...</td>\n",
       "      <td>...</td>\n",
       "      <td>...</td>\n",
       "      <td>...</td>\n",
       "      <td>...</td>\n",
       "      <td>...</td>\n",
       "      <td>...</td>\n",
       "      <td>...</td>\n",
       "      <td>...</td>\n",
       "      <td>...</td>\n",
       "    </tr>\n",
       "    <tr>\n",
       "      <th>8888</th>\n",
       "      <td>106225794</td>\n",
       "      <td>Quinctius</td>\n",
       "      <td>t2273118074</td>\n",
       "      <td>Quinctius</td>\n",
       "      <td>NaN</td>\n",
       "      <td>Quinctii</td>\n",
       "      <td>masculin</td>\n",
       "      <td>NaN</td>\n",
       "      <td>NaN</td>\n",
       "      <td>NaN</td>\n",
       "      <td>NaN</td>\n",
       "      <td>NaN</td>\n",
       "      <td>NaN</td>\n",
       "    </tr>\n",
       "    <tr>\n",
       "      <th>8889</th>\n",
       "      <td>106225817</td>\n",
       "      <td>Tiberius Q[uinctius?]</td>\n",
       "      <td>Tiberius</td>\n",
       "      <td>Quinctius</td>\n",
       "      <td>NaN</td>\n",
       "      <td>Quinctii</td>\n",
       "      <td>masculin</td>\n",
       "      <td>NaN</td>\n",
       "      <td>NaN</td>\n",
       "      <td>NaN</td>\n",
       "      <td>NaN</td>\n",
       "      <td>NaN</td>\n",
       "      <td>NaN</td>\n",
       "    </tr>\n",
       "    <tr>\n",
       "      <th>8890</th>\n",
       "      <td>106225852</td>\n",
       "      <td>Q[uinctius?]</td>\n",
       "      <td>t2273141310</td>\n",
       "      <td>Quinctius</td>\n",
       "      <td>NaN</td>\n",
       "      <td>Quinctii</td>\n",
       "      <td>masculin</td>\n",
       "      <td>NaN</td>\n",
       "      <td>NaN</td>\n",
       "      <td>NaN</td>\n",
       "      <td>NaN</td>\n",
       "      <td>NaN</td>\n",
       "      <td>NaN</td>\n",
       "    </tr>\n",
       "    <tr>\n",
       "      <th>8891</th>\n",
       "      <td>106261999</td>\n",
       "      <td>Caius Duillius Longus</td>\n",
       "      <td>Caius</td>\n",
       "      <td>Duilius</td>\n",
       "      <td>Longus</td>\n",
       "      <td>Duilii</td>\n",
       "      <td>masculin</td>\n",
       "      <td>NaN</td>\n",
       "      <td>NaN</td>\n",
       "      <td>NaN</td>\n",
       "      <td>NaN</td>\n",
       "      <td>NaN</td>\n",
       "      <td>NaN</td>\n",
       "    </tr>\n",
       "    <tr>\n",
       "      <th>8892</th>\n",
       "      <td>103915787</td>\n",
       "      <td>Manius Tullius Tolerinus</td>\n",
       "      <td>Manius</td>\n",
       "      <td>Tullius</td>\n",
       "      <td>Tolerinus</td>\n",
       "      <td>Tullii</td>\n",
       "      <td>masculin</td>\n",
       "      <td>-0600-01-01T00:00:00Z</td>\n",
       "      <td>1747689</td>\n",
       "      <td>-0500-01-01T00:00:00Z</td>\n",
       "      <td>t2118876842</td>\n",
       "      <td>t2118876840</td>\n",
       "      <td>t2118876844</td>\n",
       "    </tr>\n",
       "  </tbody>\n",
       "</table>\n",
       "<p>8893 rows × 13 columns</p>\n",
       "</div>"
      ],
      "text/plain": [
       "             id                      nom_fr    praenomen      nomen  \\\n",
       "0        727886  Marcus Valerius Maximianus       Marcus   Valerius   \n",
       "1        728245   Saint Marcian of Syracuse          NaN        NaN   \n",
       "2        728335      Lucius Caninius Gallus       Lucius   Caninius   \n",
       "3        728349                   Severinus          NaN    Flavius   \n",
       "4        728527         Gaius Vibius Marsus        Caius     Vibius   \n",
       "...         ...                         ...          ...        ...   \n",
       "8888  106225794                   Quinctius  t2273118074  Quinctius   \n",
       "8889  106225817       Tiberius Q[uinctius?]     Tiberius  Quinctius   \n",
       "8890  106225852                Q[uinctius?]  t2273141310  Quinctius   \n",
       "8891  106261999       Caius Duillius Longus        Caius    Duilius   \n",
       "8892  103915787    Manius Tullius Tolerinus       Manius    Tullius   \n",
       "\n",
       "       cognomen      gens      sexe         date_naissance lieu_naissance  \\\n",
       "0           NaN   Valerii  masculin   0200-01-01T00:00:00Z          15906   \n",
       "1           NaN       NaN  masculin   0050-01-01T00:00:00Z         200441   \n",
       "2           NaN   Caninii  masculin  -0100-01-01T00:00:00Z            NaN   \n",
       "3           NaN    Flavii  masculin   0450-01-01T00:00:00Z            NaN   \n",
       "4        Marsus     Vibii  masculin  -0100-01-01T00:00:00Z            NaN   \n",
       "...         ...       ...       ...                    ...            ...   \n",
       "8888        NaN  Quinctii  masculin                    NaN            NaN   \n",
       "8889        NaN  Quinctii  masculin                    NaN            NaN   \n",
       "8890        NaN  Quinctii  masculin                    NaN            NaN   \n",
       "8891     Longus    Duilii  masculin                    NaN            NaN   \n",
       "8892  Tolerinus    Tullii  masculin  -0600-01-01T00:00:00Z        1747689   \n",
       "\n",
       "                  date_mort    lieu_mort      id_pere      id_mere  \n",
       "0               t2303561388          NaN          NaN          NaN  \n",
       "1      0068-01-01T00:00:00Z        13670          NaN          NaN  \n",
       "2     -0060-01-01T00:00:00Z          NaN      1385959          NaN  \n",
       "3                       NaN          NaN          NaN          NaN  \n",
       "4     -0060-01-01T00:00:00Z          NaN          NaN          NaN  \n",
       "...                     ...          ...          ...          ...  \n",
       "8888                    NaN          NaN          NaN          NaN  \n",
       "8889                    NaN          NaN          NaN          NaN  \n",
       "8890                    NaN          NaN          NaN          NaN  \n",
       "8891                    NaN          NaN          NaN          NaN  \n",
       "8892  -0500-01-01T00:00:00Z  t2118876842  t2118876840  t2118876844  \n",
       "\n",
       "[8893 rows x 13 columns]"
      ]
     },
     "execution_count": 17,
     "metadata": {},
     "output_type": "execute_result"
    }
   ],
   "source": [
    "df_personne"
   ]
  },
  {
   "cell_type": "markdown",
   "id": "portable-pencil",
   "metadata": {},
   "source": [
    "##### activite"
   ]
  },
  {
   "cell_type": "code",
   "execution_count": 18,
   "id": "handmade-kernel",
   "metadata": {},
   "outputs": [
    {
     "name": "stdout",
     "output_type": "stream",
     "text": [
      "                                    item         occupationLabel\n",
      "0  http://www.wikidata.org/entity/Q46762               militaire\n",
      "1  http://www.wikidata.org/entity/Q46762  personnalité politique\n",
      "2  http://www.wikidata.org/entity/Q46768  personnalité politique\n",
      "3  http://www.wikidata.org/entity/Q46780  personnalité politique\n",
      "4  http://www.wikidata.org/entity/Q46814  personnalité politique\n"
     ]
    }
   ],
   "source": [
    "df_activite = pd.read_table(\"query_activite.csv\", delimiter =\",\") \n",
    "print(df_activite.head()) "
   ]
  },
  {
   "cell_type": "code",
   "execution_count": 19,
   "id": "outdoor-wesley",
   "metadata": {},
   "outputs": [],
   "source": [
    "df_activite.rename(columns={\"item\": \"personne_id\",\n",
    "                            \"occupationLabel\": \"activite\"},\n",
    "                  inplace=True)"
   ]
  },
  {
   "cell_type": "code",
   "execution_count": 20,
   "id": "bigger-challenge",
   "metadata": {},
   "outputs": [],
   "source": [
    "df_activite['personne_id'] = df_activite.personne_id.str.replace('http://www.wikidata.org/entity/Q', '', regex=True)"
   ]
  },
  {
   "cell_type": "code",
   "execution_count": 21,
   "id": "growing-resource",
   "metadata": {},
   "outputs": [
    {
     "name": "stdout",
     "output_type": "stream",
     "text": [
      "  personne_id                activite\n",
      "0       46762               militaire\n",
      "1       46762  personnalité politique\n",
      "2       46768  personnalité politique\n",
      "3       46780  personnalité politique\n",
      "4       46814  personnalité politique\n"
     ]
    }
   ],
   "source": [
    "print(df_activite.head()) "
   ]
  },
  {
   "cell_type": "markdown",
   "id": "expressed-communist",
   "metadata": {},
   "source": [
    "##### poste"
   ]
  },
  {
   "cell_type": "code",
   "execution_count": 22,
   "id": "worst-communication",
   "metadata": {},
   "outputs": [
    {
     "name": "stdout",
     "output_type": "stream",
     "text": [
      "                                   item     positionLabel\n",
      "0  http://www.wikidata.org/entity/Q1048            consul\n",
      "1  http://www.wikidata.org/entity/Q1048           préteur\n",
      "2  http://www.wikidata.org/entity/Q1048          questeur\n",
      "3  http://www.wikidata.org/entity/Q1048  pontifex maximus\n",
      "4  http://www.wikidata.org/entity/Q1048         dictateur\n"
     ]
    }
   ],
   "source": [
    "df_poste = pd.read_table(\"query_poste.csv\", delimiter =\",\") \n",
    "print(df_poste.head()) "
   ]
  },
  {
   "cell_type": "code",
   "execution_count": 23,
   "id": "chemical-feedback",
   "metadata": {},
   "outputs": [],
   "source": [
    "df_poste.rename(columns={\"item\": \"personne_id\",\n",
    "                            \"positionLabel\": \"poste\"},\n",
    "                  inplace=True)"
   ]
  },
  {
   "cell_type": "code",
   "execution_count": 24,
   "id": "exact-creature",
   "metadata": {},
   "outputs": [],
   "source": [
    "df_poste['personne_id'] = df_poste.personne_id.str.replace('http://www.wikidata.org/entity/Q', '', regex=True)"
   ]
  },
  {
   "cell_type": "code",
   "execution_count": 25,
   "id": "smaller-threshold",
   "metadata": {},
   "outputs": [
    {
     "name": "stdout",
     "output_type": "stream",
     "text": [
      "  personne_id             poste\n",
      "0        1048            consul\n",
      "1        1048           préteur\n",
      "2        1048          questeur\n",
      "3        1048  pontifex maximus\n",
      "4        1048         dictateur\n"
     ]
    }
   ],
   "source": [
    "print(df_poste.head()) "
   ]
  },
  {
   "cell_type": "markdown",
   "id": "alleged-simulation",
   "metadata": {},
   "source": [
    "##### oeuvre"
   ]
  },
  {
   "cell_type": "code",
   "execution_count": 26,
   "id": "cheap-uganda",
   "metadata": {},
   "outputs": [
    {
     "name": "stdout",
     "output_type": "stream",
     "text": [
      "                                      oeuvre  \\\n",
      "0   http://www.wikidata.org/entity/Q87213120   \n",
      "1     http://www.wikidata.org/entity/Q660519   \n",
      "2     http://www.wikidata.org/entity/Q932676   \n",
      "3   http://www.wikidata.org/entity/Q19074050   \n",
      "4  http://www.wikidata.org/entity/Q104789146   \n",
      "\n",
      "                                         oeuvreLabel                  titre  \\\n",
      "0  Abrégé des Histoires philippiques de Trogue Po...                    NaN   \n",
      "1                                     Noctes Atticae         Noctes Atticae   \n",
      "2                                        Diatessaron                    NaN   \n",
      "3                              Address to the Greeks  Ἐπιστολὴ πρὸς Ἕλληνας   \n",
      "4                                       Controverses                    NaN   \n",
      "\n",
      "                                   auteur    genreLabel  \n",
      "0  http://www.wikidata.org/entity/Q210853           NaN  \n",
      "1  http://www.wikidata.org/entity/Q294800      Q1009974  \n",
      "2  http://www.wikidata.org/entity/Q272087           NaN  \n",
      "3  http://www.wikidata.org/entity/Q272087           NaN  \n",
      "4  http://www.wikidata.org/entity/Q273671  controversia  \n"
     ]
    }
   ],
   "source": [
    "df_oeuvre = pd.read_table(\"query_oeuvre.csv\", delimiter =\",\") \n",
    "print(df_oeuvre.head()) "
   ]
  },
  {
   "cell_type": "code",
   "execution_count": 27,
   "id": "binding-database",
   "metadata": {},
   "outputs": [],
   "source": [
    "df_oeuvre.rename(columns={\"oeuvre\": \"id\",\n",
    "                          \"oeuvreLabel\": \"titre_fr\",\n",
    "                          \"titre\": \"titre_lat\",\n",
    "                          \"auteur\": \"auteur_id\",\n",
    "                          \"genreLabel\": \"genre\"},\n",
    "                  inplace=True)"
   ]
  },
  {
   "cell_type": "code",
   "execution_count": 28,
   "id": "chemical-technician",
   "metadata": {},
   "outputs": [],
   "source": [
    "for index, row in df_oeuvre.iterrows():\n",
    "    e = df_oeuvre.at[index, 'id']\n",
    "    e.replace('http://www.wikidata.org/entity/Q', '')"
   ]
  },
  {
   "cell_type": "code",
   "execution_count": 29,
   "id": "precious-affair",
   "metadata": {},
   "outputs": [
    {
     "name": "stdout",
     "output_type": "stream",
     "text": [
      "                                          id  \\\n",
      "0   http://www.wikidata.org/entity/Q87213120   \n",
      "1     http://www.wikidata.org/entity/Q660519   \n",
      "2     http://www.wikidata.org/entity/Q932676   \n",
      "3   http://www.wikidata.org/entity/Q19074050   \n",
      "4  http://www.wikidata.org/entity/Q104789146   \n",
      "\n",
      "                                            titre_fr              titre_lat  \\\n",
      "0  Abrégé des Histoires philippiques de Trogue Po...                    NaN   \n",
      "1                                     Noctes Atticae         Noctes Atticae   \n",
      "2                                        Diatessaron                    NaN   \n",
      "3                              Address to the Greeks  Ἐπιστολὴ πρὸς Ἕλληνας   \n",
      "4                                       Controverses                    NaN   \n",
      "\n",
      "                                auteur_id         genre  \n",
      "0  http://www.wikidata.org/entity/Q210853           NaN  \n",
      "1  http://www.wikidata.org/entity/Q294800      Q1009974  \n",
      "2  http://www.wikidata.org/entity/Q272087           NaN  \n",
      "3  http://www.wikidata.org/entity/Q272087           NaN  \n",
      "4  http://www.wikidata.org/entity/Q273671  controversia  \n"
     ]
    }
   ],
   "source": [
    "print(df_oeuvre.head()) "
   ]
  },
  {
   "cell_type": "code",
   "execution_count": 30,
   "id": "urban-turning",
   "metadata": {},
   "outputs": [],
   "source": [
    "df_oeuvre['id'] = df_oeuvre.id.str.replace('http://www.wikidata.org/entity/Q', '', regex=True)\n",
    "df_oeuvre['auteur_id'] = df_oeuvre.auteur_id.str.replace('http://www.wikidata.org/entity/Q', '', regex=True)"
   ]
  },
  {
   "cell_type": "code",
   "execution_count": 31,
   "id": "stopped-circular",
   "metadata": {},
   "outputs": [
    {
     "name": "stdout",
     "output_type": "stream",
     "text": [
      "          id                                           titre_fr  \\\n",
      "0   87213120  Abrégé des Histoires philippiques de Trogue Po...   \n",
      "1     660519                                     Noctes Atticae   \n",
      "2     932676                                        Diatessaron   \n",
      "3   19074050                              Address to the Greeks   \n",
      "4  104789146                                       Controverses   \n",
      "\n",
      "               titre_lat auteur_id         genre  \n",
      "0                    NaN    210853           NaN  \n",
      "1         Noctes Atticae    294800      Q1009974  \n",
      "2                    NaN    272087           NaN  \n",
      "3  Ἐπιστολὴ πρὸς Ἕλληνας    272087           NaN  \n",
      "4                    NaN    273671  controversia  \n"
     ]
    }
   ],
   "source": [
    "print(df_oeuvre.head())"
   ]
  },
  {
   "cell_type": "markdown",
   "id": "pressing-murray",
   "metadata": {},
   "source": [
    "##### mariage"
   ]
  },
  {
   "cell_type": "code",
   "execution_count": 32,
   "id": "broad-palmer",
   "metadata": {},
   "outputs": [
    {
     "name": "stdout",
     "output_type": "stream",
     "text": [
      "                                     item  \\\n",
      "0  http://www.wikidata.org/entity/Q170026   \n",
      "1  http://www.wikidata.org/entity/Q170512   \n",
      "2  http://www.wikidata.org/entity/Q171023   \n",
      "3  http://www.wikidata.org/entity/Q171083   \n",
      "4  http://www.wikidata.org/entity/Q172168   \n",
      "\n",
      "                                    epouse  \n",
      "0   http://www.wikidata.org/entity/Q232329  \n",
      "1                               t291183301  \n",
      "2   http://www.wikidata.org/entity/Q383304  \n",
      "3  http://www.wikidata.org/entity/Q4066696  \n",
      "4   http://www.wikidata.org/entity/Q234562  \n"
     ]
    }
   ],
   "source": [
    "df_mariage = pd.read_table(\"query_mariage.csv\", delimiter =\",\") \n",
    "print(df_mariage.head()) "
   ]
  },
  {
   "cell_type": "code",
   "execution_count": 33,
   "id": "aging-possession",
   "metadata": {},
   "outputs": [],
   "source": [
    "df_mariage.insert(0, 'id', range(0, len(df_mariage)))\n"
   ]
  },
  {
   "cell_type": "code",
   "execution_count": 34,
   "id": "killing-convenience",
   "metadata": {},
   "outputs": [],
   "source": [
    "df_mariage.rename(columns={\"item\": \"id_mari\",\n",
    "                          \"epouse\": \"id_epouse\"},\n",
    "                  inplace=True)"
   ]
  },
  {
   "cell_type": "code",
   "execution_count": 35,
   "id": "scheduled-template",
   "metadata": {},
   "outputs": [
    {
     "name": "stdout",
     "output_type": "stream",
     "text": [
      "   id                                 id_mari  \\\n",
      "0   0  http://www.wikidata.org/entity/Q170026   \n",
      "1   1  http://www.wikidata.org/entity/Q170512   \n",
      "2   2  http://www.wikidata.org/entity/Q171023   \n",
      "3   3  http://www.wikidata.org/entity/Q171083   \n",
      "4   4  http://www.wikidata.org/entity/Q172168   \n",
      "\n",
      "                                 id_epouse  \n",
      "0   http://www.wikidata.org/entity/Q232329  \n",
      "1                               t291183301  \n",
      "2   http://www.wikidata.org/entity/Q383304  \n",
      "3  http://www.wikidata.org/entity/Q4066696  \n",
      "4   http://www.wikidata.org/entity/Q234562  \n"
     ]
    }
   ],
   "source": [
    "print(df_mariage.head())"
   ]
  },
  {
   "cell_type": "code",
   "execution_count": 36,
   "id": "champion-costs",
   "metadata": {},
   "outputs": [],
   "source": [
    "df_mariage['id_mari'] = df_mariage.id_mari.str.replace('http://www.wikidata.org/entity/Q', '', regex=True)\n",
    "df_mariage['id_epouse'] = df_mariage.id_epouse.str.replace('http://www.wikidata.org/entity/Q', '', regex=True)"
   ]
  },
  {
   "cell_type": "code",
   "execution_count": 39,
   "id": "upper-riding",
   "metadata": {},
   "outputs": [
    {
     "name": "stdout",
     "output_type": "stream",
     "text": [
      "   id id_mari   id_epouse\n",
      "0   0  170026      232329\n",
      "1   1  170512  t291183301\n",
      "2   2  171023      383304\n",
      "3   3  171083     4066696\n",
      "4   4  172168      234562\n"
     ]
    }
   ],
   "source": [
    "print(df_mariage.head()) "
   ]
  },
  {
   "cell_type": "markdown",
   "id": "excessive-purse",
   "metadata": {},
   "source": [
    "#### Insertion"
   ]
  },
  {
   "cell_type": "code",
   "execution_count": 40,
   "id": "faced-cruise",
   "metadata": {},
   "outputs": [],
   "source": [
    "sql_insert_personne = \"\"\"INSERT INTO personne (id, nom_fr, praenomen, nomen, cognomen, gens, sexe, date_naissance, lieu_naissance, date_mort, lieu_mort, id_pere, id_mere) VALUES (%s, %s, %s, %s, %s, %s, %s, %s, %s, %s, %s, %s, %s)\"\"\""
   ]
  },
  {
   "cell_type": "code",
   "execution_count": 41,
   "id": "specialized-impression",
   "metadata": {},
   "outputs": [],
   "source": [
    "sql_insert_oeuvre = \"\"\"INSERT INTO oeuvre (id, titre_fr, titre_lat, auteur_id, genre) VALUES (%s, %s, %s, %s, %s)\"\"\""
   ]
  },
  {
   "cell_type": "code",
   "execution_count": 42,
   "id": "automated-reserve",
   "metadata": {},
   "outputs": [],
   "source": [
    "sql_insert_poste = \"\"\"INSERT INTO poste (personne_id, poste) VALUES (%s, %s)\"\"\""
   ]
  },
  {
   "cell_type": "code",
   "execution_count": 43,
   "id": "completed-scanner",
   "metadata": {},
   "outputs": [],
   "source": [
    "sql_insert_activite = \"\"\"INSERT INTO activite (personne_id, activite) VALUES (%s, %s)\"\"\""
   ]
  },
  {
   "cell_type": "code",
   "execution_count": 44,
   "id": "inside-dutch",
   "metadata": {},
   "outputs": [],
   "source": [
    "sql_insert_mariage = \"\"\"INSERT INTO mariage (id, id_mari, id_epouse) VALUES (%s, %s, %s)\"\"\""
   ]
  },
  {
   "cell_type": "code",
   "execution_count": 45,
   "id": "devoted-husband",
   "metadata": {},
   "outputs": [],
   "source": [
    "conn = psycopg2.connect(\n",
    "   database=\"projetspqr\", user='postgres', password=mot_passe, host='localhost', port= '5432'\n",
    ")\n",
    "conn.autocommit = True\n",
    "\n",
    "cursor = conn.cursor()\n",
    "\n",
    "for index, row in df_personne.iterrows():\n",
    "    cursor.execute(sql_insert_personne, tuple(row))"
   ]
  },
  {
   "cell_type": "code",
   "execution_count": 46,
   "id": "neither-phrase",
   "metadata": {},
   "outputs": [],
   "source": [
    "for index, row in df_oeuvre.iterrows():\n",
    "    cursor.execute(sql_insert_oeuvre, tuple(row))"
   ]
  },
  {
   "cell_type": "code",
   "execution_count": 47,
   "id": "fluid-fitting",
   "metadata": {},
   "outputs": [],
   "source": [
    "for index, row in df_activite.iterrows():\n",
    "    cursor.execute(sql_insert_activite, tuple(row))\n"
   ]
  },
  {
   "cell_type": "code",
   "execution_count": 48,
   "id": "reflected-suspension",
   "metadata": {},
   "outputs": [],
   "source": [
    "for index, row in df_poste.iterrows():\n",
    "    cursor.execute(sql_insert_poste, tuple(row))\n"
   ]
  },
  {
   "cell_type": "code",
   "execution_count": 49,
   "id": "variable-newfoundland",
   "metadata": {},
   "outputs": [],
   "source": [
    "for index, row in df_mariage.iterrows():\n",
    "    cursor.execute(sql_insert_mariage, tuple(row))"
   ]
  },
  {
   "cell_type": "code",
   "execution_count": null,
   "id": "demographic-slide",
   "metadata": {},
   "outputs": [],
   "source": []
  }
 ],
 "metadata": {
  "kernelspec": {
   "display_name": "Python 3",
   "language": "python",
   "name": "python3"
  },
  "language_info": {
   "codemirror_mode": {
    "name": "ipython",
    "version": 3
   },
   "file_extension": ".py",
   "mimetype": "text/x-python",
   "name": "python",
   "nbconvert_exporter": "python",
   "pygments_lexer": "ipython3",
   "version": "3.8.6"
  }
 },
 "nbformat": 4,
 "nbformat_minor": 5
}
