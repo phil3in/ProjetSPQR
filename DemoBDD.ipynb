{
 "cells": [
  {
   "cell_type": "markdown",
   "id": "offshore-guess",
   "metadata": {},
   "source": [
    "### Test BDD"
   ]
  },
  {
   "cell_type": "code",
   "execution_count": null,
   "id": "cardiovascular-explorer",
   "metadata": {},
   "outputs": [],
   "source": [
    "import os\n",
    "import psycopg2\n",
    "import pandas as pd\n",
    "import numpy\n",
    "import sqlalchemy\n",
    "from sqlalchemy import create_engine "
   ]
  },
  {
   "cell_type": "markdown",
   "id": "conditional-fiber",
   "metadata": {},
   "source": [
    "#### Création BDD"
   ]
  },
  {
   "cell_type": "code",
   "execution_count": null,
   "id": "accessory-cycling",
   "metadata": {},
   "outputs": [],
   "source": [
    "mot_passe = os.environ.get('pg_psw')\n"
   ]
  },
  {
   "cell_type": "code",
   "execution_count": null,
   "id": "fatal-doubt",
   "metadata": {},
   "outputs": [],
   "source": [
    "conn = psycopg2.connect(\n",
    "   database=\"postgres\", user='postgres', password=mot_passe, host='localhost', port= '5432'\n",
    ")\n",
    "conn.autocommit = True\n",
    "\n",
    "cursor = conn.cursor()\n",
    "\n",
    "sql = '''CREATE database ProjetSPQR''';\n",
    "\n",
    "cursor.execute(sql)\n",
    "print(\"Base de données créée avec succès !\")\n",
    "\n",
    "conn.close()\n"
   ]
  },
  {
   "cell_type": "code",
   "execution_count": null,
   "id": "wireless-connecticut",
   "metadata": {},
   "outputs": [],
   "source": [
    "conn = psycopg2.connect(\n",
    "   database=\"projetspqr\", user='postgres', password=mot_passe, host='localhost', port= '5432'\n",
    ")\n",
    "conn.autocommit = True\n",
    "\n",
    "cursor = conn.cursor()"
   ]
  },
  {
   "cell_type": "markdown",
   "id": "sustained-backing",
   "metadata": {},
   "source": [
    "#### Création des tables"
   ]
  },
  {
   "cell_type": "code",
   "execution_count": null,
   "id": "hidden-terrace",
   "metadata": {},
   "outputs": [],
   "source": [
    "def creer_table(conn, sql_creation_table):\n",
    "    try:\n",
    "        cursor = conn.cursor()\n",
    "        cursor.execute(sql_creation_table)\n",
    "        conn.commit()\n",
    "    except psycopg2.Error as e:\n",
    "        print(\"Erreur lors de la création de la table\")\n",
    "        print(e)\n",
    "        return\n",
    "    cursor.close()\n",
    "    print(\"La table a été crée avec succès\")"
   ]
  },
  {
   "cell_type": "code",
   "execution_count": null,
   "id": "continuing-texture",
   "metadata": {},
   "outputs": [],
   "source": [
    "sql_creer_table_personne = \"\"\"\n",
    "    CREATE TABLE IF NOT EXISTS personne (\n",
    "    id text,\n",
    "    nom_fr text,\n",
    "    praenomen text,\n",
    "    nomen text,\n",
    "    cognomen text,\n",
    "    gens text,\n",
    "    sexe text,\n",
    "    date_naissance text,\n",
    "    lieu_naissance text,\n",
    "    date_mort text,\n",
    "    lieu_mort text,\n",
    "    id_pere text,\n",
    "    id_mere text\n",
    "    );\n",
    "\"\"\""
   ]
  },
  {
   "cell_type": "code",
   "execution_count": null,
   "id": "special-subdivision",
   "metadata": {},
   "outputs": [],
   "source": [
    "sql_creer_table_activite = \"\"\"\n",
    "    CREATE TABLE IF NOT EXISTS activite (\n",
    "    personne_id text,\n",
    "    activite text\n",
    "    );\n",
    "\"\"\""
   ]
  },
  {
   "cell_type": "code",
   "execution_count": null,
   "id": "intensive-fashion",
   "metadata": {},
   "outputs": [],
   "source": [
    "sql_creer_table_poste = \"\"\"\n",
    "    CREATE TABLE IF NOT EXISTS poste (\n",
    "    personne_id text,\n",
    "    poste text\n",
    "    );\n",
    "\"\"\""
   ]
  },
  {
   "cell_type": "code",
   "execution_count": null,
   "id": "unique-hammer",
   "metadata": {},
   "outputs": [],
   "source": [
    "sql_creer_table_mariage = \"\"\"\n",
    "    CREATE TABLE IF NOT EXISTS mariage (\n",
    "    id text,\n",
    "    id_mari text,\n",
    "    id_epouse text\n",
    "    );\n",
    "\"\"\""
   ]
  },
  {
   "cell_type": "code",
   "execution_count": null,
   "id": "numerical-force",
   "metadata": {},
   "outputs": [],
   "source": [
    "sql_creer_table_oeuvre = \"\"\"\n",
    "    CREATE TABLE IF NOT EXISTS oeuvre (\n",
    "    id text,\n",
    "    titre_fr text,\n",
    "    titre_lat text,\n",
    "    auteur_id text,\n",
    "    genre text\n",
    ");\n",
    "\"\"\""
   ]
  },
  {
   "cell_type": "code",
   "execution_count": null,
   "id": "lasting-wonder",
   "metadata": {},
   "outputs": [],
   "source": [
    "creer_table(conn, sql_creer_table_personne)\n",
    "creer_table(conn, sql_creer_table_activite)\n",
    "creer_table(conn, sql_creer_table_poste)\n",
    "creer_table(conn, sql_creer_table_mariage)\n",
    "creer_table(conn, sql_creer_table_oeuvre)"
   ]
  },
  {
   "cell_type": "markdown",
   "id": "affected-automation",
   "metadata": {},
   "source": [
    "#### Dataframes"
   ]
  },
  {
   "cell_type": "code",
   "execution_count": null,
   "id": "pleasant-advisory",
   "metadata": {},
   "outputs": [],
   "source": [
    "df_personne = pd.read_table(\"query_personne.csv\", delimiter =\",\") \n",
    "print(df_personne.head()) "
   ]
  },
  {
   "cell_type": "code",
   "execution_count": null,
   "id": "allied-airplane",
   "metadata": {},
   "outputs": [],
   "source": [
    "df_personne.rename(columns={\"item\": \"id\",\n",
    "                            \"itemLabel\": \"nom_fr\",\n",
    "                            \"praenomenLabel\": \"praenomen\",\n",
    "                            \"nomenLabel\": \"nomen\",\n",
    "                            \"cognomenLabel\": \"cognomen\",\n",
    "                            \"gensLabel\": \"gens\",\n",
    "                            \"sexeLabel\": \"sexe\",\n",
    "                            \"pere\": \"id_pere\",\n",
    "                            \"mere\": \"id_mere\"},\n",
    "                  inplace=True)"
   ]
  },
  {
   "cell_type": "code",
   "execution_count": null,
   "id": "frequent-diana",
   "metadata": {},
   "outputs": [],
   "source": [
    "print(df_personne.head())"
   ]
  },
  {
   "cell_type": "code",
   "execution_count": null,
   "id": "unsigned-segment",
   "metadata": {},
   "outputs": [],
   "source": [
    "df_personne['id'] = df_personne.id.str.replace('http://www.wikidata.org/entity/Q', '', regex=True)\n",
    "df_personne['lieu_naissance'] = df_personne.lieu_naissance.str.replace('http://www.wikidata.org/entity/Q', '', regex=True)\n",
    "df_personne['lieu_mort'] = df_personne.lieu_mort.str.replace('http://www.wikidata.org/entity/Q', '', regex=True)\n",
    "df_personne['id_pere'] = df_personne.id_pere.str.replace('http://www.wikidata.org/entity/Q', '', regex=True)\n",
    "df_personne['id_mere'] = df_personne.id_mere.str.replace('http://www.wikidata.org/entity/Q', '', regex=True)"
   ]
  },
  {
   "cell_type": "code",
   "execution_count": null,
   "id": "automatic-integer",
   "metadata": {},
   "outputs": [],
   "source": [
    "df_personne"
   ]
  },
  {
   "cell_type": "markdown",
   "id": "indirect-azerbaijan",
   "metadata": {},
   "source": [
    "##### activite"
   ]
  },
  {
   "cell_type": "code",
   "execution_count": null,
   "id": "gross-oasis",
   "metadata": {},
   "outputs": [],
   "source": [
    "df_activite = pd.read_table(\"query_activite.csv\", delimiter =\",\") \n",
    "print(df_activite.head()) "
   ]
  },
  {
   "cell_type": "code",
   "execution_count": null,
   "id": "spoken-eating",
   "metadata": {},
   "outputs": [],
   "source": [
    "df_activite.rename(columns={\"item\": \"personne_id\",\n",
    "                            \"occupationLabel\": \"activite\"},\n",
    "                  inplace=True)"
   ]
  },
  {
   "cell_type": "code",
   "execution_count": null,
   "id": "adequate-excitement",
   "metadata": {},
   "outputs": [],
   "source": [
    "df_activite['personne_id'] = df_activite.personne_id.str.replace('http://www.wikidata.org/entity/Q', '', regex=True)"
   ]
  },
  {
   "cell_type": "code",
   "execution_count": null,
   "id": "downtown-pizza",
   "metadata": {},
   "outputs": [],
   "source": [
    "print(df_activite.head()) "
   ]
  },
  {
   "cell_type": "markdown",
   "id": "preceding-potential",
   "metadata": {},
   "source": [
    "##### poste"
   ]
  },
  {
   "cell_type": "code",
   "execution_count": null,
   "id": "dutch-lancaster",
   "metadata": {},
   "outputs": [],
   "source": [
    "df_poste = pd.read_table(\"query_poste.csv\", delimiter =\",\") \n",
    "print(df_poste.head()) "
   ]
  },
  {
   "cell_type": "code",
   "execution_count": null,
   "id": "secure-boost",
   "metadata": {},
   "outputs": [],
   "source": [
    "df_poste.rename(columns={\"item\": \"personne_id\",\n",
    "                            \"positionLabel\": \"poste\"},\n",
    "                  inplace=True)"
   ]
  },
  {
   "cell_type": "code",
   "execution_count": null,
   "id": "fourth-revelation",
   "metadata": {},
   "outputs": [],
   "source": [
    "df_poste['personne_id'] = df_poste.personne_id.str.replace('http://www.wikidata.org/entity/Q', '', regex=True)"
   ]
  },
  {
   "cell_type": "code",
   "execution_count": null,
   "id": "behind-tissue",
   "metadata": {},
   "outputs": [],
   "source": [
    "print(df_poste.head()) "
   ]
  },
  {
   "cell_type": "markdown",
   "id": "least-lounge",
   "metadata": {},
   "source": [
    "##### oeuvre"
   ]
  },
  {
   "cell_type": "code",
   "execution_count": null,
   "id": "proprietary-price",
   "metadata": {},
   "outputs": [],
   "source": [
    "df_oeuvre = pd.read_table(\"query_oeuvre.csv\", delimiter =\",\") \n",
    "print(df_oeuvre.head()) "
   ]
  },
  {
   "cell_type": "code",
   "execution_count": null,
   "id": "desperate-idaho",
   "metadata": {},
   "outputs": [],
   "source": [
    "df_oeuvre.rename(columns={\"oeuvre\": \"id\",\n",
    "                          \"oeuvreLabel\": \"titre_fr\",\n",
    "                          \"titre\": \"titre_lat\",\n",
    "                          \"auteur\": \"auteur_id\",\n",
    "                          \"genreLabel\": \"genre\"},\n",
    "                  inplace=True)"
   ]
  },
  {
   "cell_type": "code",
   "execution_count": null,
   "id": "short-benjamin",
   "metadata": {},
   "outputs": [],
   "source": [
    "for index, row in df_oeuvre.iterrows():\n",
    "    e = df_oeuvre.at[index, 'id']\n",
    "    e.replace('http://www.wikidata.org/entity/Q', '')"
   ]
  },
  {
   "cell_type": "code",
   "execution_count": null,
   "id": "outdoor-garage",
   "metadata": {},
   "outputs": [],
   "source": [
    "print(df_oeuvre.head()) "
   ]
  },
  {
   "cell_type": "code",
   "execution_count": null,
   "id": "electoral-luxury",
   "metadata": {},
   "outputs": [],
   "source": [
    "df_oeuvre['id'] = df_oeuvre.id.str.replace('http://www.wikidata.org/entity/Q', '', regex=True)\n",
    "df_oeuvre['auteur_id'] = df_oeuvre.auteur_id.str.replace('http://www.wikidata.org/entity/Q', '', regex=True)"
   ]
  },
  {
   "cell_type": "code",
   "execution_count": null,
   "id": "arbitrary-million",
   "metadata": {},
   "outputs": [],
   "source": [
    "print(df_oeuvre.head())"
   ]
  },
  {
   "cell_type": "markdown",
   "id": "traditional-default",
   "metadata": {},
   "source": [
    "##### mariage"
   ]
  },
  {
   "cell_type": "code",
   "execution_count": null,
   "id": "finnish-miller",
   "metadata": {},
   "outputs": [],
   "source": [
    "df_mariage = pd.read_table(\"query_mariage.csv\", delimiter =\",\") \n",
    "print(df_mariage.head()) "
   ]
  },
  {
   "cell_type": "code",
   "execution_count": null,
   "id": "domestic-interpretation",
   "metadata": {},
   "outputs": [],
   "source": [
    "df_mariage.insert(0, 'id', range(0, len(df_mariage)))\n"
   ]
  },
  {
   "cell_type": "code",
   "execution_count": null,
   "id": "double-snapshot",
   "metadata": {},
   "outputs": [],
   "source": [
    "df_mariage.rename(columns={\"item\": \"id_mari\",\n",
    "                          \"epouse\": \"id_epouse\"},\n",
    "                  inplace=True)"
   ]
  },
  {
   "cell_type": "code",
   "execution_count": null,
   "id": "improving-soldier",
   "metadata": {},
   "outputs": [],
   "source": [
    "print(df_mariage.head())"
   ]
  },
  {
   "cell_type": "code",
   "execution_count": null,
   "id": "foreign-natural",
   "metadata": {},
   "outputs": [],
   "source": [
    "df_mariage['id_mari'] = df_mariage.id_mari.str.replace('http://www.wikidata.org/entity/Q', '', regex=True)\n",
    "df_mariage['id_epouse'] = df_mariage.id_epouse.str.replace('http://www.wikidata.org/entity/Q', '', regex=True)"
   ]
  },
  {
   "cell_type": "code",
   "execution_count": null,
   "id": "express-costume",
   "metadata": {},
   "outputs": [],
   "source": [
    "print(df_mariage.head()) "
   ]
  },
  {
   "cell_type": "markdown",
   "id": "anonymous-gender",
   "metadata": {},
   "source": [
    "#### Insertion"
   ]
  },
  {
   "cell_type": "code",
   "execution_count": null,
   "id": "magnetic-crown",
   "metadata": {},
   "outputs": [],
   "source": [
    "sql_insert_personne = \"\"\"INSERT INTO personne (id, nom_fr, praenomen, nomen, cognomen, gens, sexe, date_naissance, lieu_naissance, date_mort, lieu_mort, id_pere, id_mere) VALUES (%s, %s, %s, %s, %s, %s, %s, %s, %s, %s, %s, %s, %s)\"\"\""
   ]
  },
  {
   "cell_type": "code",
   "execution_count": null,
   "id": "experienced-checklist",
   "metadata": {},
   "outputs": [],
   "source": [
    "sql_insert_oeuvre = \"\"\"INSERT INTO oeuvre (id, titre_fr, titre_lat, auteur_id, genre) VALUES (%s, %s, %s, %s, %s)\"\"\""
   ]
  },
  {
   "cell_type": "code",
   "execution_count": null,
   "id": "graduate-liquid",
   "metadata": {},
   "outputs": [],
   "source": [
    "sql_insert_poste = \"\"\"INSERT INTO poste (personne_id, poste) VALUES (%s, %s)\"\"\""
   ]
  },
  {
   "cell_type": "code",
   "execution_count": null,
   "id": "experienced-lucas",
   "metadata": {},
   "outputs": [],
   "source": [
    "sql_insert_activite = \"\"\"INSERT INTO activite (personne_id, activite) VALUES (%s, %s)\"\"\""
   ]
  },
  {
   "cell_type": "code",
   "execution_count": null,
   "id": "featured-columbus",
   "metadata": {},
   "outputs": [],
   "source": [
    "sql_insert_mariage = \"\"\"INSERT INTO mariage (id, id_mari, id_epouse) VALUES (%s, %s, %s)\"\"\""
   ]
  },
  {
   "cell_type": "code",
   "execution_count": null,
   "id": "lyric-albert",
   "metadata": {},
   "outputs": [],
   "source": [
    "conn = psycopg2.connect(\n",
    "   database=\"projetspqr\", user='postgres', password=mot_passe, host='localhost', port= '5432'\n",
    ")\n",
    "conn.autocommit = True\n",
    "\n",
    "cursor = conn.cursor()\n",
    "\n",
    "for index, row in df_personne.iterrows():\n",
    "    cursor.execute(sql_insert_personne, tuple(row))"
   ]
  },
  {
   "cell_type": "code",
   "execution_count": null,
   "id": "cutting-reservation",
   "metadata": {},
   "outputs": [],
   "source": [
    "for index, row in df_oeuvre.iterrows():\n",
    "    cursor.execute(sql_insert_oeuvre, tuple(row))"
   ]
  },
  {
   "cell_type": "code",
   "execution_count": null,
   "id": "hearing-harassment",
   "metadata": {},
   "outputs": [],
   "source": [
    "for index, row in df_activite.iterrows():\n",
    "    cursor.execute(sql_insert_activite, tuple(row))\n"
   ]
  },
  {
   "cell_type": "code",
   "execution_count": null,
   "id": "interracial-palestine",
   "metadata": {},
   "outputs": [],
   "source": [
    "for index, row in df_poste.iterrows():\n",
    "    cursor.execute(sql_insert_poste, tuple(row))\n"
   ]
  },
  {
   "cell_type": "code",
   "execution_count": null,
   "id": "green-asset",
   "metadata": {},
   "outputs": [],
   "source": [
    "for index, row in df_mariage.iterrows():\n",
    "    cursor.execute(sql_insert_mariage, tuple(row))"
   ]
  },
  {
   "cell_type": "code",
   "execution_count": null,
   "id": "straight-coverage",
   "metadata": {},
   "outputs": [],
   "source": []
  }
 ],
 "metadata": {
  "kernelspec": {
   "display_name": "Python 3",
   "language": "python",
   "name": "python3"
  },
  "language_info": {
   "codemirror_mode": {
    "name": "ipython",
    "version": 3
   },
   "file_extension": ".py",
   "mimetype": "text/x-python",
   "name": "python",
   "nbconvert_exporter": "python",
   "pygments_lexer": "ipython3",
   "version": "3.8.6"
  }
 },
 "nbformat": 4,
 "nbformat_minor": 5
}
