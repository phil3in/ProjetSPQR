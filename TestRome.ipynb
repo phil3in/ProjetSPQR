{
 "cells": [
  {
   "cell_type": "code",
   "execution_count": 1,
   "id": "technological-driving",
   "metadata": {},
   "outputs": [],
   "source": [
    "import os\n",
    "import psycopg2\n",
    "import pandas as pd\n",
    "import numpy as np\n",
    "import sqlalchemy\n",
    "import re\n",
    "from sqlalchemy import create_engine "
   ]
  },
  {
   "cell_type": "code",
   "execution_count": 2,
   "id": "dirty-going",
   "metadata": {},
   "outputs": [],
   "source": [
    "mot_passe = os.environ.get('pg_psw')\n"
   ]
  },
  {
   "cell_type": "code",
   "execution_count": 3,
   "id": "chubby-compact",
   "metadata": {},
   "outputs": [
    {
     "name": "stdout",
     "output_type": "stream",
     "text": [
      "Base de données créée avec succès !\n"
     ]
    }
   ],
   "source": [
    "conn = psycopg2.connect(\n",
    "   database=\"postgres\", user='postgres', password=mot_passe, host='localhost', port= '5432'\n",
    ")\n",
    "conn.autocommit = True\n",
    "\n",
    "cursor = conn.cursor()\n",
    "\n",
    "sql = '''CREATE database Testrome''';\n",
    "\n",
    "cursor.execute(sql)\n",
    "print(\"Base de données créée avec succès !\")\n",
    "\n",
    "conn.close()\n"
   ]
  },
  {
   "cell_type": "code",
   "execution_count": 4,
   "id": "supposed-miracle",
   "metadata": {},
   "outputs": [],
   "source": [
    "conn = psycopg2.connect(\n",
    "   database=\"testrome\", user='postgres', password=mot_passe, host='localhost', port= '5432'\n",
    ")\n",
    "conn.autocommit = True\n",
    "\n",
    "cursor = conn.cursor()"
   ]
  },
  {
   "cell_type": "code",
   "execution_count": 5,
   "id": "adult-browser",
   "metadata": {},
   "outputs": [],
   "source": [
    "def creer_table(conn, sql_creation_table):\n",
    "    try:\n",
    "        cursor = conn.cursor()\n",
    "        cursor.execute(sql_creation_table)\n",
    "        conn.commit()\n",
    "    except psycopg2.Error as e:\n",
    "        print(\"Erreur lors de la création de la table\")\n",
    "        print(e)\n",
    "        return\n",
    "    cursor.close()\n",
    "    print(\"La table a été crée avec succès\")"
   ]
  },
  {
   "cell_type": "code",
   "execution_count": 6,
   "id": "abroad-combat",
   "metadata": {},
   "outputs": [],
   "source": [
    "sql_creer_table_calendar = \"\"\"\n",
    "    CREATE TABLE IF NOT EXISTS calendar (\n",
    "    date_naissance date,\n",
    "    date_mort date\n",
    "    );\n",
    "\"\"\""
   ]
  },
  {
   "cell_type": "code",
   "execution_count": 7,
   "id": "capital-sullivan",
   "metadata": {},
   "outputs": [
    {
     "name": "stdout",
     "output_type": "stream",
     "text": [
      "La table a été crée avec succès\n"
     ]
    }
   ],
   "source": [
    "creer_table(conn, sql_creer_table_calendar)"
   ]
  },
  {
   "cell_type": "code",
   "execution_count": 16,
   "id": "casual-brown",
   "metadata": {},
   "outputs": [],
   "source": [
    "data = {'date_naissance':  ['0100-01-01', '-0100-01-01'],\n",
    "        'date_mort': ['0200-01-01', '0000-01-01']\n",
    "        }\n",
    "\n",
    "df = pd.DataFrame(data, columns = ['date_naissance','date_mort'])\n"
   ]
  },
  {
   "cell_type": "code",
   "execution_count": 17,
   "id": "sticky-roulette",
   "metadata": {},
   "outputs": [
    {
     "data": {
      "text/html": [
       "<div>\n",
       "<style scoped>\n",
       "    .dataframe tbody tr th:only-of-type {\n",
       "        vertical-align: middle;\n",
       "    }\n",
       "\n",
       "    .dataframe tbody tr th {\n",
       "        vertical-align: top;\n",
       "    }\n",
       "\n",
       "    .dataframe thead th {\n",
       "        text-align: right;\n",
       "    }\n",
       "</style>\n",
       "<table border=\"1\" class=\"dataframe\">\n",
       "  <thead>\n",
       "    <tr style=\"text-align: right;\">\n",
       "      <th></th>\n",
       "      <th>date_naissance</th>\n",
       "      <th>date_mort</th>\n",
       "    </tr>\n",
       "  </thead>\n",
       "  <tbody>\n",
       "    <tr>\n",
       "      <th>0</th>\n",
       "      <td>0100-01-01</td>\n",
       "      <td>0200-01-01</td>\n",
       "    </tr>\n",
       "    <tr>\n",
       "      <th>1</th>\n",
       "      <td>-0100-01-01</td>\n",
       "      <td>0000-01-01</td>\n",
       "    </tr>\n",
       "  </tbody>\n",
       "</table>\n",
       "</div>"
      ],
      "text/plain": [
       "  date_naissance   date_mort\n",
       "0     0100-01-01  0200-01-01\n",
       "1    -0100-01-01  0000-01-01"
      ]
     },
     "execution_count": 17,
     "metadata": {},
     "output_type": "execute_result"
    }
   ],
   "source": [
    "df"
   ]
  },
  {
   "cell_type": "code",
   "execution_count": 18,
   "id": "powerful-batch",
   "metadata": {},
   "outputs": [
    {
     "data": {
      "text/plain": [
       "0     0100-01-01\n",
       "1    -0100-01-01\n",
       "Name: date_naissance, dtype: object"
      ]
     },
     "execution_count": 18,
     "metadata": {},
     "output_type": "execute_result"
    }
   ],
   "source": [
    "df['date_naissance']"
   ]
  },
  {
   "cell_type": "code",
   "execution_count": 19,
   "id": "found-reviewer",
   "metadata": {},
   "outputs": [],
   "source": [
    "df = df.replace(r\"^-([0-9]*-[0-9]*-[0-9]*)$\", r\"\\1BC\", regex = True)\n",
    "df = df.replace(r\"^0000(-[0-9]*-[0-9]*)$\", r\"0001\\1BC\", regex = True)"
   ]
  },
  {
   "cell_type": "code",
   "execution_count": 20,
   "id": "moving-oracle",
   "metadata": {},
   "outputs": [
    {
     "data": {
      "text/html": [
       "<div>\n",
       "<style scoped>\n",
       "    .dataframe tbody tr th:only-of-type {\n",
       "        vertical-align: middle;\n",
       "    }\n",
       "\n",
       "    .dataframe tbody tr th {\n",
       "        vertical-align: top;\n",
       "    }\n",
       "\n",
       "    .dataframe thead th {\n",
       "        text-align: right;\n",
       "    }\n",
       "</style>\n",
       "<table border=\"1\" class=\"dataframe\">\n",
       "  <thead>\n",
       "    <tr style=\"text-align: right;\">\n",
       "      <th></th>\n",
       "      <th>date_naissance</th>\n",
       "      <th>date_mort</th>\n",
       "    </tr>\n",
       "  </thead>\n",
       "  <tbody>\n",
       "    <tr>\n",
       "      <th>0</th>\n",
       "      <td>0100-01-01</td>\n",
       "      <td>0200-01-01</td>\n",
       "    </tr>\n",
       "    <tr>\n",
       "      <th>1</th>\n",
       "      <td>0100-01-01BC</td>\n",
       "      <td>0001-01-01BC</td>\n",
       "    </tr>\n",
       "  </tbody>\n",
       "</table>\n",
       "</div>"
      ],
      "text/plain": [
       "  date_naissance     date_mort\n",
       "0     0100-01-01    0200-01-01\n",
       "1   0100-01-01BC  0001-01-01BC"
      ]
     },
     "execution_count": 20,
     "metadata": {},
     "output_type": "execute_result"
    }
   ],
   "source": [
    "df"
   ]
  },
  {
   "cell_type": "code",
   "execution_count": 21,
   "id": "overhead-holocaust",
   "metadata": {},
   "outputs": [],
   "source": [
    "sql_insert_calendar = \"\"\"INSERT INTO calendar (date_naissance, date_mort) VALUES (%s, %s)\"\"\""
   ]
  },
  {
   "cell_type": "code",
   "execution_count": 22,
   "id": "surprising-jason",
   "metadata": {},
   "outputs": [],
   "source": [
    "conn = psycopg2.connect(\n",
    "   database=\"testrome\", user='postgres', password=mot_passe, host='localhost', port= '5432'\n",
    ")\n",
    "conn.autocommit = True\n",
    "\n",
    "cursor = conn.cursor()\n",
    "\n",
    "for index, row in df.iterrows():\n",
    "    cursor.execute(sql_insert_calendar, tuple(row))"
   ]
  },
  {
   "cell_type": "code",
   "execution_count": null,
   "id": "practical-month",
   "metadata": {},
   "outputs": [],
   "source": []
  },
  {
   "cell_type": "code",
   "execution_count": null,
   "id": "color-plate",
   "metadata": {},
   "outputs": [],
   "source": []
  },
  {
   "cell_type": "code",
   "execution_count": null,
   "id": "accurate-camcorder",
   "metadata": {},
   "outputs": [],
   "source": []
  }
 ],
 "metadata": {
  "kernelspec": {
   "display_name": "Python 3",
   "language": "python",
   "name": "python3"
  },
  "language_info": {
   "codemirror_mode": {
    "name": "ipython",
    "version": 3
   },
   "file_extension": ".py",
   "mimetype": "text/x-python",
   "name": "python",
   "nbconvert_exporter": "python",
   "pygments_lexer": "ipython3",
   "version": "3.8.6"
  }
 },
 "nbformat": 4,
 "nbformat_minor": 5
}
