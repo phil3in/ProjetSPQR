{
 "cells": [
  {
   "cell_type": "markdown",
   "id": "removed-sitting",
   "metadata": {},
   "source": [
    "## Requêtes SQL"
   ]
  },
  {
   "cell_type": "markdown",
   "id": "turkish-circus",
   "metadata": {},
   "source": [
    "### 1) Tous les empereurs romains"
   ]
  },
  {
   "cell_type": "markdown",
   "id": "personal-cutting",
   "metadata": {},
   "source": [
    "```sql\n",
    "SELECT DISTINCT personne.id, personne.nom_fr\n",
    "FROM personne\n",
    "INNER JOIN poste ON personne.id = poste.personne_id \n",
    "WHERE poste.poste = 'empereur romain'\n",
    "```"
   ]
  },
  {
   "cell_type": "markdown",
   "id": "average-silly",
   "metadata": {},
   "source": [
    "### 2) Toutes les femmes d'empereurs romains"
   ]
  },
  {
   "cell_type": "markdown",
   "id": "passive-first",
   "metadata": {},
   "source": [
    "```sql\n",
    "SELECT DISTINCT p2.id, p2.nom_fr\n",
    "FROM personne\n",
    "INNER JOIN poste ON personne.id = poste.personne_id\n",
    "INNER JOIN mariage ON personne.id = mariage.id_mari\n",
    "INNER JOIN personne p2 ON mariage.id_epouse = p2.id\n",
    "WHERE poste.poste = 'empereur romain'\n",
    "```"
   ]
  },
  {
   "cell_type": "markdown",
   "id": "double-african",
   "metadata": {},
   "source": [
    "### 3) Les familles les plus nombreuses"
   ]
  },
  {
   "cell_type": "markdown",
   "id": "russian-adoption",
   "metadata": {},
   "source": [
    "```sql\n",
    "SELECT DISTINCT personne.gens, COUNT(*)\n",
    "FROM personne\n",
    "GROUP BY personne.gens\n",
    "ORDER BY COUNT(*) DESC\n",
    "```"
   ]
  },
  {
   "cell_type": "markdown",
   "id": "multiple-inspection",
   "metadata": {},
   "source": [
    "### 4) Les familles les plus nombreuses parmi les sénateurs notables"
   ]
  },
  {
   "cell_type": "markdown",
   "id": "greater-pierce",
   "metadata": {},
   "source": [
    "```sql\n",
    "SELECT DISTINCT personne.gens, COUNT(*)\n",
    "FROM personne\n",
    "INNER JOIN poste ON personne.id = poste.personne_id\n",
    "WHERE poste.poste = 'sénateur romain'\n",
    "GROUP BY personne.gens\n",
    "ORDER BY COUNT(*) DESC\n",
    "```"
   ]
  },
  {
   "cell_type": "markdown",
   "id": "married-terrace",
   "metadata": {},
   "source": [
    "### 5) Nombre d'individus recensés par sexe"
   ]
  },
  {
   "cell_type": "markdown",
   "id": "round-laser",
   "metadata": {},
   "source": [
    "```sql\n",
    "SELECT DISTINCT personne.sexe, COUNT(*)\n",
    "from personne\n",
    "group by personne.sexe\n",
    "order by count(*) desc\n",
    "```"
   ]
  },
  {
   "cell_type": "markdown",
   "id": "blocked-petroleum",
   "metadata": {},
   "source": [
    "### 6) A la recherche de l'individu intersexué"
   ]
  },
  {
   "cell_type": "markdown",
   "id": "numerous-nomination",
   "metadata": {},
   "source": [
    "```sql\n",
    "SELECT personne.id, personne.nom_fr, personne.sexe, personne.date_naissance, personne.date_mort\n",
    "from personne\n",
    "where personne.sexe = 'intersexuation'\n",
    "```"
   ]
  },
  {
   "cell_type": "code",
   "execution_count": null,
   "id": "coated-minnesota",
   "metadata": {},
   "outputs": [],
   "source": []
  }
 ],
 "metadata": {
  "kernelspec": {
   "display_name": "Python 3",
   "language": "python",
   "name": "python3"
  },
  "language_info": {
   "codemirror_mode": {
    "name": "ipython",
    "version": 3
   },
   "file_extension": ".py",
   "mimetype": "text/x-python",
   "name": "python",
   "nbconvert_exporter": "python",
   "pygments_lexer": "ipython3",
   "version": "3.8.6"
  }
 },
 "nbformat": 4,
 "nbformat_minor": 5
}
